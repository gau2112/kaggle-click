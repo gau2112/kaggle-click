{
 "metadata": {
  "name": "",
  "signature": "sha256:57d6b2475f3566b6a0d8ed91126f77fba883c3942c56f66c955fc9c46cd5241f"
 },
 "nbformat": 3,
 "nbformat_minor": 0,
 "worksheets": [
  {
   "cells": [
    {
     "cell_type": "raw",
     "metadata": {},
     "source": [
      "vowpal wabbit:\n",
      "The format of training and testing data file is:\n",
      "\n",
      "[Label] [Importance [Tag]]|Namespace Features |Namespace Features ... |Namespace Features\n",
      "Namespace=String[:Value]\n",
      "Features=(String[:Value] )*\n",
      "\n",
      "Label is the real number that we are trying to predict for this example. If the label is omitted, then no training will be performed with the corresponding example, although VW will still compute a prediction.  classification: {+1,-1} \n",
      "Importance (importance weight) is a non-negative real number indicating the relative importance of this example over the others. Omitting this gives a default importance of 1 to the example.\n",
      "Tag is a string that serves as an identifier for the example. It is reported back when predictions are made. It doesn't have to be unique. The default value if it is not provided is the empty string. If you provide a tag without a weight you need to disambiguate: either make the tag touch the | (no trailing spaces) or mark it with a leading single-quote '. If you don't provide a tag, you need to have a space before the |.\n",
      "Namespace is an identifier of a source of information for the example optionally followed by a float (e.g., MetricFeatures:3.28), which acts as a global scaling of all the values of the features in this namespace. If value is omitted, the default is 1. It is important that the namespace not have a space between the separator | as otherwise it is interpreted as a feature.\n",
      "Features is a sequence of whitespace separated strings, each of which is optionally followed by a float (e.g., NumberOfLegs:4.0 HasStripes). Each string is a feature and the value is the feature value for that example. Omitting a feature means that its value is zero. Including a feature but omitting its value means that its value is 1."
     ]
    },
    {
     "cell_type": "markdown",
     "metadata": {},
     "source": [
      "The csv data have been saved in hdf5"
     ]
    },
    {
     "cell_type": "code",
     "collapsed": false,
     "input": [
      "import tables\n",
      "import time\n",
      "import numpy as np\n",
      "import cPickle\n",
      "from itertools import izip"
     ],
     "language": "python",
     "metadata": {},
     "outputs": [],
     "prompt_number": 1
    },
    {
     "cell_type": "code",
     "collapsed": false,
     "input": [
      "file_handler = tables.open_file(\"click_data.h5\", mode = \"r\")"
     ],
     "language": "python",
     "metadata": {},
     "outputs": [],
     "prompt_number": 2
    },
    {
     "cell_type": "code",
     "collapsed": false,
     "input": [
      "X = file_handler.root.train.train_raw.X"
     ],
     "language": "python",
     "metadata": {},
     "outputs": [],
     "prompt_number": 3
    },
    {
     "cell_type": "code",
     "collapsed": false,
     "input": [
      "y = file_handler.root.train.train_raw.y"
     ],
     "language": "python",
     "metadata": {},
     "outputs": [],
     "prompt_number": 4
    },
    {
     "cell_type": "code",
     "collapsed": false,
     "input": [
      "X_t = file_handler.root.test.test_raw.X_t"
     ],
     "language": "python",
     "metadata": {},
     "outputs": [],
     "prompt_number": 5
    },
    {
     "cell_type": "heading",
     "level": 3,
     "metadata": {},
     "source": [
      "training data"
     ]
    },
    {
     "cell_type": "code",
     "collapsed": false,
     "input": [
      "colnames = X.colnames"
     ],
     "language": "python",
     "metadata": {},
     "outputs": [],
     "prompt_number": 6
    },
    {
     "cell_type": "code",
     "collapsed": false,
     "input": [
      "lines = X.shape[0]"
     ],
     "language": "python",
     "metadata": {},
     "outputs": [],
     "prompt_number": 7
    },
    {
     "cell_type": "code",
     "collapsed": false,
     "input": [
      "%%time\n",
      "i = 0\n",
      "with open('train.vw', 'wb') as fw:\n",
      "    for row, target in izip(X.iterrows(),y.iterrows()):\n",
      "        out = \"{0} |\".format(target[0]*2-1)\n",
      "        for name in colnames:\n",
      "            value = str(row[name])\n",
      "            out += \" {0}_{1}\".format(name, value)\n",
      "        out += '\\n'\n",
      "        fw.write(out)\n",
      "        \n",
      "        i+=1\n",
      "        if (i % 1000000) == 0:\n",
      "            print \"{0} lines of {1} written ({2}%)\".format(i, lines, 100*i/lines)"
     ],
     "language": "python",
     "metadata": {},
     "outputs": [
      {
       "output_type": "stream",
       "stream": "stdout",
       "text": [
        "1000000 lines of 40428967 written (2%)\n",
        "2000000 lines of 40428967 written (4%)"
       ]
      },
      {
       "output_type": "stream",
       "stream": "stdout",
       "text": [
        "\n",
        "3000000 lines of 40428967 written (7%)"
       ]
      },
      {
       "output_type": "stream",
       "stream": "stdout",
       "text": [
        "\n",
        "4000000 lines of 40428967 written (9%)"
       ]
      },
      {
       "output_type": "stream",
       "stream": "stdout",
       "text": [
        "\n",
        "5000000 lines of 40428967 written (12%)"
       ]
      },
      {
       "output_type": "stream",
       "stream": "stdout",
       "text": [
        "\n",
        "6000000 lines of 40428967 written (14%)"
       ]
      },
      {
       "output_type": "stream",
       "stream": "stdout",
       "text": [
        "\n",
        "7000000 lines of 40428967 written (17%)"
       ]
      },
      {
       "output_type": "stream",
       "stream": "stdout",
       "text": [
        "\n",
        "8000000 lines of 40428967 written (19%)"
       ]
      },
      {
       "output_type": "stream",
       "stream": "stdout",
       "text": [
        "\n",
        "9000000 lines of 40428967 written (22%)"
       ]
      },
      {
       "output_type": "stream",
       "stream": "stdout",
       "text": [
        "\n",
        "10000000 lines of 40428967 written (24%)"
       ]
      },
      {
       "output_type": "stream",
       "stream": "stdout",
       "text": [
        "\n",
        "11000000 lines of 40428967 written (27%)"
       ]
      },
      {
       "output_type": "stream",
       "stream": "stdout",
       "text": [
        "\n",
        "12000000 lines of 40428967 written (29%)"
       ]
      },
      {
       "output_type": "stream",
       "stream": "stdout",
       "text": [
        "\n",
        "13000000 lines of 40428967 written (32%)"
       ]
      },
      {
       "output_type": "stream",
       "stream": "stdout",
       "text": [
        "\n",
        "14000000 lines of 40428967 written (34%)"
       ]
      },
      {
       "output_type": "stream",
       "stream": "stdout",
       "text": [
        "\n",
        "15000000 lines of 40428967 written (37%)"
       ]
      },
      {
       "output_type": "stream",
       "stream": "stdout",
       "text": [
        "\n",
        "16000000 lines of 40428967 written (39%)"
       ]
      },
      {
       "output_type": "stream",
       "stream": "stdout",
       "text": [
        "\n",
        "17000000 lines of 40428967 written (42%)"
       ]
      },
      {
       "output_type": "stream",
       "stream": "stdout",
       "text": [
        "\n",
        "18000000 lines of 40428967 written (44%)"
       ]
      },
      {
       "output_type": "stream",
       "stream": "stdout",
       "text": [
        "\n",
        "19000000 lines of 40428967 written (46%)"
       ]
      },
      {
       "output_type": "stream",
       "stream": "stdout",
       "text": [
        "\n",
        "20000000 lines of 40428967 written (49%)"
       ]
      },
      {
       "output_type": "stream",
       "stream": "stdout",
       "text": [
        "\n",
        "21000000 lines of 40428967 written (51%)"
       ]
      },
      {
       "output_type": "stream",
       "stream": "stdout",
       "text": [
        "\n",
        "22000000 lines of 40428967 written (54%)"
       ]
      },
      {
       "output_type": "stream",
       "stream": "stdout",
       "text": [
        "\n",
        "23000000 lines of 40428967 written (56%)"
       ]
      },
      {
       "output_type": "stream",
       "stream": "stdout",
       "text": [
        "\n",
        "24000000 lines of 40428967 written (59%)"
       ]
      },
      {
       "output_type": "stream",
       "stream": "stdout",
       "text": [
        "\n",
        "25000000 lines of 40428967 written (61%)"
       ]
      },
      {
       "output_type": "stream",
       "stream": "stdout",
       "text": [
        "\n",
        "26000000 lines of 40428967 written (64%)"
       ]
      },
      {
       "output_type": "stream",
       "stream": "stdout",
       "text": [
        "\n",
        "27000000 lines of 40428967 written (66%)"
       ]
      },
      {
       "output_type": "stream",
       "stream": "stdout",
       "text": [
        "\n",
        "28000000 lines of 40428967 written (69%)"
       ]
      },
      {
       "output_type": "stream",
       "stream": "stdout",
       "text": [
        "\n",
        "29000000 lines of 40428967 written (71%)"
       ]
      },
      {
       "output_type": "stream",
       "stream": "stdout",
       "text": [
        "\n",
        "30000000 lines of 40428967 written (74%)"
       ]
      },
      {
       "output_type": "stream",
       "stream": "stdout",
       "text": [
        "\n",
        "31000000 lines of 40428967 written (76%)"
       ]
      },
      {
       "output_type": "stream",
       "stream": "stdout",
       "text": [
        "\n",
        "32000000 lines of 40428967 written (79%)"
       ]
      },
      {
       "output_type": "stream",
       "stream": "stdout",
       "text": [
        "\n",
        "33000000 lines of 40428967 written (81%)"
       ]
      },
      {
       "output_type": "stream",
       "stream": "stdout",
       "text": [
        "\n",
        "34000000 lines of 40428967 written (84%)"
       ]
      },
      {
       "output_type": "stream",
       "stream": "stdout",
       "text": [
        "\n",
        "35000000 lines of 40428967 written (86%)"
       ]
      },
      {
       "output_type": "stream",
       "stream": "stdout",
       "text": [
        "\n",
        "36000000 lines of 40428967 written (89%)"
       ]
      },
      {
       "output_type": "stream",
       "stream": "stdout",
       "text": [
        "\n",
        "37000000 lines of 40428967 written (91%)"
       ]
      },
      {
       "output_type": "stream",
       "stream": "stdout",
       "text": [
        "\n",
        "38000000 lines of 40428967 written (93%)"
       ]
      },
      {
       "output_type": "stream",
       "stream": "stdout",
       "text": [
        "\n",
        "39000000 lines of 40428967 written (96%)"
       ]
      },
      {
       "output_type": "stream",
       "stream": "stdout",
       "text": [
        "\n",
        "40000000 lines of 40428967 written (98%)"
       ]
      },
      {
       "output_type": "stream",
       "stream": "stdout",
       "text": [
        "\n",
        "CPU times: user 15min 36s, sys: 13.6 s, total: 15min 50s"
       ]
      },
      {
       "output_type": "stream",
       "stream": "stdout",
       "text": [
        "\n",
        "Wall time: 19min\n"
       ]
      }
     ],
     "prompt_number": 8
    },
    {
     "cell_type": "heading",
     "level": 4,
     "metadata": {},
     "source": [
      "with namespace"
     ]
    },
    {
     "cell_type": "code",
     "collapsed": false,
     "input": [
      "timelist = ['day','hour']\n",
      "ban = ['banner_pos']\n",
      "site = ['site_id', 'site_domain', 'site_category']\n",
      "app = ['app_id', 'app_domain', 'app_category']\n",
      "device = ['device_id', 'device_ip', 'device_model', 'device_type', 'device_conn_type']\n",
      "clist = ['C1', 'C14', 'C15', 'C16', 'C17', 'C18', 'C19', 'C20', 'C21']"
     ],
     "language": "python",
     "metadata": {},
     "outputs": [],
     "prompt_number": 8
    },
    {
     "cell_type": "code",
     "collapsed": false,
     "input": [
      "%%time\n",
      "i = 0\n",
      "with open('train.vw', 'wb') as fw:\n",
      "    for row, target in izip(X.iterrows(),y.iterrows()):\n",
      "        out = \"{0}\".format(target[0]*2-1)\n",
      "        \n",
      "        out += \" |t\"\n",
      "        for name in timelist:\n",
      "            value = str(row[name])\n",
      "            out += \" {0}_{1}\".format(name, value)\n",
      "        \n",
      "        out += \" |b\"\n",
      "        for name in ban:\n",
      "            value = str(row[name])\n",
      "            out += \" {0}_{1}\".format(name, value)\n",
      "            \n",
      "        out += \" |s\"\n",
      "        for name in site:\n",
      "            value = str(row[name])\n",
      "            out += \" {0}_{1}\".format(name, value)\n",
      "            \n",
      "        out += \" |a\"\n",
      "        for name in app:\n",
      "            value = str(row[name])\n",
      "            out += \" {0}_{1}\".format(name, value)\n",
      "            \n",
      "        out += \" |d\"\n",
      "        for name in device:\n",
      "            value = str(row[name])\n",
      "            out += \" {0}_{1}\".format(name, value)\n",
      "            \n",
      "        out += \" |c\"\n",
      "        for name in clist:\n",
      "            value = str(row[name])\n",
      "            out += \" {0}_{1}\".format(name, value)\n",
      "             \n",
      "        out += '\\n'\n",
      "        fw.write(out)\n",
      "        \n",
      "        i+=1\n",
      "        \n",
      "        if (i % 1000000) == 0:\n",
      "            print \"{0} lines of {1} written ({2}%)\".format(i, lines, 100*i/lines)"
     ],
     "language": "python",
     "metadata": {},
     "outputs": [
      {
       "output_type": "stream",
       "stream": "stdout",
       "text": [
        "1000000 lines of 40428967 written (2%)\n",
        "2000000 lines of 40428967 written (4%)"
       ]
      },
      {
       "output_type": "stream",
       "stream": "stdout",
       "text": [
        "\n",
        "3000000 lines of 40428967 written (7%)"
       ]
      },
      {
       "output_type": "stream",
       "stream": "stdout",
       "text": [
        "\n",
        "4000000 lines of 40428967 written (9%)"
       ]
      },
      {
       "output_type": "stream",
       "stream": "stdout",
       "text": [
        "\n",
        "5000000 lines of 40428967 written (12%)"
       ]
      },
      {
       "output_type": "stream",
       "stream": "stdout",
       "text": [
        "\n",
        "6000000 lines of 40428967 written (14%)"
       ]
      },
      {
       "output_type": "stream",
       "stream": "stdout",
       "text": [
        "\n",
        "7000000 lines of 40428967 written (17%)"
       ]
      },
      {
       "output_type": "stream",
       "stream": "stdout",
       "text": [
        "\n",
        "8000000 lines of 40428967 written (19%)"
       ]
      },
      {
       "output_type": "stream",
       "stream": "stdout",
       "text": [
        "\n",
        "9000000 lines of 40428967 written (22%)"
       ]
      },
      {
       "output_type": "stream",
       "stream": "stdout",
       "text": [
        "\n",
        "10000000 lines of 40428967 written (24%)"
       ]
      },
      {
       "output_type": "stream",
       "stream": "stdout",
       "text": [
        "\n",
        "11000000 lines of 40428967 written (27%)"
       ]
      },
      {
       "output_type": "stream",
       "stream": "stdout",
       "text": [
        "\n",
        "12000000 lines of 40428967 written (29%)"
       ]
      },
      {
       "output_type": "stream",
       "stream": "stdout",
       "text": [
        "\n",
        "13000000 lines of 40428967 written (32%)"
       ]
      },
      {
       "output_type": "stream",
       "stream": "stdout",
       "text": [
        "\n",
        "14000000 lines of 40428967 written (34%)"
       ]
      },
      {
       "output_type": "stream",
       "stream": "stdout",
       "text": [
        "\n",
        "15000000 lines of 40428967 written (37%)"
       ]
      },
      {
       "output_type": "stream",
       "stream": "stdout",
       "text": [
        "\n",
        "16000000 lines of 40428967 written (39%)"
       ]
      },
      {
       "output_type": "stream",
       "stream": "stdout",
       "text": [
        "\n",
        "17000000 lines of 40428967 written (42%)"
       ]
      },
      {
       "output_type": "stream",
       "stream": "stdout",
       "text": [
        "\n",
        "18000000 lines of 40428967 written (44%)"
       ]
      },
      {
       "output_type": "stream",
       "stream": "stdout",
       "text": [
        "\n",
        "19000000 lines of 40428967 written (46%)"
       ]
      },
      {
       "output_type": "stream",
       "stream": "stdout",
       "text": [
        "\n",
        "20000000 lines of 40428967 written (49%)"
       ]
      },
      {
       "output_type": "stream",
       "stream": "stdout",
       "text": [
        "\n",
        "21000000 lines of 40428967 written (51%)"
       ]
      },
      {
       "output_type": "stream",
       "stream": "stdout",
       "text": [
        "\n",
        "22000000 lines of 40428967 written (54%)"
       ]
      },
      {
       "output_type": "stream",
       "stream": "stdout",
       "text": [
        "\n",
        "23000000 lines of 40428967 written (56%)"
       ]
      },
      {
       "output_type": "stream",
       "stream": "stdout",
       "text": [
        "\n",
        "24000000 lines of 40428967 written (59%)"
       ]
      },
      {
       "output_type": "stream",
       "stream": "stdout",
       "text": [
        "\n",
        "25000000 lines of 40428967 written (61%)"
       ]
      },
      {
       "output_type": "stream",
       "stream": "stdout",
       "text": [
        "\n",
        "26000000 lines of 40428967 written (64%)"
       ]
      },
      {
       "output_type": "stream",
       "stream": "stdout",
       "text": [
        "\n",
        "27000000 lines of 40428967 written (66%)"
       ]
      },
      {
       "output_type": "stream",
       "stream": "stdout",
       "text": [
        "\n",
        "28000000 lines of 40428967 written (69%)"
       ]
      },
      {
       "output_type": "stream",
       "stream": "stdout",
       "text": [
        "\n",
        "29000000 lines of 40428967 written (71%)"
       ]
      },
      {
       "output_type": "stream",
       "stream": "stdout",
       "text": [
        "\n",
        "30000000 lines of 40428967 written (74%)"
       ]
      },
      {
       "output_type": "stream",
       "stream": "stdout",
       "text": [
        "\n",
        "31000000 lines of 40428967 written (76%)"
       ]
      },
      {
       "output_type": "stream",
       "stream": "stdout",
       "text": [
        "\n",
        "32000000 lines of 40428967 written (79%)"
       ]
      },
      {
       "output_type": "stream",
       "stream": "stdout",
       "text": [
        "\n",
        "33000000 lines of 40428967 written (81%)"
       ]
      },
      {
       "output_type": "stream",
       "stream": "stdout",
       "text": [
        "\n",
        "34000000 lines of 40428967 written (84%)"
       ]
      },
      {
       "output_type": "stream",
       "stream": "stdout",
       "text": [
        "\n",
        "35000000 lines of 40428967 written (86%)"
       ]
      },
      {
       "output_type": "stream",
       "stream": "stdout",
       "text": [
        "\n",
        "36000000 lines of 40428967 written (89%)"
       ]
      },
      {
       "output_type": "stream",
       "stream": "stdout",
       "text": [
        "\n",
        "37000000 lines of 40428967 written (91%)"
       ]
      },
      {
       "output_type": "stream",
       "stream": "stdout",
       "text": [
        "\n",
        "38000000 lines of 40428967 written (93%)"
       ]
      },
      {
       "output_type": "stream",
       "stream": "stdout",
       "text": [
        "\n",
        "39000000 lines of 40428967 written (96%)"
       ]
      },
      {
       "output_type": "stream",
       "stream": "stdout",
       "text": [
        "\n",
        "40000000 lines of 40428967 written (98%)"
       ]
      },
      {
       "output_type": "stream",
       "stream": "stdout",
       "text": [
        "\n",
        "CPU times: user 16min 9s, sys: 13.3 s, total: 16min 22s"
       ]
      },
      {
       "output_type": "stream",
       "stream": "stdout",
       "text": [
        "\n",
        "Wall time: 19min 31s\n"
       ]
      }
     ],
     "prompt_number": 9
    },
    {
     "cell_type": "heading",
     "level": 4,
     "metadata": {},
     "source": [
      "with one hot encoding some features"
     ]
    },
    {
     "cell_type": "code",
     "collapsed": false,
     "input": [
      "f = open('indexdiconehot.pkl', 'rb')\n",
      "indexdic = cPickle.load(f)\n",
      "f.close()"
     ],
     "language": "python",
     "metadata": {},
     "outputs": [],
     "prompt_number": 9
    },
    {
     "cell_type": "code",
     "collapsed": false,
     "input": [
      "names = set(['day', 'hour', 'banner_pos', 'site_category', 'app_category', \n",
      "         'device_type', 'device_conn_type', \n",
      "         'C1', 'C15', 'C16', 'C18', 'C20'])"
     ],
     "language": "python",
     "metadata": {},
     "outputs": [],
     "prompt_number": 10
    },
    {
     "cell_type": "code",
     "collapsed": false,
     "input": [
      "%%time\n",
      "i = 0\n",
      "with open('train1.vw', 'wb') as fw:\n",
      "    for row, target in izip(X.iterrows(),y.iterrows()):\n",
      "        out = \"{0}\".format(target[0]*2-1)\n",
      "        \n",
      "        out += \" |t\"\n",
      "        for name in timelist:\n",
      "            value = str(row[name])\n",
      "            if name in names:\n",
      "                out += \" {0}\".format(indexdic[name][value])\n",
      "            else:\n",
      "                out += \" {0}_{1}\".format(name, value)\n",
      "        \n",
      "        out += \" |b\"\n",
      "        for name in ban:\n",
      "            value = str(row[name])\n",
      "            if name in names:\n",
      "                out += \" {0}\".format(indexdic[name][value])\n",
      "            else:\n",
      "                out += \" {0}_{1}\".format(name, value)\n",
      "            \n",
      "        out += \" |s\"\n",
      "        for name in site:\n",
      "            value = str(row[name])\n",
      "            if name in names:\n",
      "                out += \" {0}\".format(indexdic[name][value])\n",
      "            else:\n",
      "                out += \" {0}_{1}\".format(name, value)\n",
      "            \n",
      "        out += \" |a\"\n",
      "        for name in app:\n",
      "            value = str(row[name])\n",
      "            if name in names:\n",
      "                out += \" {0}\".format(indexdic[name][value])\n",
      "            else:\n",
      "                out += \" {0}_{1}\".format(name, value)\n",
      "            \n",
      "        out += \" |d\"\n",
      "        for name in device:\n",
      "            value = str(row[name])\n",
      "            if name in names:\n",
      "                out += \" {0}\".format(indexdic[name][value])\n",
      "            else:\n",
      "                out += \" {0}_{1}\".format(name, value)\n",
      "            \n",
      "        out += \" |c\"\n",
      "        for name in clist:\n",
      "            value = str(row[name])\n",
      "            if name in names:\n",
      "                out += \" {0}\".format(indexdic[name][value])\n",
      "            else:\n",
      "                out += \" {0}_{1}\".format(name, value)\n",
      "             \n",
      "        out += '\\n'\n",
      "        fw.write(out)\n",
      "        \n",
      "        i+=1\n",
      "        \n",
      "        if (i % 1000000) == 0:\n",
      "            print \"{0} lines of {1} written ({2}%)\".format(i, lines, 100*i/lines)"
     ],
     "language": "python",
     "metadata": {},
     "outputs": [
      {
       "output_type": "stream",
       "stream": "stdout",
       "text": [
        "1000000 lines of 40428967 written (2%)\n",
        "2000000 lines of 40428967 written (4%)"
       ]
      },
      {
       "output_type": "stream",
       "stream": "stdout",
       "text": [
        "\n",
        "3000000 lines of 40428967 written (7%)"
       ]
      },
      {
       "output_type": "stream",
       "stream": "stdout",
       "text": [
        "\n",
        "4000000 lines of 40428967 written (9%)"
       ]
      },
      {
       "output_type": "stream",
       "stream": "stdout",
       "text": [
        "\n",
        "5000000 lines of 40428967 written (12%)"
       ]
      },
      {
       "output_type": "stream",
       "stream": "stdout",
       "text": [
        "\n",
        "6000000 lines of 40428967 written (14%)"
       ]
      },
      {
       "output_type": "stream",
       "stream": "stdout",
       "text": [
        "\n",
        "7000000 lines of 40428967 written (17%)"
       ]
      },
      {
       "output_type": "stream",
       "stream": "stdout",
       "text": [
        "\n",
        "8000000 lines of 40428967 written (19%)"
       ]
      },
      {
       "output_type": "stream",
       "stream": "stdout",
       "text": [
        "\n",
        "9000000 lines of 40428967 written (22%)"
       ]
      },
      {
       "output_type": "stream",
       "stream": "stdout",
       "text": [
        "\n",
        "10000000 lines of 40428967 written (24%)"
       ]
      },
      {
       "output_type": "stream",
       "stream": "stdout",
       "text": [
        "\n",
        "11000000 lines of 40428967 written (27%)"
       ]
      },
      {
       "output_type": "stream",
       "stream": "stdout",
       "text": [
        "\n",
        "12000000 lines of 40428967 written (29%)"
       ]
      },
      {
       "output_type": "stream",
       "stream": "stdout",
       "text": [
        "\n",
        "13000000 lines of 40428967 written (32%)"
       ]
      },
      {
       "output_type": "stream",
       "stream": "stdout",
       "text": [
        "\n",
        "14000000 lines of 40428967 written (34%)"
       ]
      },
      {
       "output_type": "stream",
       "stream": "stdout",
       "text": [
        "\n",
        "15000000 lines of 40428967 written (37%)"
       ]
      },
      {
       "output_type": "stream",
       "stream": "stdout",
       "text": [
        "\n",
        "16000000 lines of 40428967 written (39%)"
       ]
      },
      {
       "output_type": "stream",
       "stream": "stdout",
       "text": [
        "\n",
        "17000000 lines of 40428967 written (42%)"
       ]
      },
      {
       "output_type": "stream",
       "stream": "stdout",
       "text": [
        "\n",
        "18000000 lines of 40428967 written (44%)"
       ]
      },
      {
       "output_type": "stream",
       "stream": "stdout",
       "text": [
        "\n",
        "19000000 lines of 40428967 written (46%)"
       ]
      },
      {
       "output_type": "stream",
       "stream": "stdout",
       "text": [
        "\n",
        "20000000 lines of 40428967 written (49%)"
       ]
      },
      {
       "output_type": "stream",
       "stream": "stdout",
       "text": [
        "\n",
        "21000000 lines of 40428967 written (51%)"
       ]
      },
      {
       "output_type": "stream",
       "stream": "stdout",
       "text": [
        "\n",
        "22000000 lines of 40428967 written (54%)"
       ]
      },
      {
       "output_type": "stream",
       "stream": "stdout",
       "text": [
        "\n",
        "23000000 lines of 40428967 written (56%)"
       ]
      },
      {
       "output_type": "stream",
       "stream": "stdout",
       "text": [
        "\n",
        "24000000 lines of 40428967 written (59%)"
       ]
      },
      {
       "output_type": "stream",
       "stream": "stdout",
       "text": [
        "\n",
        "25000000 lines of 40428967 written (61%)"
       ]
      },
      {
       "output_type": "stream",
       "stream": "stdout",
       "text": [
        "\n",
        "26000000 lines of 40428967 written (64%)"
       ]
      },
      {
       "output_type": "stream",
       "stream": "stdout",
       "text": [
        "\n",
        "27000000 lines of 40428967 written (66%)"
       ]
      },
      {
       "output_type": "stream",
       "stream": "stdout",
       "text": [
        "\n",
        "28000000 lines of 40428967 written (69%)"
       ]
      },
      {
       "output_type": "stream",
       "stream": "stdout",
       "text": [
        "\n",
        "29000000 lines of 40428967 written (71%)"
       ]
      },
      {
       "output_type": "stream",
       "stream": "stdout",
       "text": [
        "\n",
        "30000000 lines of 40428967 written (74%)"
       ]
      },
      {
       "output_type": "stream",
       "stream": "stdout",
       "text": [
        "\n",
        "31000000 lines of 40428967 written (76%)"
       ]
      },
      {
       "output_type": "stream",
       "stream": "stdout",
       "text": [
        "\n",
        "32000000 lines of 40428967 written (79%)"
       ]
      },
      {
       "output_type": "stream",
       "stream": "stdout",
       "text": [
        "\n",
        "33000000 lines of 40428967 written (81%)"
       ]
      },
      {
       "output_type": "stream",
       "stream": "stdout",
       "text": [
        "\n",
        "34000000 lines of 40428967 written (84%)"
       ]
      },
      {
       "output_type": "stream",
       "stream": "stdout",
       "text": [
        "\n",
        "35000000 lines of 40428967 written (86%)"
       ]
      },
      {
       "output_type": "stream",
       "stream": "stdout",
       "text": [
        "\n",
        "36000000 lines of 40428967 written (89%)"
       ]
      },
      {
       "output_type": "stream",
       "stream": "stdout",
       "text": [
        "\n",
        "37000000 lines of 40428967 written (91%)"
       ]
      },
      {
       "output_type": "stream",
       "stream": "stdout",
       "text": [
        "\n",
        "38000000 lines of 40428967 written (93%)"
       ]
      },
      {
       "output_type": "stream",
       "stream": "stdout",
       "text": [
        "\n",
        "39000000 lines of 40428967 written (96%)"
       ]
      },
      {
       "output_type": "stream",
       "stream": "stdout",
       "text": [
        "\n",
        "40000000 lines of 40428967 written (98%)"
       ]
      },
      {
       "output_type": "stream",
       "stream": "stdout",
       "text": [
        "\n",
        "CPU times: user 17min 58s, sys: 9.13 s, total: 18min 8s"
       ]
      },
      {
       "output_type": "stream",
       "stream": "stdout",
       "text": [
        "\n",
        "Wall time: 20min 39s\n"
       ]
      }
     ],
     "prompt_number": 11
    },
    {
     "cell_type": "heading",
     "level": 4,
     "metadata": {},
     "source": [
      "with one hot encoding all the features: version 1"
     ]
    },
    {
     "cell_type": "code",
     "collapsed": false,
     "input": [
      "f = open('indexdicless.pkl', 'rb')\n",
      "indexdic = cPickle.load(f)\n",
      "f.close()"
     ],
     "language": "python",
     "metadata": {},
     "outputs": [],
     "prompt_number": 9
    },
    {
     "cell_type": "code",
     "collapsed": true,
     "input": [
      "%%time\n",
      "i = 0\n",
      "with open('train2.vw', 'wb') as fw:\n",
      "    for row, target in izip(X.iterrows(),y.iterrows()):\n",
      "        out = \"{0}\".format(target[0]*2-1)\n",
      "        \n",
      "        out += \" |t\"\n",
      "        for name in timelist:\n",
      "            value = str(row[name])\n",
      "            if value in indexdic[name]:\n",
      "                out += \" {0}\".format(indexdic[name][value])\n",
      "            elif 'other' in indexdic[name]:\n",
      "                out += \" {0}\".format(indexdic[name]['other'])\n",
      "            else:\n",
      "                print 'error'\n",
      "                break\n",
      "\n",
      "        out += \" |b\"\n",
      "        for name in ban:\n",
      "            value = str(row[name])\n",
      "            if value in indexdic[name]:\n",
      "                out += \" {0}\".format(indexdic[name][value])\n",
      "            elif 'other' in indexdic[name]:\n",
      "                out += \" {0}\".format(indexdic[name]['other'])\n",
      "            else:\n",
      "                print 'error'\n",
      "                break\n",
      "            \n",
      "        out += \" |s\"\n",
      "        for name in site:\n",
      "            value = str(row[name])\n",
      "            if value in indexdic[name]:\n",
      "                out += \" {0}\".format(indexdic[name][value])\n",
      "            elif 'other' in indexdic[name]:\n",
      "                out += \" {0}\".format(indexdic[name]['other'])\n",
      "            else:\n",
      "                print 'error'\n",
      "                break\n",
      "            \n",
      "        out += \" |a\"\n",
      "        for name in app:\n",
      "            value = str(row[name])\n",
      "            if value in indexdic[name]:\n",
      "                out += \" {0}\".format(indexdic[name][value])\n",
      "            elif 'other' in indexdic[name]:\n",
      "                out += \" {0}\".format(indexdic[name]['other'])\n",
      "            else:\n",
      "                print 'error'\n",
      "                break\n",
      "            \n",
      "        out += \" |d\"\n",
      "        for name in device:\n",
      "            value = str(row[name])\n",
      "            if value in indexdic[name]:\n",
      "                out += \" {0}\".format(indexdic[name][value])\n",
      "            elif 'other' in indexdic[name]:\n",
      "                out += \" {0}\".format(indexdic[name]['other'])\n",
      "            else:\n",
      "                print 'error'\n",
      "                break\n",
      "            \n",
      "        out += \" |c\"\n",
      "        for name in clist:\n",
      "            value = str(row[name])\n",
      "            if value in indexdic[name]:\n",
      "                out += \" {0}\".format(indexdic[name][value])\n",
      "            elif 'other' in indexdic[name]:\n",
      "                out += \" {0}\".format(indexdic[name]['other'])\n",
      "            else:\n",
      "                print 'error'\n",
      "                break\n",
      "             \n",
      "        out += '\\n'\n",
      "        fw.write(out)\n",
      "            \n",
      "        i+=1\n",
      "        \n",
      "        if (i % 1000000) == 0:\n",
      "            print \"{0} lines of {1} written ({2}%)\".format(i, lines, 100*i/lines)"
     ],
     "language": "python",
     "metadata": {},
     "outputs": [
      {
       "output_type": "stream",
       "stream": "stdout",
       "text": [
        "1000000 lines of 40428967 written (2%)\n",
        "2000000 lines of 40428967 written (4%)"
       ]
      },
      {
       "output_type": "stream",
       "stream": "stdout",
       "text": [
        "\n",
        "3000000 lines of 40428967 written (7%)"
       ]
      },
      {
       "output_type": "stream",
       "stream": "stdout",
       "text": [
        "\n",
        "4000000 lines of 40428967 written (9%)"
       ]
      },
      {
       "output_type": "stream",
       "stream": "stdout",
       "text": [
        "\n",
        "5000000 lines of 40428967 written (12%)"
       ]
      },
      {
       "output_type": "stream",
       "stream": "stdout",
       "text": [
        "\n",
        "6000000 lines of 40428967 written (14%)"
       ]
      },
      {
       "output_type": "stream",
       "stream": "stdout",
       "text": [
        "\n",
        "7000000 lines of 40428967 written (17%)"
       ]
      },
      {
       "output_type": "stream",
       "stream": "stdout",
       "text": [
        "\n",
        "8000000 lines of 40428967 written (19%)"
       ]
      },
      {
       "output_type": "stream",
       "stream": "stdout",
       "text": [
        "\n",
        "9000000 lines of 40428967 written (22%)"
       ]
      },
      {
       "output_type": "stream",
       "stream": "stdout",
       "text": [
        "\n",
        "10000000 lines of 40428967 written (24%)"
       ]
      },
      {
       "output_type": "stream",
       "stream": "stdout",
       "text": [
        "\n",
        "11000000 lines of 40428967 written (27%)"
       ]
      },
      {
       "output_type": "stream",
       "stream": "stdout",
       "text": [
        "\n",
        "12000000 lines of 40428967 written (29%)"
       ]
      },
      {
       "output_type": "stream",
       "stream": "stdout",
       "text": [
        "\n",
        "13000000 lines of 40428967 written (32%)"
       ]
      },
      {
       "output_type": "stream",
       "stream": "stdout",
       "text": [
        "\n",
        "14000000 lines of 40428967 written (34%)"
       ]
      },
      {
       "output_type": "stream",
       "stream": "stdout",
       "text": [
        "\n",
        "15000000 lines of 40428967 written (37%)"
       ]
      },
      {
       "output_type": "stream",
       "stream": "stdout",
       "text": [
        "\n",
        "16000000 lines of 40428967 written (39%)"
       ]
      },
      {
       "output_type": "stream",
       "stream": "stdout",
       "text": [
        "\n",
        "17000000 lines of 40428967 written (42%)"
       ]
      },
      {
       "output_type": "stream",
       "stream": "stdout",
       "text": [
        "\n",
        "18000000 lines of 40428967 written (44%)"
       ]
      },
      {
       "output_type": "stream",
       "stream": "stdout",
       "text": [
        "\n",
        "19000000 lines of 40428967 written (46%)"
       ]
      },
      {
       "output_type": "stream",
       "stream": "stdout",
       "text": [
        "\n",
        "20000000 lines of 40428967 written (49%)"
       ]
      },
      {
       "output_type": "stream",
       "stream": "stdout",
       "text": [
        "\n",
        "21000000 lines of 40428967 written (51%)"
       ]
      },
      {
       "output_type": "stream",
       "stream": "stdout",
       "text": [
        "\n",
        "22000000 lines of 40428967 written (54%)"
       ]
      },
      {
       "output_type": "stream",
       "stream": "stdout",
       "text": [
        "\n",
        "23000000 lines of 40428967 written (56%)"
       ]
      },
      {
       "output_type": "stream",
       "stream": "stdout",
       "text": [
        "\n",
        "24000000 lines of 40428967 written (59%)"
       ]
      },
      {
       "output_type": "stream",
       "stream": "stdout",
       "text": [
        "\n",
        "25000000 lines of 40428967 written (61%)"
       ]
      },
      {
       "output_type": "stream",
       "stream": "stdout",
       "text": [
        "\n",
        "26000000 lines of 40428967 written (64%)"
       ]
      },
      {
       "output_type": "stream",
       "stream": "stdout",
       "text": [
        "\n",
        "27000000 lines of 40428967 written (66%)"
       ]
      },
      {
       "output_type": "stream",
       "stream": "stdout",
       "text": [
        "\n",
        "28000000 lines of 40428967 written (69%)"
       ]
      },
      {
       "output_type": "stream",
       "stream": "stdout",
       "text": [
        "\n",
        "29000000 lines of 40428967 written (71%)"
       ]
      },
      {
       "output_type": "stream",
       "stream": "stdout",
       "text": [
        "\n",
        "30000000 lines of 40428967 written (74%)"
       ]
      },
      {
       "output_type": "stream",
       "stream": "stdout",
       "text": [
        "\n",
        "31000000 lines of 40428967 written (76%)"
       ]
      },
      {
       "output_type": "stream",
       "stream": "stdout",
       "text": [
        "\n",
        "32000000 lines of 40428967 written (79%)"
       ]
      },
      {
       "output_type": "stream",
       "stream": "stdout",
       "text": [
        "\n",
        "33000000 lines of 40428967 written (81%)"
       ]
      },
      {
       "output_type": "stream",
       "stream": "stdout",
       "text": [
        "\n",
        "34000000 lines of 40428967 written (84%)"
       ]
      },
      {
       "output_type": "stream",
       "stream": "stdout",
       "text": [
        "\n",
        "35000000 lines of 40428967 written (86%)"
       ]
      },
      {
       "output_type": "stream",
       "stream": "stdout",
       "text": [
        "\n",
        "36000000 lines of 40428967 written (89%)"
       ]
      },
      {
       "output_type": "stream",
       "stream": "stdout",
       "text": [
        "\n",
        "37000000 lines of 40428967 written (91%)"
       ]
      },
      {
       "output_type": "stream",
       "stream": "stdout",
       "text": [
        "\n",
        "38000000 lines of 40428967 written (93%)"
       ]
      },
      {
       "output_type": "stream",
       "stream": "stdout",
       "text": [
        "\n",
        "39000000 lines of 40428967 written (96%)"
       ]
      },
      {
       "output_type": "stream",
       "stream": "stdout",
       "text": [
        "\n",
        "40000000 lines of 40428967 written (98%)"
       ]
      },
      {
       "output_type": "stream",
       "stream": "stdout",
       "text": [
        "\n",
        "CPU times: user 21min 2s, sys: 9.7 s, total: 21min 12s"
       ]
      },
      {
       "output_type": "stream",
       "stream": "stdout",
       "text": [
        "\n",
        "Wall time: 22min 45s\n"
       ]
      }
     ],
     "prompt_number": 10
    },
    {
     "cell_type": "heading",
     "level": 4,
     "metadata": {},
     "source": [
      "with one hot encoding all the features: version 2"
     ]
    },
    {
     "cell_type": "code",
     "collapsed": false,
     "input": [
      "f = open('indexdicless2.pkl', 'rb')\n",
      "indexdic = cPickle.load(f)\n",
      "f.close()"
     ],
     "language": "python",
     "metadata": {},
     "outputs": [],
     "prompt_number": 9
    },
    {
     "cell_type": "code",
     "collapsed": true,
     "input": [
      "%%time\n",
      "i = 0\n",
      "with open('train1.vw', 'wb') as fw:\n",
      "    for row, target in izip(X.iterrows(),y.iterrows()):\n",
      "        out = \"{0}\".format(target[0]*2-1)\n",
      "        \n",
      "        out += \" |t\"\n",
      "        for name in timelist:\n",
      "            value = str(row[name])\n",
      "            if value in indexdic[name]:\n",
      "                out += \" {0}\".format(indexdic[name][value])\n",
      "            elif 'other' in indexdic[name]:\n",
      "                out += \" {0}\".format(indexdic[name]['other'])\n",
      "            else:\n",
      "                print 'error'\n",
      "                break\n",
      "\n",
      "        out += \" |b\"\n",
      "        for name in ban:\n",
      "            value = str(row[name])\n",
      "            if value in indexdic[name]:\n",
      "                out += \" {0}\".format(indexdic[name][value])\n",
      "            elif 'other' in indexdic[name]:\n",
      "                out += \" {0}\".format(indexdic[name]['other'])\n",
      "            else:\n",
      "                print 'error'\n",
      "                break\n",
      "            \n",
      "        out += \" |s\"\n",
      "        for name in site:\n",
      "            value = str(row[name])\n",
      "            if value in indexdic[name]:\n",
      "                out += \" {0}\".format(indexdic[name][value])\n",
      "            elif 'other' in indexdic[name]:\n",
      "                out += \" {0}\".format(indexdic[name]['other'])\n",
      "            else:\n",
      "                print 'error'\n",
      "                break\n",
      "            \n",
      "        out += \" |a\"\n",
      "        for name in app:\n",
      "            value = str(row[name])\n",
      "            if value in indexdic[name]:\n",
      "                out += \" {0}\".format(indexdic[name][value])\n",
      "            elif 'other' in indexdic[name]:\n",
      "                out += \" {0}\".format(indexdic[name]['other'])\n",
      "            else:\n",
      "                print 'error'\n",
      "                break\n",
      "            \n",
      "        out += \" |d\"\n",
      "        for name in device:\n",
      "            value = str(row[name])\n",
      "            if value in indexdic[name]:\n",
      "                out += \" {0}\".format(indexdic[name][value])\n",
      "            elif 'other' in indexdic[name]:\n",
      "                out += \" {0}\".format(indexdic[name]['other'])\n",
      "            else:\n",
      "                print 'error'\n",
      "                break\n",
      "            \n",
      "        out += \" |c\"\n",
      "        for name in clist:\n",
      "            value = str(row[name])\n",
      "            if value in indexdic[name]:\n",
      "                out += \" {0}\".format(indexdic[name][value])\n",
      "            elif 'other' in indexdic[name]:\n",
      "                out += \" {0}\".format(indexdic[name]['other'])\n",
      "            else:\n",
      "                print 'error'\n",
      "                break\n",
      "             \n",
      "        out += '\\n'\n",
      "        fw.write(out)\n",
      "            \n",
      "        i+=1\n",
      "        \n",
      "        if (i % 1000000) == 0:\n",
      "            print \"{0} lines of {1} written ({2}%)\".format(i, lines, 100*i/lines)"
     ],
     "language": "python",
     "metadata": {},
     "outputs": [
      {
       "output_type": "stream",
       "stream": "stdout",
       "text": [
        "1000000 lines of 40428967 written (2%)\n",
        "2000000 lines of 40428967 written (4%)"
       ]
      },
      {
       "output_type": "stream",
       "stream": "stdout",
       "text": [
        "\n",
        "3000000 lines of 40428967 written (7%)"
       ]
      },
      {
       "output_type": "stream",
       "stream": "stdout",
       "text": [
        "\n",
        "4000000 lines of 40428967 written (9%)"
       ]
      },
      {
       "output_type": "stream",
       "stream": "stdout",
       "text": [
        "\n",
        "5000000 lines of 40428967 written (12%)"
       ]
      },
      {
       "output_type": "stream",
       "stream": "stdout",
       "text": [
        "\n",
        "6000000 lines of 40428967 written (14%)"
       ]
      },
      {
       "output_type": "stream",
       "stream": "stdout",
       "text": [
        "\n",
        "7000000 lines of 40428967 written (17%)"
       ]
      },
      {
       "output_type": "stream",
       "stream": "stdout",
       "text": [
        "\n",
        "8000000 lines of 40428967 written (19%)"
       ]
      },
      {
       "output_type": "stream",
       "stream": "stdout",
       "text": [
        "\n",
        "9000000 lines of 40428967 written (22%)"
       ]
      },
      {
       "output_type": "stream",
       "stream": "stdout",
       "text": [
        "\n",
        "10000000 lines of 40428967 written (24%)"
       ]
      },
      {
       "output_type": "stream",
       "stream": "stdout",
       "text": [
        "\n",
        "11000000 lines of 40428967 written (27%)"
       ]
      },
      {
       "output_type": "stream",
       "stream": "stdout",
       "text": [
        "\n",
        "12000000 lines of 40428967 written (29%)"
       ]
      },
      {
       "output_type": "stream",
       "stream": "stdout",
       "text": [
        "\n",
        "13000000 lines of 40428967 written (32%)"
       ]
      },
      {
       "output_type": "stream",
       "stream": "stdout",
       "text": [
        "\n",
        "14000000 lines of 40428967 written (34%)"
       ]
      },
      {
       "output_type": "stream",
       "stream": "stdout",
       "text": [
        "\n",
        "15000000 lines of 40428967 written (37%)"
       ]
      },
      {
       "output_type": "stream",
       "stream": "stdout",
       "text": [
        "\n",
        "16000000 lines of 40428967 written (39%)"
       ]
      },
      {
       "output_type": "stream",
       "stream": "stdout",
       "text": [
        "\n",
        "17000000 lines of 40428967 written (42%)"
       ]
      },
      {
       "output_type": "stream",
       "stream": "stdout",
       "text": [
        "\n",
        "18000000 lines of 40428967 written (44%)"
       ]
      },
      {
       "output_type": "stream",
       "stream": "stdout",
       "text": [
        "\n",
        "19000000 lines of 40428967 written (46%)"
       ]
      },
      {
       "output_type": "stream",
       "stream": "stdout",
       "text": [
        "\n",
        "20000000 lines of 40428967 written (49%)"
       ]
      },
      {
       "output_type": "stream",
       "stream": "stdout",
       "text": [
        "\n",
        "21000000 lines of 40428967 written (51%)"
       ]
      },
      {
       "output_type": "stream",
       "stream": "stdout",
       "text": [
        "\n",
        "22000000 lines of 40428967 written (54%)"
       ]
      },
      {
       "output_type": "stream",
       "stream": "stdout",
       "text": [
        "\n",
        "23000000 lines of 40428967 written (56%)"
       ]
      },
      {
       "output_type": "stream",
       "stream": "stdout",
       "text": [
        "\n",
        "24000000 lines of 40428967 written (59%)"
       ]
      },
      {
       "output_type": "stream",
       "stream": "stdout",
       "text": [
        "\n",
        "25000000 lines of 40428967 written (61%)"
       ]
      },
      {
       "output_type": "stream",
       "stream": "stdout",
       "text": [
        "\n",
        "26000000 lines of 40428967 written (64%)"
       ]
      },
      {
       "output_type": "stream",
       "stream": "stdout",
       "text": [
        "\n",
        "27000000 lines of 40428967 written (66%)"
       ]
      },
      {
       "output_type": "stream",
       "stream": "stdout",
       "text": [
        "\n",
        "28000000 lines of 40428967 written (69%)"
       ]
      },
      {
       "output_type": "stream",
       "stream": "stdout",
       "text": [
        "\n",
        "29000000 lines of 40428967 written (71%)"
       ]
      },
      {
       "output_type": "stream",
       "stream": "stdout",
       "text": [
        "\n",
        "30000000 lines of 40428967 written (74%)"
       ]
      },
      {
       "output_type": "stream",
       "stream": "stdout",
       "text": [
        "\n",
        "31000000 lines of 40428967 written (76%)"
       ]
      },
      {
       "output_type": "stream",
       "stream": "stdout",
       "text": [
        "\n",
        "32000000 lines of 40428967 written (79%)"
       ]
      },
      {
       "output_type": "stream",
       "stream": "stdout",
       "text": [
        "\n",
        "33000000 lines of 40428967 written (81%)"
       ]
      },
      {
       "output_type": "stream",
       "stream": "stdout",
       "text": [
        "\n",
        "34000000 lines of 40428967 written (84%)"
       ]
      },
      {
       "output_type": "stream",
       "stream": "stdout",
       "text": [
        "\n",
        "35000000 lines of 40428967 written (86%)"
       ]
      },
      {
       "output_type": "stream",
       "stream": "stdout",
       "text": [
        "\n",
        "36000000 lines of 40428967 written (89%)"
       ]
      },
      {
       "output_type": "stream",
       "stream": "stdout",
       "text": [
        "\n",
        "37000000 lines of 40428967 written (91%)"
       ]
      },
      {
       "output_type": "stream",
       "stream": "stdout",
       "text": [
        "\n",
        "38000000 lines of 40428967 written (93%)"
       ]
      },
      {
       "output_type": "stream",
       "stream": "stdout",
       "text": [
        "\n",
        "39000000 lines of 40428967 written (96%)"
       ]
      },
      {
       "output_type": "stream",
       "stream": "stdout",
       "text": [
        "\n",
        "40000000 lines of 40428967 written (98%)"
       ]
      },
      {
       "output_type": "stream",
       "stream": "stdout",
       "text": [
        "\n",
        "CPU times: user 21min 9s, sys: 11.2 s, total: 21min 20s"
       ]
      },
      {
       "output_type": "stream",
       "stream": "stdout",
       "text": [
        "\n",
        "Wall time: 22min 59s\n"
       ]
      }
     ],
     "prompt_number": 10
    },
    {
     "cell_type": "heading",
     "level": 4,
     "metadata": {},
     "source": [
      "with one hot encoding all the features: version 3"
     ]
    },
    {
     "cell_type": "code",
     "collapsed": false,
     "input": [
      "f = open('indexdicless3.pkl', 'rb')\n",
      "indexdic = cPickle.load(f)\n",
      "f.close()"
     ],
     "language": "python",
     "metadata": {},
     "outputs": [],
     "prompt_number": 9
    },
    {
     "cell_type": "code",
     "collapsed": false,
     "input": [
      "%%time\n",
      "i = 0\n",
      "with open('train1.vw', 'wb') as fw:\n",
      "    for row, target in izip(X.iterrows(),y.iterrows()):\n",
      "        out = \"{0}\".format(target[0]*2-1)\n",
      "        \n",
      "        out += \" |t\"\n",
      "        for name in timelist:\n",
      "            value = str(row[name])\n",
      "            if value in indexdic[name]:\n",
      "                out += \" {0}\".format(indexdic[name][value])\n",
      "            elif 'other' in indexdic[name]:\n",
      "                out += \" {0}\".format(indexdic[name]['other'])\n",
      "            else:\n",
      "                print 'error'\n",
      "                break\n",
      "\n",
      "        out += \" |b\"\n",
      "        for name in ban:\n",
      "            value = str(row[name])\n",
      "            if value in indexdic[name]:\n",
      "                out += \" {0}\".format(indexdic[name][value])\n",
      "            elif 'other' in indexdic[name]:\n",
      "                out += \" {0}\".format(indexdic[name]['other'])\n",
      "            else:\n",
      "                print 'error'\n",
      "                break\n",
      "            \n",
      "        out += \" |s\"\n",
      "        for name in site:\n",
      "            value = str(row[name])\n",
      "            if value in indexdic[name]:\n",
      "                out += \" {0}\".format(indexdic[name][value])\n",
      "            elif 'other' in indexdic[name]:\n",
      "                out += \" {0}\".format(indexdic[name]['other'])\n",
      "            else:\n",
      "                print 'error'\n",
      "                break\n",
      "            \n",
      "        out += \" |a\"\n",
      "        for name in app:\n",
      "            value = str(row[name])\n",
      "            if value in indexdic[name]:\n",
      "                out += \" {0}\".format(indexdic[name][value])\n",
      "            elif 'other' in indexdic[name]:\n",
      "                out += \" {0}\".format(indexdic[name]['other'])\n",
      "            else:\n",
      "                print 'error'\n",
      "                break\n",
      "            \n",
      "        out += \" |d\"\n",
      "        for name in device:\n",
      "            value = str(row[name])\n",
      "            if value in indexdic[name]:\n",
      "                out += \" {0}\".format(indexdic[name][value])\n",
      "            elif 'other' in indexdic[name]:\n",
      "                out += \" {0}\".format(indexdic[name]['other'])\n",
      "            else:\n",
      "                print 'error'\n",
      "                break\n",
      "            \n",
      "        out += \" |c\"\n",
      "        for name in clist:\n",
      "            value = str(row[name])\n",
      "            if value in indexdic[name]:\n",
      "                out += \" {0}\".format(indexdic[name][value])\n",
      "            elif 'other' in indexdic[name]:\n",
      "                out += \" {0}\".format(indexdic[name]['other'])\n",
      "            else:\n",
      "                print 'error'\n",
      "                break\n",
      "             \n",
      "        out += '\\n'\n",
      "        fw.write(out)\n",
      "            \n",
      "        i+=1\n",
      "        \n",
      "        if (i % 1000000) == 0:\n",
      "            print \"{0} lines of {1} written ({2}%)\".format(i, lines, 100*i/lines)"
     ],
     "language": "python",
     "metadata": {},
     "outputs": [
      {
       "output_type": "stream",
       "stream": "stdout",
       "text": [
        "1000000 lines of 40428967 written (2%)\n",
        "2000000 lines of 40428967 written (4%)"
       ]
      },
      {
       "output_type": "stream",
       "stream": "stdout",
       "text": [
        "\n",
        "3000000 lines of 40428967 written (7%)"
       ]
      },
      {
       "output_type": "stream",
       "stream": "stdout",
       "text": [
        "\n",
        "4000000 lines of 40428967 written (9%)"
       ]
      },
      {
       "output_type": "stream",
       "stream": "stdout",
       "text": [
        "\n",
        "5000000 lines of 40428967 written (12%)"
       ]
      },
      {
       "output_type": "stream",
       "stream": "stdout",
       "text": [
        "\n",
        "6000000 lines of 40428967 written (14%)"
       ]
      },
      {
       "output_type": "stream",
       "stream": "stdout",
       "text": [
        "\n",
        "7000000 lines of 40428967 written (17%)"
       ]
      },
      {
       "output_type": "stream",
       "stream": "stdout",
       "text": [
        "\n",
        "8000000 lines of 40428967 written (19%)"
       ]
      },
      {
       "output_type": "stream",
       "stream": "stdout",
       "text": [
        "\n",
        "9000000 lines of 40428967 written (22%)"
       ]
      },
      {
       "output_type": "stream",
       "stream": "stdout",
       "text": [
        "\n",
        "10000000 lines of 40428967 written (24%)"
       ]
      },
      {
       "output_type": "stream",
       "stream": "stdout",
       "text": [
        "\n",
        "11000000 lines of 40428967 written (27%)"
       ]
      },
      {
       "output_type": "stream",
       "stream": "stdout",
       "text": [
        "\n",
        "12000000 lines of 40428967 written (29%)"
       ]
      },
      {
       "output_type": "stream",
       "stream": "stdout",
       "text": [
        "\n",
        "13000000 lines of 40428967 written (32%)"
       ]
      },
      {
       "output_type": "stream",
       "stream": "stdout",
       "text": [
        "\n",
        "14000000 lines of 40428967 written (34%)"
       ]
      },
      {
       "output_type": "stream",
       "stream": "stdout",
       "text": [
        "\n",
        "15000000 lines of 40428967 written (37%)"
       ]
      },
      {
       "output_type": "stream",
       "stream": "stdout",
       "text": [
        "\n",
        "16000000 lines of 40428967 written (39%)"
       ]
      },
      {
       "output_type": "stream",
       "stream": "stdout",
       "text": [
        "\n",
        "17000000 lines of 40428967 written (42%)"
       ]
      },
      {
       "output_type": "stream",
       "stream": "stdout",
       "text": [
        "\n",
        "18000000 lines of 40428967 written (44%)"
       ]
      },
      {
       "output_type": "stream",
       "stream": "stdout",
       "text": [
        "\n",
        "19000000 lines of 40428967 written (46%)"
       ]
      },
      {
       "output_type": "stream",
       "stream": "stdout",
       "text": [
        "\n",
        "20000000 lines of 40428967 written (49%)"
       ]
      },
      {
       "output_type": "stream",
       "stream": "stdout",
       "text": [
        "\n",
        "21000000 lines of 40428967 written (51%)"
       ]
      },
      {
       "output_type": "stream",
       "stream": "stdout",
       "text": [
        "\n",
        "22000000 lines of 40428967 written (54%)"
       ]
      },
      {
       "output_type": "stream",
       "stream": "stdout",
       "text": [
        "\n",
        "23000000 lines of 40428967 written (56%)"
       ]
      },
      {
       "output_type": "stream",
       "stream": "stdout",
       "text": [
        "\n",
        "24000000 lines of 40428967 written (59%)"
       ]
      },
      {
       "output_type": "stream",
       "stream": "stdout",
       "text": [
        "\n",
        "25000000 lines of 40428967 written (61%)"
       ]
      },
      {
       "output_type": "stream",
       "stream": "stdout",
       "text": [
        "\n",
        "26000000 lines of 40428967 written (64%)"
       ]
      },
      {
       "output_type": "stream",
       "stream": "stdout",
       "text": [
        "\n",
        "27000000 lines of 40428967 written (66%)"
       ]
      },
      {
       "output_type": "stream",
       "stream": "stdout",
       "text": [
        "\n",
        "28000000 lines of 40428967 written (69%)"
       ]
      },
      {
       "output_type": "stream",
       "stream": "stdout",
       "text": [
        "\n",
        "29000000 lines of 40428967 written (71%)"
       ]
      },
      {
       "output_type": "stream",
       "stream": "stdout",
       "text": [
        "\n",
        "30000000 lines of 40428967 written (74%)"
       ]
      },
      {
       "output_type": "stream",
       "stream": "stdout",
       "text": [
        "\n",
        "31000000 lines of 40428967 written (76%)"
       ]
      },
      {
       "output_type": "stream",
       "stream": "stdout",
       "text": [
        "\n",
        "32000000 lines of 40428967 written (79%)"
       ]
      },
      {
       "output_type": "stream",
       "stream": "stdout",
       "text": [
        "\n",
        "33000000 lines of 40428967 written (81%)"
       ]
      },
      {
       "output_type": "stream",
       "stream": "stdout",
       "text": [
        "\n",
        "34000000 lines of 40428967 written (84%)"
       ]
      },
      {
       "output_type": "stream",
       "stream": "stdout",
       "text": [
        "\n",
        "35000000 lines of 40428967 written (86%)"
       ]
      },
      {
       "output_type": "stream",
       "stream": "stdout",
       "text": [
        "\n",
        "36000000 lines of 40428967 written (89%)"
       ]
      },
      {
       "output_type": "stream",
       "stream": "stdout",
       "text": [
        "\n",
        "37000000 lines of 40428967 written (91%)"
       ]
      },
      {
       "output_type": "stream",
       "stream": "stdout",
       "text": [
        "\n",
        "38000000 lines of 40428967 written (93%)"
       ]
      },
      {
       "output_type": "stream",
       "stream": "stdout",
       "text": [
        "\n",
        "39000000 lines of 40428967 written (96%)"
       ]
      },
      {
       "output_type": "stream",
       "stream": "stdout",
       "text": [
        "\n",
        "40000000 lines of 40428967 written (98%)"
       ]
      },
      {
       "output_type": "stream",
       "stream": "stdout",
       "text": [
        "\n",
        "CPU times: user 20min 47s, sys: 9.86 s, total: 20min 56s"
       ]
      },
      {
       "output_type": "stream",
       "stream": "stdout",
       "text": [
        "\n",
        "Wall time: 22min 35s\n"
       ]
      }
     ],
     "prompt_number": 10
    },
    {
     "cell_type": "heading",
     "level": 3,
     "metadata": {},
     "source": [
      "test data"
     ]
    },
    {
     "cell_type": "code",
     "collapsed": false,
     "input": [
      "colnames = X_t.colnames"
     ],
     "language": "python",
     "metadata": {},
     "outputs": [],
     "prompt_number": 11
    },
    {
     "cell_type": "code",
     "collapsed": false,
     "input": [
      "lines = X_t.shape[0]"
     ],
     "language": "python",
     "metadata": {},
     "outputs": [],
     "prompt_number": 12
    },
    {
     "cell_type": "code",
     "collapsed": true,
     "input": [
      "%%time\n",
      "i = 0\n",
      "with open('test.vw', 'wb') as fw:\n",
      "    for row in X_t.iterrows():\n",
      "        out = \" |\"\n",
      "        for name in colnames:\n",
      "            value = str(row[name])\n",
      "            out += \" {0}_{1}\".format(name, value)\n",
      "        out += '\\n'\n",
      "        fw.write(out)\n",
      "        \n",
      "        i+=1\n",
      "        if (i % 100000) == 0:\n",
      "            print \"{0} lines of {1} written ({2}%)\".format(i, lines, 100*i/lines)"
     ],
     "language": "python",
     "metadata": {},
     "outputs": [
      {
       "output_type": "stream",
       "stream": "stdout",
       "text": [
        "100000 lines of 4577464 written (2%)\n",
        "200000 lines of 4577464 written (4%)"
       ]
      },
      {
       "output_type": "stream",
       "stream": "stdout",
       "text": [
        "\n",
        "300000 lines of 4577464 written (6%)"
       ]
      },
      {
       "output_type": "stream",
       "stream": "stdout",
       "text": [
        "\n",
        "400000 lines of 4577464 written (8%)"
       ]
      },
      {
       "output_type": "stream",
       "stream": "stdout",
       "text": [
        "\n",
        "500000 lines of 4577464 written (10%)"
       ]
      },
      {
       "output_type": "stream",
       "stream": "stdout",
       "text": [
        "\n",
        "600000 lines of 4577464 written (13%)"
       ]
      },
      {
       "output_type": "stream",
       "stream": "stdout",
       "text": [
        "\n",
        "700000 lines of 4577464 written (15%)"
       ]
      },
      {
       "output_type": "stream",
       "stream": "stdout",
       "text": [
        "\n",
        "800000 lines of 4577464 written (17%)"
       ]
      },
      {
       "output_type": "stream",
       "stream": "stdout",
       "text": [
        "\n",
        "900000 lines of 4577464 written (19%)"
       ]
      },
      {
       "output_type": "stream",
       "stream": "stdout",
       "text": [
        "\n",
        "1000000 lines of 4577464 written (21%)"
       ]
      },
      {
       "output_type": "stream",
       "stream": "stdout",
       "text": [
        "\n",
        "1100000 lines of 4577464 written (24%)"
       ]
      },
      {
       "output_type": "stream",
       "stream": "stdout",
       "text": [
        "\n",
        "1200000 lines of 4577464 written (26%)"
       ]
      },
      {
       "output_type": "stream",
       "stream": "stdout",
       "text": [
        "\n",
        "1300000 lines of 4577464 written (28%)"
       ]
      },
      {
       "output_type": "stream",
       "stream": "stdout",
       "text": [
        "\n",
        "1400000 lines of 4577464 written (30%)"
       ]
      },
      {
       "output_type": "stream",
       "stream": "stdout",
       "text": [
        "\n",
        "1500000 lines of 4577464 written (32%)"
       ]
      },
      {
       "output_type": "stream",
       "stream": "stdout",
       "text": [
        "\n",
        "1600000 lines of 4577464 written (34%)"
       ]
      },
      {
       "output_type": "stream",
       "stream": "stdout",
       "text": [
        "\n",
        "1700000 lines of 4577464 written (37%)"
       ]
      },
      {
       "output_type": "stream",
       "stream": "stdout",
       "text": [
        "\n",
        "1800000 lines of 4577464 written (39%)"
       ]
      },
      {
       "output_type": "stream",
       "stream": "stdout",
       "text": [
        "\n",
        "1900000 lines of 4577464 written (41%)"
       ]
      },
      {
       "output_type": "stream",
       "stream": "stdout",
       "text": [
        "\n",
        "2000000 lines of 4577464 written (43%)"
       ]
      },
      {
       "output_type": "stream",
       "stream": "stdout",
       "text": [
        "\n",
        "2100000 lines of 4577464 written (45%)"
       ]
      },
      {
       "output_type": "stream",
       "stream": "stdout",
       "text": [
        "\n",
        "2200000 lines of 4577464 written (48%)"
       ]
      },
      {
       "output_type": "stream",
       "stream": "stdout",
       "text": [
        "\n",
        "2300000 lines of 4577464 written (50%)"
       ]
      },
      {
       "output_type": "stream",
       "stream": "stdout",
       "text": [
        "\n",
        "2400000 lines of 4577464 written (52%)"
       ]
      },
      {
       "output_type": "stream",
       "stream": "stdout",
       "text": [
        "\n",
        "2500000 lines of 4577464 written (54%)"
       ]
      },
      {
       "output_type": "stream",
       "stream": "stdout",
       "text": [
        "\n",
        "2600000 lines of 4577464 written (56%)"
       ]
      },
      {
       "output_type": "stream",
       "stream": "stdout",
       "text": [
        "\n",
        "2700000 lines of 4577464 written (58%)"
       ]
      },
      {
       "output_type": "stream",
       "stream": "stdout",
       "text": [
        "\n",
        "2800000 lines of 4577464 written (61%)"
       ]
      },
      {
       "output_type": "stream",
       "stream": "stdout",
       "text": [
        "\n",
        "2900000 lines of 4577464 written (63%)"
       ]
      },
      {
       "output_type": "stream",
       "stream": "stdout",
       "text": [
        "\n",
        "3000000 lines of 4577464 written (65%)"
       ]
      },
      {
       "output_type": "stream",
       "stream": "stdout",
       "text": [
        "\n",
        "3100000 lines of 4577464 written (67%)"
       ]
      },
      {
       "output_type": "stream",
       "stream": "stdout",
       "text": [
        "\n",
        "3200000 lines of 4577464 written (69%)"
       ]
      },
      {
       "output_type": "stream",
       "stream": "stdout",
       "text": [
        "\n",
        "3300000 lines of 4577464 written (72%)"
       ]
      },
      {
       "output_type": "stream",
       "stream": "stdout",
       "text": [
        "\n",
        "3400000 lines of 4577464 written (74%)"
       ]
      },
      {
       "output_type": "stream",
       "stream": "stdout",
       "text": [
        "\n",
        "3500000 lines of 4577464 written (76%)"
       ]
      },
      {
       "output_type": "stream",
       "stream": "stdout",
       "text": [
        "\n",
        "3600000 lines of 4577464 written (78%)"
       ]
      },
      {
       "output_type": "stream",
       "stream": "stdout",
       "text": [
        "\n",
        "3700000 lines of 4577464 written (80%)"
       ]
      },
      {
       "output_type": "stream",
       "stream": "stdout",
       "text": [
        "\n",
        "3800000 lines of 4577464 written (83%)"
       ]
      },
      {
       "output_type": "stream",
       "stream": "stdout",
       "text": [
        "\n",
        "3900000 lines of 4577464 written (85%)"
       ]
      },
      {
       "output_type": "stream",
       "stream": "stdout",
       "text": [
        "\n",
        "4000000 lines of 4577464 written (87%)"
       ]
      },
      {
       "output_type": "stream",
       "stream": "stdout",
       "text": [
        "\n",
        "4100000 lines of 4577464 written (89%)"
       ]
      },
      {
       "output_type": "stream",
       "stream": "stdout",
       "text": [
        "\n",
        "4200000 lines of 4577464 written (91%)"
       ]
      },
      {
       "output_type": "stream",
       "stream": "stdout",
       "text": [
        "\n",
        "4300000 lines of 4577464 written (93%)"
       ]
      },
      {
       "output_type": "stream",
       "stream": "stdout",
       "text": [
        "\n",
        "4400000 lines of 4577464 written (96%)"
       ]
      },
      {
       "output_type": "stream",
       "stream": "stdout",
       "text": [
        "\n",
        "4500000 lines of 4577464 written (98%)"
       ]
      },
      {
       "output_type": "stream",
       "stream": "stdout",
       "text": [
        "\n",
        "CPU times: user 1min 25s, sys: 1.6 s, total: 1min 27s"
       ]
      },
      {
       "output_type": "stream",
       "stream": "stdout",
       "text": [
        "\n",
        "Wall time: 1min 48s\n"
       ]
      }
     ],
     "prompt_number": 11
    },
    {
     "cell_type": "heading",
     "level": 4,
     "metadata": {},
     "source": [
      "with namespace"
     ]
    },
    {
     "cell_type": "code",
     "collapsed": false,
     "input": [
      "timelist = ['day','hour']\n",
      "ban = ['banner_pos']\n",
      "site = ['site_id', 'site_domain', 'site_category']\n",
      "app = ['app_id', 'app_domain', 'app_category']\n",
      "device = ['device_id', 'device_ip', 'device_model', 'device_type', 'device_conn_type']\n",
      "clist = ['C1', 'C14', 'C15', 'C16', 'C17', 'C18', 'C19', 'C20', 'C21']"
     ],
     "language": "python",
     "metadata": {},
     "outputs": [],
     "prompt_number": 13
    },
    {
     "cell_type": "code",
     "collapsed": true,
     "input": [
      "%%time\n",
      "i = 0\n",
      "with open('test.vw', 'wb') as fw:\n",
      "    for row in X_t.iterrows():\n",
      "        out = \" \"\n",
      "        \n",
      "        out += \" |t\"\n",
      "        for name in timelist:\n",
      "            value = str(row[name])\n",
      "            out += \" {0}_{1}\".format(name, value)\n",
      "        \n",
      "        out += \" |b\"\n",
      "        for name in ban:\n",
      "            value = str(row[name])\n",
      "            out += \" {0}_{1}\".format(name, value)\n",
      "            \n",
      "        out += \" |s\"\n",
      "        for name in site:\n",
      "            value = str(row[name])\n",
      "            out += \" {0}_{1}\".format(name, value)\n",
      "            \n",
      "        out += \" |a\"\n",
      "        for name in app:\n",
      "            value = str(row[name])\n",
      "            out += \" {0}_{1}\".format(name, value)\n",
      "            \n",
      "        out += \" |d\"\n",
      "        for name in device:\n",
      "            value = str(row[name])\n",
      "            out += \" {0}_{1}\".format(name, value)\n",
      "            \n",
      "        out += \" |c\"\n",
      "        for name in clist:\n",
      "            value = str(row[name])\n",
      "            out += \" {0}_{1}\".format(name, value)\n",
      "            \n",
      "        out += '\\n'\n",
      "        fw.write(out)\n",
      "        \n",
      "        i+=1\n",
      "        \n",
      "        if (i % 100000) == 0:\n",
      "            print \"{0} lines of {1} written ({2}%)\".format(i, lines, 100*i/lines)"
     ],
     "language": "python",
     "metadata": {},
     "outputs": [
      {
       "output_type": "stream",
       "stream": "stdout",
       "text": [
        "100000 lines of 4577464 written (2%)\n",
        "200000 lines of 4577464 written (4%)"
       ]
      },
      {
       "output_type": "stream",
       "stream": "stdout",
       "text": [
        "\n",
        "300000 lines of 4577464 written (6%)"
       ]
      },
      {
       "output_type": "stream",
       "stream": "stdout",
       "text": [
        "\n",
        "400000 lines of 4577464 written (8%)"
       ]
      },
      {
       "output_type": "stream",
       "stream": "stdout",
       "text": [
        "\n",
        "500000 lines of 4577464 written (10%)"
       ]
      },
      {
       "output_type": "stream",
       "stream": "stdout",
       "text": [
        "\n",
        "600000 lines of 4577464 written (13%)"
       ]
      },
      {
       "output_type": "stream",
       "stream": "stdout",
       "text": [
        "\n",
        "700000 lines of 4577464 written (15%)"
       ]
      },
      {
       "output_type": "stream",
       "stream": "stdout",
       "text": [
        "\n",
        "800000 lines of 4577464 written (17%)"
       ]
      },
      {
       "output_type": "stream",
       "stream": "stdout",
       "text": [
        "\n",
        "900000 lines of 4577464 written (19%)"
       ]
      },
      {
       "output_type": "stream",
       "stream": "stdout",
       "text": [
        "\n",
        "1000000 lines of 4577464 written (21%)"
       ]
      },
      {
       "output_type": "stream",
       "stream": "stdout",
       "text": [
        "\n",
        "1100000 lines of 4577464 written (24%)"
       ]
      },
      {
       "output_type": "stream",
       "stream": "stdout",
       "text": [
        "\n",
        "1200000 lines of 4577464 written (26%)"
       ]
      },
      {
       "output_type": "stream",
       "stream": "stdout",
       "text": [
        "\n",
        "1300000 lines of 4577464 written (28%)"
       ]
      },
      {
       "output_type": "stream",
       "stream": "stdout",
       "text": [
        "\n",
        "1400000 lines of 4577464 written (30%)"
       ]
      },
      {
       "output_type": "stream",
       "stream": "stdout",
       "text": [
        "\n",
        "1500000 lines of 4577464 written (32%)"
       ]
      },
      {
       "output_type": "stream",
       "stream": "stdout",
       "text": [
        "\n",
        "1600000 lines of 4577464 written (34%)"
       ]
      },
      {
       "output_type": "stream",
       "stream": "stdout",
       "text": [
        "\n",
        "1700000 lines of 4577464 written (37%)"
       ]
      },
      {
       "output_type": "stream",
       "stream": "stdout",
       "text": [
        "\n",
        "1800000 lines of 4577464 written (39%)"
       ]
      },
      {
       "output_type": "stream",
       "stream": "stdout",
       "text": [
        "\n",
        "1900000 lines of 4577464 written (41%)"
       ]
      },
      {
       "output_type": "stream",
       "stream": "stdout",
       "text": [
        "\n",
        "2000000 lines of 4577464 written (43%)"
       ]
      },
      {
       "output_type": "stream",
       "stream": "stdout",
       "text": [
        "\n",
        "2100000 lines of 4577464 written (45%)"
       ]
      },
      {
       "output_type": "stream",
       "stream": "stdout",
       "text": [
        "\n",
        "2200000 lines of 4577464 written (48%)"
       ]
      },
      {
       "output_type": "stream",
       "stream": "stdout",
       "text": [
        "\n",
        "2300000 lines of 4577464 written (50%)"
       ]
      },
      {
       "output_type": "stream",
       "stream": "stdout",
       "text": [
        "\n",
        "2400000 lines of 4577464 written (52%)"
       ]
      },
      {
       "output_type": "stream",
       "stream": "stdout",
       "text": [
        "\n",
        "2500000 lines of 4577464 written (54%)"
       ]
      },
      {
       "output_type": "stream",
       "stream": "stdout",
       "text": [
        "\n",
        "2600000 lines of 4577464 written (56%)"
       ]
      },
      {
       "output_type": "stream",
       "stream": "stdout",
       "text": [
        "\n",
        "2700000 lines of 4577464 written (58%)"
       ]
      },
      {
       "output_type": "stream",
       "stream": "stdout",
       "text": [
        "\n",
        "2800000 lines of 4577464 written (61%)"
       ]
      },
      {
       "output_type": "stream",
       "stream": "stdout",
       "text": [
        "\n",
        "2900000 lines of 4577464 written (63%)"
       ]
      },
      {
       "output_type": "stream",
       "stream": "stdout",
       "text": [
        "\n",
        "3000000 lines of 4577464 written (65%)"
       ]
      },
      {
       "output_type": "stream",
       "stream": "stdout",
       "text": [
        "\n",
        "3100000 lines of 4577464 written (67%)"
       ]
      },
      {
       "output_type": "stream",
       "stream": "stdout",
       "text": [
        "\n",
        "3200000 lines of 4577464 written (69%)"
       ]
      },
      {
       "output_type": "stream",
       "stream": "stdout",
       "text": [
        "\n",
        "3300000 lines of 4577464 written (72%)"
       ]
      },
      {
       "output_type": "stream",
       "stream": "stdout",
       "text": [
        "\n",
        "3400000 lines of 4577464 written (74%)"
       ]
      },
      {
       "output_type": "stream",
       "stream": "stdout",
       "text": [
        "\n",
        "3500000 lines of 4577464 written (76%)"
       ]
      },
      {
       "output_type": "stream",
       "stream": "stdout",
       "text": [
        "\n",
        "3600000 lines of 4577464 written (78%)"
       ]
      },
      {
       "output_type": "stream",
       "stream": "stdout",
       "text": [
        "\n",
        "3700000 lines of 4577464 written (80%)"
       ]
      },
      {
       "output_type": "stream",
       "stream": "stdout",
       "text": [
        "\n",
        "3800000 lines of 4577464 written (83%)"
       ]
      },
      {
       "output_type": "stream",
       "stream": "stdout",
       "text": [
        "\n",
        "3900000 lines of 4577464 written (85%)"
       ]
      },
      {
       "output_type": "stream",
       "stream": "stdout",
       "text": [
        "\n",
        "4000000 lines of 4577464 written (87%)"
       ]
      },
      {
       "output_type": "stream",
       "stream": "stdout",
       "text": [
        "\n",
        "4100000 lines of 4577464 written (89%)"
       ]
      },
      {
       "output_type": "stream",
       "stream": "stdout",
       "text": [
        "\n",
        "4200000 lines of 4577464 written (91%)"
       ]
      },
      {
       "output_type": "stream",
       "stream": "stdout",
       "text": [
        "\n",
        "4300000 lines of 4577464 written (93%)"
       ]
      },
      {
       "output_type": "stream",
       "stream": "stdout",
       "text": [
        "\n",
        "4400000 lines of 4577464 written (96%)"
       ]
      },
      {
       "output_type": "stream",
       "stream": "stdout",
       "text": [
        "\n",
        "4500000 lines of 4577464 written (98%)"
       ]
      },
      {
       "output_type": "stream",
       "stream": "stdout",
       "text": [
        "\n",
        "CPU times: user 1min 24s, sys: 1.12 s, total: 1min 25s"
       ]
      },
      {
       "output_type": "stream",
       "stream": "stdout",
       "text": [
        "\n",
        "Wall time: 1min 47s\n"
       ]
      }
     ],
     "prompt_number": 13
    },
    {
     "cell_type": "heading",
     "level": 4,
     "metadata": {},
     "source": [
      "with one hot encoding some features"
     ]
    },
    {
     "cell_type": "code",
     "collapsed": false,
     "input": [
      "f = open('indexdiconehot.pkl', 'rb')\n",
      "indexdic = cPickle.load(f)\n",
      "f.close()"
     ],
     "language": "python",
     "metadata": {},
     "outputs": []
    },
    {
     "cell_type": "code",
     "collapsed": false,
     "input": [
      "names = set(['day', 'hour', 'banner_pos', 'site_category', 'app_category', \n",
      "         'device_type', 'device_conn_type', \n",
      "         'C1', 'C15', 'C16', 'C18', 'C20'])"
     ],
     "language": "python",
     "metadata": {},
     "outputs": []
    },
    {
     "cell_type": "code",
     "collapsed": false,
     "input": [
      "%%time\n",
      "i = 0\n",
      "with open('test1.vw', 'wb') as fw:\n",
      "    for row in X_t.iterrows():\n",
      "        out = \" \"\n",
      "        \n",
      "        out += \" |t\"\n",
      "        for name in timelist:\n",
      "            value = str(row[name])\n",
      "            if name in names:\n",
      "                out += \" {0}\".format(indexdic[name][value])\n",
      "            else:\n",
      "                out += \" {0}_{1}\".format(name, value)\n",
      "        \n",
      "        out += \" |b\"\n",
      "        for name in ban:\n",
      "            value = str(row[name])\n",
      "            if name in names:\n",
      "                out += \" {0}\".format(indexdic[name][value])\n",
      "            else:\n",
      "                out += \" {0}_{1}\".format(name, value)\n",
      "            \n",
      "        out += \" |s\"\n",
      "        for name in site:\n",
      "            value = str(row[name])\n",
      "            if name in names:\n",
      "                out += \" {0}\".format(indexdic[name][value])\n",
      "            else:\n",
      "                out += \" {0}_{1}\".format(name, value)\n",
      "            \n",
      "        out += \" |a\"\n",
      "        for name in app:\n",
      "            value = str(row[name])\n",
      "            if name in names:\n",
      "                out += \" {0}\".format(indexdic[name][value])\n",
      "            else:\n",
      "                out += \" {0}_{1}\".format(name, value)\n",
      "            \n",
      "        out += \" |d\"\n",
      "        for name in device:\n",
      "            value = str(row[name])\n",
      "            if name in names:\n",
      "                out += \" {0}\".format(indexdic[name][value])\n",
      "            else:\n",
      "                out += \" {0}_{1}\".format(name, value)\n",
      "            \n",
      "        out += \" |c\"\n",
      "        for name in clist:\n",
      "            value = str(row[name])\n",
      "            if name in names:\n",
      "                out += \" {0}\".format(indexdic[name][value])\n",
      "            else:\n",
      "                out += \" {0}_{1}\".format(name, value)\n",
      "            \n",
      "        out += '\\n'\n",
      "        fw.write(out)\n",
      "        \n",
      "        i+=1\n",
      "        \n",
      "        if (i % 100000) == 0:\n",
      "            print \"{0} lines of {1} written ({2}%)\".format(i, lines, 100*i/lines)"
     ],
     "language": "python",
     "metadata": {},
     "outputs": []
    },
    {
     "cell_type": "code",
     "collapsed": false,
     "input": [],
     "language": "python",
     "metadata": {},
     "outputs": []
    },
    {
     "cell_type": "heading",
     "level": 4,
     "metadata": {},
     "source": [
      "with one hot encoding all the features: version 1"
     ]
    },
    {
     "cell_type": "code",
     "collapsed": true,
     "input": [
      "%%time\n",
      "i = 0\n",
      "with open('test2.vw', 'wb') as fw:\n",
      "    for row in X_t.iterrows():\n",
      "        out = \" \"\n",
      "        \n",
      "        out += \" |t\"\n",
      "        for name in timelist:\n",
      "            value = str(row[name])\n",
      "            if value in indexdic[name]:\n",
      "                out += \" {0}\".format(indexdic[name][value])\n",
      "            elif 'other' in indexdic[name]:\n",
      "                out += \" {0}\".format(indexdic[name]['other'])\n",
      "            else:\n",
      "                out += \" {0}\".format(617958)\n",
      "\n",
      "        out += \" |b\"\n",
      "        for name in ban:\n",
      "            value = str(row[name])\n",
      "            if value in indexdic[name]:\n",
      "                out += \" {0}\".format(indexdic[name][value])\n",
      "            elif 'other' in indexdic[name]:\n",
      "                out += \" {0}\".format(indexdic[name]['other'])\n",
      "            else:\n",
      "                out += \" {0}\".format(617958)\n",
      "            \n",
      "        out += \" |s\"\n",
      "        for name in site:\n",
      "            value = str(row[name])\n",
      "            if value in indexdic[name]:\n",
      "                out += \" {0}\".format(indexdic[name][value])\n",
      "            elif 'other' in indexdic[name]:\n",
      "                out += \" {0}\".format(indexdic[name]['other'])\n",
      "            else:\n",
      "                out += \" {0}\".format(617958)\n",
      "            \n",
      "        out += \" |a\"\n",
      "        for name in app:\n",
      "            value = str(row[name])\n",
      "            if value in indexdic[name]:\n",
      "                out += \" {0}\".format(indexdic[name][value])\n",
      "            elif 'other' in indexdic[name]:\n",
      "                out += \" {0}\".format(indexdic[name]['other'])\n",
      "            else:\n",
      "                out += \" {0}\".format(617958)\n",
      "            \n",
      "        out += \" |d\"\n",
      "        for name in device:\n",
      "            value = str(row[name])\n",
      "            if value in indexdic[name]:\n",
      "                out += \" {0}\".format(indexdic[name][value])\n",
      "            elif 'other' in indexdic[name]:\n",
      "                out += \" {0}\".format(indexdic[name]['other'])\n",
      "            else:\n",
      "                out += \" {0}\".format(617958)\n",
      "            \n",
      "        out += \" |c\"\n",
      "        for name in clist:\n",
      "            value = str(row[name])\n",
      "            if value in indexdic[name]:\n",
      "                out += \" {0}\".format(indexdic[name][value])\n",
      "            elif 'other' in indexdic[name]:\n",
      "                out += \" {0}\".format(indexdic[name]['other'])\n",
      "            else:\n",
      "                out += \" {0}\".format(617958)\n",
      "             \n",
      "        out += '\\n'\n",
      "        fw.write(out)\n",
      "            \n",
      "        i+=1\n",
      "        \n",
      "        if (i % 100000) == 0:\n",
      "            print \"{0} lines of {1} written ({2}%)\".format(i, lines, 100*i/lines)"
     ],
     "language": "python",
     "metadata": {},
     "outputs": [
      {
       "output_type": "stream",
       "stream": "stdout",
       "text": [
        "100000 lines of 4577464 written (2%)\n",
        "200000 lines of 4577464 written (4%)"
       ]
      },
      {
       "output_type": "stream",
       "stream": "stdout",
       "text": [
        "\n",
        "300000 lines of 4577464 written (6%)"
       ]
      },
      {
       "output_type": "stream",
       "stream": "stdout",
       "text": [
        "\n",
        "400000 lines of 4577464 written (8%)"
       ]
      },
      {
       "output_type": "stream",
       "stream": "stdout",
       "text": [
        "\n",
        "500000 lines of 4577464 written (10%)"
       ]
      },
      {
       "output_type": "stream",
       "stream": "stdout",
       "text": [
        "\n",
        "600000 lines of 4577464 written (13%)"
       ]
      },
      {
       "output_type": "stream",
       "stream": "stdout",
       "text": [
        "\n",
        "700000 lines of 4577464 written (15%)"
       ]
      },
      {
       "output_type": "stream",
       "stream": "stdout",
       "text": [
        "\n",
        "800000 lines of 4577464 written (17%)"
       ]
      },
      {
       "output_type": "stream",
       "stream": "stdout",
       "text": [
        "\n",
        "900000 lines of 4577464 written (19%)"
       ]
      },
      {
       "output_type": "stream",
       "stream": "stdout",
       "text": [
        "\n",
        "1000000 lines of 4577464 written (21%)"
       ]
      },
      {
       "output_type": "stream",
       "stream": "stdout",
       "text": [
        "\n",
        "1100000 lines of 4577464 written (24%)"
       ]
      },
      {
       "output_type": "stream",
       "stream": "stdout",
       "text": [
        "\n",
        "1200000 lines of 4577464 written (26%)"
       ]
      },
      {
       "output_type": "stream",
       "stream": "stdout",
       "text": [
        "\n",
        "1300000 lines of 4577464 written (28%)"
       ]
      },
      {
       "output_type": "stream",
       "stream": "stdout",
       "text": [
        "\n",
        "1400000 lines of 4577464 written (30%)"
       ]
      },
      {
       "output_type": "stream",
       "stream": "stdout",
       "text": [
        "\n",
        "1500000 lines of 4577464 written (32%)"
       ]
      },
      {
       "output_type": "stream",
       "stream": "stdout",
       "text": [
        "\n",
        "1600000 lines of 4577464 written (34%)"
       ]
      },
      {
       "output_type": "stream",
       "stream": "stdout",
       "text": [
        "\n",
        "1700000 lines of 4577464 written (37%)"
       ]
      },
      {
       "output_type": "stream",
       "stream": "stdout",
       "text": [
        "\n",
        "1800000 lines of 4577464 written (39%)"
       ]
      },
      {
       "output_type": "stream",
       "stream": "stdout",
       "text": [
        "\n",
        "1900000 lines of 4577464 written (41%)"
       ]
      },
      {
       "output_type": "stream",
       "stream": "stdout",
       "text": [
        "\n",
        "2000000 lines of 4577464 written (43%)"
       ]
      },
      {
       "output_type": "stream",
       "stream": "stdout",
       "text": [
        "\n",
        "2100000 lines of 4577464 written (45%)"
       ]
      },
      {
       "output_type": "stream",
       "stream": "stdout",
       "text": [
        "\n",
        "2200000 lines of 4577464 written (48%)"
       ]
      },
      {
       "output_type": "stream",
       "stream": "stdout",
       "text": [
        "\n",
        "2300000 lines of 4577464 written (50%)"
       ]
      },
      {
       "output_type": "stream",
       "stream": "stdout",
       "text": [
        "\n",
        "2400000 lines of 4577464 written (52%)"
       ]
      },
      {
       "output_type": "stream",
       "stream": "stdout",
       "text": [
        "\n",
        "2500000 lines of 4577464 written (54%)"
       ]
      },
      {
       "output_type": "stream",
       "stream": "stdout",
       "text": [
        "\n",
        "2600000 lines of 4577464 written (56%)"
       ]
      },
      {
       "output_type": "stream",
       "stream": "stdout",
       "text": [
        "\n",
        "2700000 lines of 4577464 written (58%)"
       ]
      },
      {
       "output_type": "stream",
       "stream": "stdout",
       "text": [
        "\n",
        "2800000 lines of 4577464 written (61%)"
       ]
      },
      {
       "output_type": "stream",
       "stream": "stdout",
       "text": [
        "\n",
        "2900000 lines of 4577464 written (63%)"
       ]
      },
      {
       "output_type": "stream",
       "stream": "stdout",
       "text": [
        "\n",
        "3000000 lines of 4577464 written (65%)"
       ]
      },
      {
       "output_type": "stream",
       "stream": "stdout",
       "text": [
        "\n",
        "3100000 lines of 4577464 written (67%)"
       ]
      },
      {
       "output_type": "stream",
       "stream": "stdout",
       "text": [
        "\n",
        "3200000 lines of 4577464 written (69%)"
       ]
      },
      {
       "output_type": "stream",
       "stream": "stdout",
       "text": [
        "\n",
        "3300000 lines of 4577464 written (72%)"
       ]
      },
      {
       "output_type": "stream",
       "stream": "stdout",
       "text": [
        "\n",
        "3400000 lines of 4577464 written (74%)"
       ]
      },
      {
       "output_type": "stream",
       "stream": "stdout",
       "text": [
        "\n",
        "3500000 lines of 4577464 written (76%)"
       ]
      },
      {
       "output_type": "stream",
       "stream": "stdout",
       "text": [
        "\n",
        "3600000 lines of 4577464 written (78%)"
       ]
      },
      {
       "output_type": "stream",
       "stream": "stdout",
       "text": [
        "\n",
        "3700000 lines of 4577464 written (80%)"
       ]
      },
      {
       "output_type": "stream",
       "stream": "stdout",
       "text": [
        "\n",
        "3800000 lines of 4577464 written (83%)"
       ]
      },
      {
       "output_type": "stream",
       "stream": "stdout",
       "text": [
        "\n",
        "3900000 lines of 4577464 written (85%)"
       ]
      },
      {
       "output_type": "stream",
       "stream": "stdout",
       "text": [
        "\n",
        "4000000 lines of 4577464 written (87%)"
       ]
      },
      {
       "output_type": "stream",
       "stream": "stdout",
       "text": [
        "\n",
        "4100000 lines of 4577464 written (89%)"
       ]
      },
      {
       "output_type": "stream",
       "stream": "stdout",
       "text": [
        "\n",
        "4200000 lines of 4577464 written (91%)"
       ]
      },
      {
       "output_type": "stream",
       "stream": "stdout",
       "text": [
        "\n",
        "4300000 lines of 4577464 written (93%)"
       ]
      },
      {
       "output_type": "stream",
       "stream": "stdout",
       "text": [
        "\n",
        "4400000 lines of 4577464 written (96%)"
       ]
      },
      {
       "output_type": "stream",
       "stream": "stdout",
       "text": [
        "\n",
        "4500000 lines of 4577464 written (98%)"
       ]
      },
      {
       "output_type": "stream",
       "stream": "stdout",
       "text": [
        "\n",
        "CPU times: user 1min 53s, sys: 952 ms, total: 1min 54s"
       ]
      },
      {
       "output_type": "stream",
       "stream": "stdout",
       "text": [
        "\n",
        "Wall time: 2min 3s\n"
       ]
      }
     ],
     "prompt_number": 14
    },
    {
     "cell_type": "heading",
     "level": 4,
     "metadata": {},
     "source": [
      "with one hot encoding all the features: version 2"
     ]
    },
    {
     "cell_type": "code",
     "collapsed": true,
     "input": [
      "%%time\n",
      "i = 0\n",
      "with open('test1.vw', 'wb') as fw:\n",
      "    for row in X_t.iterrows():\n",
      "        out = \" \"\n",
      "        \n",
      "        out += \" |t\"\n",
      "        for name in timelist:\n",
      "            value = str(row[name])\n",
      "            if value in indexdic[name]:\n",
      "                out += \" {0}\".format(indexdic[name][value])\n",
      "            elif 'other' in indexdic[name]:\n",
      "                out += \" {0}\".format(indexdic[name]['other'])\n",
      "            else:\n",
      "                out += \" {0}\".format(947464)\n",
      "\n",
      "        out += \" |b\"\n",
      "        for name in ban:\n",
      "            value = str(row[name])\n",
      "            if value in indexdic[name]:\n",
      "                out += \" {0}\".format(indexdic[name][value])\n",
      "            elif 'other' in indexdic[name]:\n",
      "                out += \" {0}\".format(indexdic[name]['other'])\n",
      "            else:\n",
      "                out += \" {0}\".format(947464)\n",
      "            \n",
      "        out += \" |s\"\n",
      "        for name in site:\n",
      "            value = str(row[name])\n",
      "            if value in indexdic[name]:\n",
      "                out += \" {0}\".format(indexdic[name][value])\n",
      "            elif 'other' in indexdic[name]:\n",
      "                out += \" {0}\".format(indexdic[name]['other'])\n",
      "            else:\n",
      "                out += \" {0}\".format(947464)\n",
      "            \n",
      "        out += \" |a\"\n",
      "        for name in app:\n",
      "            value = str(row[name])\n",
      "            if value in indexdic[name]:\n",
      "                out += \" {0}\".format(indexdic[name][value])\n",
      "            elif 'other' in indexdic[name]:\n",
      "                out += \" {0}\".format(indexdic[name]['other'])\n",
      "            else:\n",
      "                out += \" {0}\".format(947464)\n",
      "            \n",
      "        out += \" |d\"\n",
      "        for name in device:\n",
      "            value = str(row[name])\n",
      "            if value in indexdic[name]:\n",
      "                out += \" {0}\".format(indexdic[name][value])\n",
      "            elif 'other' in indexdic[name]:\n",
      "                out += \" {0}\".format(indexdic[name]['other'])\n",
      "            else:\n",
      "                out += \" {0}\".format(947464)\n",
      "            \n",
      "        out += \" |c\"\n",
      "        for name in clist:\n",
      "            value = str(row[name])\n",
      "            if value in indexdic[name]:\n",
      "                out += \" {0}\".format(indexdic[name][value])\n",
      "            elif 'other' in indexdic[name]:\n",
      "                out += \" {0}\".format(indexdic[name]['other'])\n",
      "            else:\n",
      "                out += \" {0}\".format(947464)\n",
      "             \n",
      "        out += '\\n'\n",
      "        fw.write(out)\n",
      "        \n",
      "            \n",
      "        i+=1\n",
      "        \n",
      "        if (i % 100000) == 0:\n",
      "            print \"{0} lines of {1} written ({2}%)\".format(i, lines, 100*i/lines)"
     ],
     "language": "python",
     "metadata": {},
     "outputs": [
      {
       "output_type": "stream",
       "stream": "stdout",
       "text": [
        "100000 lines of 4577464 written (2%)\n",
        "200000 lines of 4577464 written (4%)"
       ]
      },
      {
       "output_type": "stream",
       "stream": "stdout",
       "text": [
        "\n",
        "300000 lines of 4577464 written (6%)"
       ]
      },
      {
       "output_type": "stream",
       "stream": "stdout",
       "text": [
        "\n",
        "400000 lines of 4577464 written (8%)"
       ]
      },
      {
       "output_type": "stream",
       "stream": "stdout",
       "text": [
        "\n",
        "500000 lines of 4577464 written (10%)"
       ]
      },
      {
       "output_type": "stream",
       "stream": "stdout",
       "text": [
        "\n",
        "600000 lines of 4577464 written (13%)"
       ]
      },
      {
       "output_type": "stream",
       "stream": "stdout",
       "text": [
        "\n",
        "700000 lines of 4577464 written (15%)"
       ]
      },
      {
       "output_type": "stream",
       "stream": "stdout",
       "text": [
        "\n",
        "800000 lines of 4577464 written (17%)"
       ]
      },
      {
       "output_type": "stream",
       "stream": "stdout",
       "text": [
        "\n",
        "900000 lines of 4577464 written (19%)"
       ]
      },
      {
       "output_type": "stream",
       "stream": "stdout",
       "text": [
        "\n",
        "1000000 lines of 4577464 written (21%)"
       ]
      },
      {
       "output_type": "stream",
       "stream": "stdout",
       "text": [
        "\n",
        "1100000 lines of 4577464 written (24%)"
       ]
      },
      {
       "output_type": "stream",
       "stream": "stdout",
       "text": [
        "\n",
        "1200000 lines of 4577464 written (26%)"
       ]
      },
      {
       "output_type": "stream",
       "stream": "stdout",
       "text": [
        "\n",
        "1300000 lines of 4577464 written (28%)"
       ]
      },
      {
       "output_type": "stream",
       "stream": "stdout",
       "text": [
        "\n",
        "1400000 lines of 4577464 written (30%)"
       ]
      },
      {
       "output_type": "stream",
       "stream": "stdout",
       "text": [
        "\n",
        "1500000 lines of 4577464 written (32%)"
       ]
      },
      {
       "output_type": "stream",
       "stream": "stdout",
       "text": [
        "\n",
        "1600000 lines of 4577464 written (34%)"
       ]
      },
      {
       "output_type": "stream",
       "stream": "stdout",
       "text": [
        "\n",
        "1700000 lines of 4577464 written (37%)"
       ]
      },
      {
       "output_type": "stream",
       "stream": "stdout",
       "text": [
        "\n",
        "1800000 lines of 4577464 written (39%)"
       ]
      },
      {
       "output_type": "stream",
       "stream": "stdout",
       "text": [
        "\n",
        "1900000 lines of 4577464 written (41%)"
       ]
      },
      {
       "output_type": "stream",
       "stream": "stdout",
       "text": [
        "\n",
        "2000000 lines of 4577464 written (43%)"
       ]
      },
      {
       "output_type": "stream",
       "stream": "stdout",
       "text": [
        "\n",
        "2100000 lines of 4577464 written (45%)"
       ]
      },
      {
       "output_type": "stream",
       "stream": "stdout",
       "text": [
        "\n",
        "2200000 lines of 4577464 written (48%)"
       ]
      },
      {
       "output_type": "stream",
       "stream": "stdout",
       "text": [
        "\n",
        "2300000 lines of 4577464 written (50%)"
       ]
      },
      {
       "output_type": "stream",
       "stream": "stdout",
       "text": [
        "\n",
        "2400000 lines of 4577464 written (52%)"
       ]
      },
      {
       "output_type": "stream",
       "stream": "stdout",
       "text": [
        "\n",
        "2500000 lines of 4577464 written (54%)"
       ]
      },
      {
       "output_type": "stream",
       "stream": "stdout",
       "text": [
        "\n",
        "2600000 lines of 4577464 written (56%)"
       ]
      },
      {
       "output_type": "stream",
       "stream": "stdout",
       "text": [
        "\n",
        "2700000 lines of 4577464 written (58%)"
       ]
      },
      {
       "output_type": "stream",
       "stream": "stdout",
       "text": [
        "\n",
        "2800000 lines of 4577464 written (61%)"
       ]
      },
      {
       "output_type": "stream",
       "stream": "stdout",
       "text": [
        "\n",
        "2900000 lines of 4577464 written (63%)"
       ]
      },
      {
       "output_type": "stream",
       "stream": "stdout",
       "text": [
        "\n",
        "3000000 lines of 4577464 written (65%)"
       ]
      },
      {
       "output_type": "stream",
       "stream": "stdout",
       "text": [
        "\n",
        "3100000 lines of 4577464 written (67%)"
       ]
      },
      {
       "output_type": "stream",
       "stream": "stdout",
       "text": [
        "\n",
        "3200000 lines of 4577464 written (69%)"
       ]
      },
      {
       "output_type": "stream",
       "stream": "stdout",
       "text": [
        "\n",
        "3300000 lines of 4577464 written (72%)"
       ]
      },
      {
       "output_type": "stream",
       "stream": "stdout",
       "text": [
        "\n",
        "3400000 lines of 4577464 written (74%)"
       ]
      },
      {
       "output_type": "stream",
       "stream": "stdout",
       "text": [
        "\n",
        "3500000 lines of 4577464 written (76%)"
       ]
      },
      {
       "output_type": "stream",
       "stream": "stdout",
       "text": [
        "\n",
        "3600000 lines of 4577464 written (78%)"
       ]
      },
      {
       "output_type": "stream",
       "stream": "stdout",
       "text": [
        "\n",
        "3700000 lines of 4577464 written (80%)"
       ]
      },
      {
       "output_type": "stream",
       "stream": "stdout",
       "text": [
        "\n",
        "3800000 lines of 4577464 written (83%)"
       ]
      },
      {
       "output_type": "stream",
       "stream": "stdout",
       "text": [
        "\n",
        "3900000 lines of 4577464 written (85%)"
       ]
      },
      {
       "output_type": "stream",
       "stream": "stdout",
       "text": [
        "\n",
        "4000000 lines of 4577464 written (87%)"
       ]
      },
      {
       "output_type": "stream",
       "stream": "stdout",
       "text": [
        "\n",
        "4100000 lines of 4577464 written (89%)"
       ]
      },
      {
       "output_type": "stream",
       "stream": "stdout",
       "text": [
        "\n",
        "4200000 lines of 4577464 written (91%)"
       ]
      },
      {
       "output_type": "stream",
       "stream": "stdout",
       "text": [
        "\n",
        "4300000 lines of 4577464 written (93%)"
       ]
      },
      {
       "output_type": "stream",
       "stream": "stdout",
       "text": [
        "\n",
        "4400000 lines of 4577464 written (96%)"
       ]
      },
      {
       "output_type": "stream",
       "stream": "stdout",
       "text": [
        "\n",
        "4500000 lines of 4577464 written (98%)"
       ]
      },
      {
       "output_type": "stream",
       "stream": "stdout",
       "text": [
        "\n",
        "CPU times: user 1min 57s, sys: 1.02 s, total: 1min 58s"
       ]
      },
      {
       "output_type": "stream",
       "stream": "stdout",
       "text": [
        "\n",
        "Wall time: 2min 9s\n"
       ]
      }
     ],
     "prompt_number": 14
    },
    {
     "cell_type": "heading",
     "level": 4,
     "metadata": {},
     "source": [
      "with one hot encoding all the features: version 3"
     ]
    },
    {
     "cell_type": "code",
     "collapsed": false,
     "input": [
      "%%time\n",
      "i = 0\n",
      "with open('test1.vw', 'wb') as fw:\n",
      "    for row in X_t.iterrows():\n",
      "        out = \" \"\n",
      "        \n",
      "        out += \" |t\"\n",
      "        for name in timelist:\n",
      "            value = str(row[name])\n",
      "            if value in indexdic[name]:\n",
      "                out += \" {0}\".format(indexdic[name][value])\n",
      "            elif 'other' in indexdic[name]:\n",
      "                out += \" {0}\".format(indexdic[name]['other'])\n",
      "            else:\n",
      "                out += \" {0}\".format(636705)\n",
      "\n",
      "        out += \" |b\"\n",
      "        for name in ban:\n",
      "            value = str(row[name])\n",
      "            if value in indexdic[name]:\n",
      "                out += \" {0}\".format(indexdic[name][value])\n",
      "            elif 'other' in indexdic[name]:\n",
      "                out += \" {0}\".format(indexdic[name]['other'])\n",
      "            else:\n",
      "                out += \" {0}\".format(636705)\n",
      "            \n",
      "        out += \" |s\"\n",
      "        for name in site:\n",
      "            value = str(row[name])\n",
      "            if value in indexdic[name]:\n",
      "                out += \" {0}\".format(indexdic[name][value])\n",
      "            elif 'other' in indexdic[name]:\n",
      "                out += \" {0}\".format(indexdic[name]['other'])\n",
      "            else:\n",
      "                out += \" {0}\".format(636705)\n",
      "            \n",
      "        out += \" |a\"\n",
      "        for name in app:\n",
      "            value = str(row[name])\n",
      "            if value in indexdic[name]:\n",
      "                out += \" {0}\".format(indexdic[name][value])\n",
      "            elif 'other' in indexdic[name]:\n",
      "                out += \" {0}\".format(indexdic[name]['other'])\n",
      "            else:\n",
      "                out += \" {0}\".format(636705)\n",
      "            \n",
      "        out += \" |d\"\n",
      "        for name in device:\n",
      "            value = str(row[name])\n",
      "            if value in indexdic[name]:\n",
      "                out += \" {0}\".format(indexdic[name][value])\n",
      "            elif 'other' in indexdic[name]:\n",
      "                out += \" {0}\".format(indexdic[name]['other'])\n",
      "            else:\n",
      "                out += \" {0}\".format(636705)\n",
      "            \n",
      "        out += \" |c\"\n",
      "        for name in clist:\n",
      "            value = str(row[name])\n",
      "            if value in indexdic[name]:\n",
      "                out += \" {0}\".format(indexdic[name][value])\n",
      "            elif 'other' in indexdic[name]:\n",
      "                out += \" {0}\".format(indexdic[name]['other'])\n",
      "            else:\n",
      "                out += \" {0}\".format(636705)\n",
      "             \n",
      "        out += '\\n'\n",
      "        fw.write(out)\n",
      "        \n",
      "            \n",
      "        i+=1\n",
      "        \n",
      "        if (i % 100000) == 0:\n",
      "            print \"{0} lines of {1} written ({2}%)\".format(i, lines, 100*i/lines)"
     ],
     "language": "python",
     "metadata": {},
     "outputs": [
      {
       "output_type": "stream",
       "stream": "stdout",
       "text": [
        "100000 lines of 4577464 written (2%)\n",
        "200000 lines of 4577464 written (4%)"
       ]
      },
      {
       "output_type": "stream",
       "stream": "stdout",
       "text": [
        "\n",
        "300000 lines of 4577464 written (6%)"
       ]
      },
      {
       "output_type": "stream",
       "stream": "stdout",
       "text": [
        "\n",
        "400000 lines of 4577464 written (8%)"
       ]
      },
      {
       "output_type": "stream",
       "stream": "stdout",
       "text": [
        "\n",
        "500000 lines of 4577464 written (10%)"
       ]
      },
      {
       "output_type": "stream",
       "stream": "stdout",
       "text": [
        "\n",
        "600000 lines of 4577464 written (13%)"
       ]
      },
      {
       "output_type": "stream",
       "stream": "stdout",
       "text": [
        "\n",
        "700000 lines of 4577464 written (15%)"
       ]
      },
      {
       "output_type": "stream",
       "stream": "stdout",
       "text": [
        "\n",
        "800000 lines of 4577464 written (17%)"
       ]
      },
      {
       "output_type": "stream",
       "stream": "stdout",
       "text": [
        "\n",
        "900000 lines of 4577464 written (19%)"
       ]
      },
      {
       "output_type": "stream",
       "stream": "stdout",
       "text": [
        "\n",
        "1000000 lines of 4577464 written (21%)"
       ]
      },
      {
       "output_type": "stream",
       "stream": "stdout",
       "text": [
        "\n",
        "1100000 lines of 4577464 written (24%)"
       ]
      },
      {
       "output_type": "stream",
       "stream": "stdout",
       "text": [
        "\n",
        "1200000 lines of 4577464 written (26%)"
       ]
      },
      {
       "output_type": "stream",
       "stream": "stdout",
       "text": [
        "\n",
        "1300000 lines of 4577464 written (28%)"
       ]
      },
      {
       "output_type": "stream",
       "stream": "stdout",
       "text": [
        "\n",
        "1400000 lines of 4577464 written (30%)"
       ]
      },
      {
       "output_type": "stream",
       "stream": "stdout",
       "text": [
        "\n",
        "1500000 lines of 4577464 written (32%)"
       ]
      },
      {
       "output_type": "stream",
       "stream": "stdout",
       "text": [
        "\n",
        "1600000 lines of 4577464 written (34%)"
       ]
      },
      {
       "output_type": "stream",
       "stream": "stdout",
       "text": [
        "\n",
        "1700000 lines of 4577464 written (37%)"
       ]
      },
      {
       "output_type": "stream",
       "stream": "stdout",
       "text": [
        "\n",
        "1800000 lines of 4577464 written (39%)"
       ]
      },
      {
       "output_type": "stream",
       "stream": "stdout",
       "text": [
        "\n",
        "1900000 lines of 4577464 written (41%)"
       ]
      },
      {
       "output_type": "stream",
       "stream": "stdout",
       "text": [
        "\n",
        "2000000 lines of 4577464 written (43%)"
       ]
      },
      {
       "output_type": "stream",
       "stream": "stdout",
       "text": [
        "\n",
        "2100000 lines of 4577464 written (45%)"
       ]
      },
      {
       "output_type": "stream",
       "stream": "stdout",
       "text": [
        "\n",
        "2200000 lines of 4577464 written (48%)"
       ]
      },
      {
       "output_type": "stream",
       "stream": "stdout",
       "text": [
        "\n",
        "2300000 lines of 4577464 written (50%)"
       ]
      },
      {
       "output_type": "stream",
       "stream": "stdout",
       "text": [
        "\n",
        "2400000 lines of 4577464 written (52%)"
       ]
      },
      {
       "output_type": "stream",
       "stream": "stdout",
       "text": [
        "\n",
        "2500000 lines of 4577464 written (54%)"
       ]
      },
      {
       "output_type": "stream",
       "stream": "stdout",
       "text": [
        "\n",
        "2600000 lines of 4577464 written (56%)"
       ]
      },
      {
       "output_type": "stream",
       "stream": "stdout",
       "text": [
        "\n",
        "2700000 lines of 4577464 written (58%)"
       ]
      },
      {
       "output_type": "stream",
       "stream": "stdout",
       "text": [
        "\n",
        "2800000 lines of 4577464 written (61%)"
       ]
      },
      {
       "output_type": "stream",
       "stream": "stdout",
       "text": [
        "\n",
        "2900000 lines of 4577464 written (63%)"
       ]
      },
      {
       "output_type": "stream",
       "stream": "stdout",
       "text": [
        "\n",
        "3000000 lines of 4577464 written (65%)"
       ]
      },
      {
       "output_type": "stream",
       "stream": "stdout",
       "text": [
        "\n",
        "3100000 lines of 4577464 written (67%)"
       ]
      },
      {
       "output_type": "stream",
       "stream": "stdout",
       "text": [
        "\n",
        "3200000 lines of 4577464 written (69%)"
       ]
      },
      {
       "output_type": "stream",
       "stream": "stdout",
       "text": [
        "\n",
        "3300000 lines of 4577464 written (72%)"
       ]
      },
      {
       "output_type": "stream",
       "stream": "stdout",
       "text": [
        "\n",
        "3400000 lines of 4577464 written (74%)"
       ]
      },
      {
       "output_type": "stream",
       "stream": "stdout",
       "text": [
        "\n",
        "3500000 lines of 4577464 written (76%)"
       ]
      },
      {
       "output_type": "stream",
       "stream": "stdout",
       "text": [
        "\n",
        "3600000 lines of 4577464 written (78%)"
       ]
      },
      {
       "output_type": "stream",
       "stream": "stdout",
       "text": [
        "\n",
        "3700000 lines of 4577464 written (80%)"
       ]
      },
      {
       "output_type": "stream",
       "stream": "stdout",
       "text": [
        "\n",
        "3800000 lines of 4577464 written (83%)"
       ]
      },
      {
       "output_type": "stream",
       "stream": "stdout",
       "text": [
        "\n",
        "3900000 lines of 4577464 written (85%)"
       ]
      },
      {
       "output_type": "stream",
       "stream": "stdout",
       "text": [
        "\n",
        "4000000 lines of 4577464 written (87%)"
       ]
      },
      {
       "output_type": "stream",
       "stream": "stdout",
       "text": [
        "\n",
        "4100000 lines of 4577464 written (89%)"
       ]
      },
      {
       "output_type": "stream",
       "stream": "stdout",
       "text": [
        "\n",
        "4200000 lines of 4577464 written (91%)"
       ]
      },
      {
       "output_type": "stream",
       "stream": "stdout",
       "text": [
        "\n",
        "4300000 lines of 4577464 written (93%)"
       ]
      },
      {
       "output_type": "stream",
       "stream": "stdout",
       "text": [
        "\n",
        "4400000 lines of 4577464 written (96%)"
       ]
      },
      {
       "output_type": "stream",
       "stream": "stdout",
       "text": [
        "\n",
        "4500000 lines of 4577464 written (98%)"
       ]
      },
      {
       "output_type": "stream",
       "stream": "stdout",
       "text": [
        "\n",
        "CPU times: user 1min 56s, sys: 920 ms, total: 1min 57s"
       ]
      },
      {
       "output_type": "stream",
       "stream": "stdout",
       "text": [
        "\n",
        "Wall time: 2min\n"
       ]
      }
     ],
     "prompt_number": 14
    },
    {
     "cell_type": "code",
     "collapsed": false,
     "input": [],
     "language": "python",
     "metadata": {},
     "outputs": []
    }
   ],
   "metadata": {}
  }
 ]
}