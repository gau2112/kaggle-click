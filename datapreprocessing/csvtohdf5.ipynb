{
 "metadata": {
  "name": "",
  "signature": "sha256:9edf9d7c5acdb975d81a0fd466470b37748208e2d450e4f75c592f4ece17cd28"
 },
 "nbformat": 3,
 "nbformat_minor": 0,
 "worksheets": [
  {
   "cells": [
    {
     "cell_type": "code",
     "collapsed": false,
     "input": [
      "import tables\n",
      "import csv\n",
      "import time\n",
      "import numpy as np"
     ],
     "language": "python",
     "metadata": {},
     "outputs": [],
     "prompt_number": 1
    },
    {
     "cell_type": "code",
     "collapsed": false,
     "input": [
      "class XDataTrain(tables.IsDescription):\n",
      "    day = tables.UInt8Col(pos=0)\n",
      "    hour = tables.UInt8Col(pos=1)\n",
      "    C1 = tables.UInt16Col(pos=2)\n",
      "    banner_pos = tables.UInt8Col(pos=3)\n",
      "    site_id = tables.StringCol(itemsize=8, pos=4) \n",
      "    site_domain = tables.StringCol(itemsize=8, pos=5)\n",
      "    site_category = tables.StringCol(itemsize=8, pos=6)\n",
      "    app_id = tables.StringCol(itemsize=8, pos=7)\n",
      "    app_domain = tables.StringCol(itemsize=8, pos=8)\n",
      "    app_category = tables.StringCol(itemsize=8, pos=9)\n",
      "    device_id = tables.StringCol(itemsize=8, pos=10)\n",
      "    device_ip = tables.StringCol(itemsize=8, pos=11)\n",
      "    device_model = tables.StringCol(itemsize=8, pos=12)\n",
      "    device_type = tables.UInt16Col(pos=13)\n",
      "    device_conn_type = tables.UInt8Col(pos=14)\n",
      "    C14 = tables.UInt16Col(pos=15)\n",
      "    C15 = tables.UInt16Col(pos=16)\n",
      "    C16 = tables.UInt16Col(pos=17)\n",
      "    C17 = tables.UInt16Col(pos=18)\n",
      "    C18 = tables.UInt8Col(pos=19)\n",
      "    C19 = tables.UInt16Col(pos=20)\n",
      "    C20 = tables.Int32Col(pos=21)\n",
      "    C21 = tables.UInt8Col(pos=22)"
     ],
     "language": "python",
     "metadata": {},
     "outputs": [],
     "prompt_number": 2
    },
    {
     "cell_type": "code",
     "collapsed": false,
     "input": [
      "class XDataTest(tables.IsDescription):\n",
      "    day = tables.UInt8Col(pos=0)\n",
      "    hour = tables.UInt8Col(pos=1)\n",
      "    C1 = tables.UInt16Col(pos=2)\n",
      "    banner_pos = tables.UInt8Col(pos=3)\n",
      "    site_id = tables.StringCol(itemsize=8, pos=4) \n",
      "    site_domain = tables.StringCol(itemsize=8, pos=5)\n",
      "    site_category = tables.StringCol(itemsize=8, pos=6)\n",
      "    app_id = tables.StringCol(itemsize=8, pos=7)\n",
      "    app_domain = tables.StringCol(itemsize=8, pos=8)\n",
      "    app_category = tables.StringCol(itemsize=8, pos=9)\n",
      "    device_id = tables.StringCol(itemsize=8, pos=10)\n",
      "    device_ip = tables.StringCol(itemsize=8, pos=11)\n",
      "    device_model = tables.StringCol(itemsize=8, pos=12)\n",
      "    device_type = tables.UInt16Col(pos=13)\n",
      "    device_conn_type = tables.UInt8Col(pos=14)\n",
      "    C14 = tables.UInt16Col(pos=15)\n",
      "    C15 = tables.UInt16Col(pos=16)\n",
      "    C16 = tables.UInt16Col(pos=17)\n",
      "    C17 = tables.UInt16Col(pos=18)\n",
      "    C18 = tables.UInt8Col(pos=19)\n",
      "    C19 = tables.UInt16Col(pos=20)\n",
      "    C20 = tables.Int32Col(pos=21)\n",
      "    C21 = tables.UInt8Col(pos=22)"
     ],
     "language": "python",
     "metadata": {},
     "outputs": [],
     "prompt_number": 3
    },
    {
     "cell_type": "code",
     "collapsed": false,
     "input": [
      "file_handler = tables.open_file(\"click_data.h5\", mode = \"w\", title = \"Click data\")"
     ],
     "language": "python",
     "metadata": {},
     "outputs": [],
     "prompt_number": 4
    },
    {
     "cell_type": "heading",
     "level": 1,
     "metadata": {},
     "source": [
      "#"
     ]
    },
    {
     "cell_type": "markdown",
     "metadata": {},
     "source": [
      "add train and validation set"
     ]
    },
    {
     "cell_type": "code",
     "collapsed": false,
     "input": [
      "file_handler = tables.open_file(\"click_data.h5\", mode = \"r+\")"
     ],
     "language": "python",
     "metadata": {},
     "outputs": [],
     "prompt_number": 3
    },
    {
     "cell_type": "code",
     "collapsed": false,
     "input": [
      "train_raw_group = file_handler.root.train.train_raw\n",
      "train_table_X_train = file_handler.create_table(train_raw_group, \"X_train\", XDataTrain, expectedrows=36210029)\n",
      "train_table_X_valid = file_handler.create_table(train_raw_group, \"X_valid\", XDataTrain, expectedrows=4218938)"
     ],
     "language": "python",
     "metadata": {},
     "outputs": [],
     "prompt_number": 4
    },
    {
     "cell_type": "code",
     "collapsed": false,
     "input": [
      "filters = tables.Filters(complib='blosc', complevel=5)\n",
      "y_atom = tables.UInt8Atom()\n",
      "y_shape = (0,1)\n",
      "y_array_train = file_handler.createEArray(train_raw_group, 'y_train', atom=y_atom, shape=y_shape, \n",
      "                                    title=\"targets_train\", filters=filters, expectedrows=36210029)\n",
      "y_array_valid = file_handler.createEArray(train_raw_group, 'y_valid', atom=y_atom, shape=y_shape, \n",
      "                                    title=\"targets_valid\", filters=filters, expectedrows=4218938)"
     ],
     "language": "python",
     "metadata": {},
     "outputs": [],
     "prompt_number": 5
    },
    {
     "cell_type": "heading",
     "level": 1,
     "metadata": {},
     "source": [
      "#"
     ]
    },
    {
     "cell_type": "code",
     "collapsed": false,
     "input": [
      "root = file_handler.root"
     ],
     "language": "python",
     "metadata": {},
     "outputs": [],
     "prompt_number": 5
    },
    {
     "cell_type": "code",
     "collapsed": false,
     "input": [
      "train_group = file_handler.create_group(root, \"train\")\n",
      "test_group = file_handler.create_group(root, \"test\")"
     ],
     "language": "python",
     "metadata": {},
     "outputs": [],
     "prompt_number": 6
    },
    {
     "cell_type": "code",
     "collapsed": false,
     "input": [
      "train_raw_group = file_handler.create_group(train_group, \"train_raw\")\n",
      "test_raw_group = file_handler.create_group(test_group, \"test_raw\")"
     ],
     "language": "python",
     "metadata": {},
     "outputs": [],
     "prompt_number": 7
    },
    {
     "cell_type": "code",
     "collapsed": false,
     "input": [
      "filters = tables.Filters(complib='blosc', complevel=5)\n",
      "y_atom = tables.UInt8Atom()\n",
      "y_shape = (0,1)\n",
      "y_array = file_handler.createEArray(train_raw_group, 'y', atom=y_atom, shape=y_shape, \n",
      "                                    title=\"targets\", filters=filters, expectedrows=40428967)"
     ],
     "language": "python",
     "metadata": {},
     "outputs": [],
     "prompt_number": 8
    },
    {
     "cell_type": "code",
     "collapsed": false,
     "input": [
      "train_table_X = file_handler.create_table(train_raw_group, \"X\", XDataTrain, expectedrows=40428967)\n",
      "test_table_X = file_handler.create_table(test_raw_group, \"X_t\", XDataTest, expectedrows=4577464)"
     ],
     "language": "python",
     "metadata": {},
     "outputs": [],
     "prompt_number": 9
    },
    {
     "cell_type": "code",
     "collapsed": true,
     "input": [
      "file_handler"
     ],
     "language": "python",
     "metadata": {},
     "outputs": [
      {
       "metadata": {},
       "output_type": "pyout",
       "prompt_number": 10,
       "text": [
        "File(filename=click_data.h5, title='Click data', mode='w', root_uep='/', filters=Filters(complevel=0, shuffle=False, fletcher32=False, least_significant_digit=None))\n",
        "/ (RootGroup) 'Click data'\n",
        "/test (Group) u''\n",
        "/train (Group) u''\n",
        "/train/train_raw (Group) u''\n",
        "/train/train_raw/X (Table(0,)) ''\n",
        "  description := {\n",
        "  \"day\": UInt8Col(shape=(), dflt=0, pos=0),\n",
        "  \"hour\": UInt8Col(shape=(), dflt=0, pos=1),\n",
        "  \"C1\": UInt16Col(shape=(), dflt=0, pos=2),\n",
        "  \"banner_pos\": UInt8Col(shape=(), dflt=0, pos=3),\n",
        "  \"site_id\": StringCol(itemsize=8, shape=(), dflt='', pos=4),\n",
        "  \"site_domain\": StringCol(itemsize=8, shape=(), dflt='', pos=5),\n",
        "  \"site_category\": StringCol(itemsize=8, shape=(), dflt='', pos=6),\n",
        "  \"app_id\": StringCol(itemsize=8, shape=(), dflt='', pos=7),\n",
        "  \"app_domain\": StringCol(itemsize=8, shape=(), dflt='', pos=8),\n",
        "  \"app_category\": StringCol(itemsize=8, shape=(), dflt='', pos=9),\n",
        "  \"device_id\": StringCol(itemsize=8, shape=(), dflt='', pos=10),\n",
        "  \"device_ip\": StringCol(itemsize=8, shape=(), dflt='', pos=11),\n",
        "  \"device_model\": StringCol(itemsize=8, shape=(), dflt='', pos=12),\n",
        "  \"device_type\": UInt16Col(shape=(), dflt=0, pos=13),\n",
        "  \"device_conn_type\": UInt8Col(shape=(), dflt=0, pos=14),\n",
        "  \"C14\": UInt16Col(shape=(), dflt=0, pos=15),\n",
        "  \"C15\": UInt16Col(shape=(), dflt=0, pos=16),\n",
        "  \"C16\": UInt16Col(shape=(), dflt=0, pos=17),\n",
        "  \"C17\": UInt16Col(shape=(), dflt=0, pos=18),\n",
        "  \"C18\": UInt8Col(shape=(), dflt=0, pos=19),\n",
        "  \"C19\": UInt16Col(shape=(), dflt=0, pos=20),\n",
        "  \"C20\": Int32Col(shape=(), dflt=0, pos=21),\n",
        "  \"C21\": UInt8Col(shape=(), dflt=0, pos=22)}\n",
        "  byteorder := 'little'\n",
        "  chunkshape := (5461,)\n",
        "/train/train_raw/y (EArray(0, 1), shuffle, blosc(5)) 'targets'\n",
        "  atom := UInt8Atom(shape=(), dflt=0)\n",
        "  maindim := 0\n",
        "  flavor := 'numpy'\n",
        "  byteorder := 'irrelevant'\n",
        "  chunkshape := (131072, 1)\n",
        "/test/test_raw (Group) u''\n",
        "/test/test_raw/X_t (Table(0,)) ''\n",
        "  description := {\n",
        "  \"day\": UInt8Col(shape=(), dflt=0, pos=0),\n",
        "  \"hour\": UInt8Col(shape=(), dflt=0, pos=1),\n",
        "  \"C1\": UInt16Col(shape=(), dflt=0, pos=2),\n",
        "  \"banner_pos\": UInt8Col(shape=(), dflt=0, pos=3),\n",
        "  \"site_id\": StringCol(itemsize=8, shape=(), dflt='', pos=4),\n",
        "  \"site_domain\": StringCol(itemsize=8, shape=(), dflt='', pos=5),\n",
        "  \"site_category\": StringCol(itemsize=8, shape=(), dflt='', pos=6),\n",
        "  \"app_id\": StringCol(itemsize=8, shape=(), dflt='', pos=7),\n",
        "  \"app_domain\": StringCol(itemsize=8, shape=(), dflt='', pos=8),\n",
        "  \"app_category\": StringCol(itemsize=8, shape=(), dflt='', pos=9),\n",
        "  \"device_id\": StringCol(itemsize=8, shape=(), dflt='', pos=10),\n",
        "  \"device_ip\": StringCol(itemsize=8, shape=(), dflt='', pos=11),\n",
        "  \"device_model\": StringCol(itemsize=8, shape=(), dflt='', pos=12),\n",
        "  \"device_type\": UInt16Col(shape=(), dflt=0, pos=13),\n",
        "  \"device_conn_type\": UInt8Col(shape=(), dflt=0, pos=14),\n",
        "  \"C14\": UInt16Col(shape=(), dflt=0, pos=15),\n",
        "  \"C15\": UInt16Col(shape=(), dflt=0, pos=16),\n",
        "  \"C16\": UInt16Col(shape=(), dflt=0, pos=17),\n",
        "  \"C17\": UInt16Col(shape=(), dflt=0, pos=18),\n",
        "  \"C18\": UInt8Col(shape=(), dflt=0, pos=19),\n",
        "  \"C19\": UInt16Col(shape=(), dflt=0, pos=20),\n",
        "  \"C20\": Int32Col(shape=(), dflt=0, pos=21),\n",
        "  \"C21\": UInt8Col(shape=(), dflt=0, pos=22)}\n",
        "  byteorder := 'little'\n",
        "  chunkshape := (2730,)"
       ]
      }
     ],
     "prompt_number": 10
    },
    {
     "cell_type": "heading",
     "level": 1,
     "metadata": {},
     "source": [
      "#"
     ]
    },
    {
     "cell_type": "code",
     "collapsed": false,
     "input": [
      "reader = csv.reader(open(\"train.csv\"))\n",
      "header = reader.next()"
     ],
     "language": "python",
     "metadata": {},
     "outputs": [],
     "prompt_number": 10
    },
    {
     "cell_type": "code",
     "collapsed": false,
     "input": [
      "train_row = train_table_X.row\n",
      "\n",
      "flag = 0\n",
      "start = time.time()\n",
      "\n",
      "for row in reader:\n",
      "    train_row['day'] = (int(row[2][4:6])-19)%7\n",
      "    train_row['hour'] = int(row[2][6:])\n",
      "    train_row['C1'] = int(row[3])\n",
      "    train_row['banner_pos'] = int(row[4])\n",
      "    train_row['site_id'] = row[5]\n",
      "    train_row['site_domain'] = row[6]\n",
      "    train_row['site_category'] = row[7]\n",
      "    train_row['app_id'] = row[8]\n",
      "    train_row['app_domain'] = row[9]\n",
      "    train_row['app_category'] = row[10]\n",
      "    train_row['device_id'] = row[11]\n",
      "    train_row['device_ip'] = row[12]\n",
      "    train_row['device_model'] = row[13]\n",
      "    train_row['device_type'] = int(row[14])\n",
      "    train_row['device_conn_type'] = int(row[15])\n",
      "    train_row['C14'] = int(row[16])\n",
      "    train_row['C15'] = int(row[17])\n",
      "    train_row['C16'] = int(row[18])\n",
      "    train_row['C17'] = int(row[19])\n",
      "    train_row['C18'] = int(row[20])\n",
      "    train_row['C19'] = int(row[21])\n",
      "    train_row['C20'] = int(row[22])\n",
      "    train_row['C21'] = int(row[23])\n",
      "    \n",
      "    train_row.append()\n",
      "    \n",
      "    flag += 1\n",
      "    \n",
      "    if flag > 100:\n",
      "        train_table_X.flush()\n",
      "        flag = 0\n",
      "        \n",
      "train_table_X.flush()\n",
      "\n",
      "end = time.time()\n",
      "print end-start, 'second'"
     ],
     "language": "python",
     "metadata": {},
     "outputs": [
      {
       "output_type": "stream",
       "stream": "stdout",
       "text": [
        "861.269048929 second\n"
       ]
      }
     ],
     "prompt_number": 11
    },
    {
     "cell_type": "code",
     "collapsed": false,
     "input": [
      "reader = csv.reader(open(\"train.csv\"))\n",
      "header = reader.next()"
     ],
     "language": "python",
     "metadata": {},
     "outputs": [],
     "prompt_number": 12
    },
    {
     "cell_type": "code",
     "collapsed": false,
     "input": [
      "start = time.time()\n",
      "\n",
      "for row in reader:\n",
      "    y_array.append(np.array([[int(row[1])]]))\n",
      "    \n",
      "end = time.time()\n",
      "print end-start, 'second'"
     ],
     "language": "python",
     "metadata": {},
     "outputs": [
      {
       "output_type": "stream",
       "stream": "stdout",
       "text": [
        "1107.43256712 second\n"
       ]
      }
     ],
     "prompt_number": 13
    },
    {
     "cell_type": "code",
     "collapsed": false,
     "input": [
      "readertest = csv.reader(open(\"test.csv\"))\n",
      "headertest = readertest.next()"
     ],
     "language": "python",
     "metadata": {},
     "outputs": [],
     "prompt_number": 14
    },
    {
     "cell_type": "code",
     "collapsed": false,
     "input": [
      "test_row = test_table_X.row\n",
      "flag = 0\n",
      "start = time.time()\n",
      "\n",
      "for row in readertest:\n",
      "    test_row['day'] = (int(row[1][4:6])-19)%7\n",
      "    test_row['hour'] = int(row[1][6:])\n",
      "    test_row['C1'] = int(row[2])\n",
      "    test_row['banner_pos'] = int(row[3])\n",
      "    test_row['site_id'] = row[4]\n",
      "    test_row['site_domain'] = row[5]\n",
      "    test_row['site_category'] = row[6]\n",
      "    test_row['app_id'] = row[7]\n",
      "    test_row['app_domain'] = row[8]\n",
      "    test_row['app_category'] = row[9]\n",
      "    test_row['device_id'] = row[10]\n",
      "    test_row['device_ip'] = row[11]\n",
      "    test_row['device_model'] = row[12]\n",
      "    test_row['device_type'] = int(row[13])\n",
      "    test_row['device_conn_type'] = int(row[14])\n",
      "    test_row['C14'] = int(row[15])\n",
      "    test_row['C15'] = int(row[16])\n",
      "    test_row['C16'] = int(row[17])\n",
      "    test_row['C17'] = int(row[18])\n",
      "    test_row['C18'] = int(row[19])\n",
      "    test_row['C19'] = int(row[20])\n",
      "    test_row['C20'] = int(row[21])\n",
      "    test_row['C21'] = int(row[22])\n",
      "    \n",
      "    test_row.append()\n",
      "    \n",
      "    flag += 1\n",
      "    \n",
      "    if flag > 100:\n",
      "        test_table_X.flush()\n",
      "        flag = 0\n",
      "        \n",
      "test_table_X.flush()\n",
      "end = time.time()\n",
      "print end-start, 'second'"
     ],
     "language": "python",
     "metadata": {},
     "outputs": [
      {
       "output_type": "stream",
       "stream": "stdout",
       "text": [
        "106.725503922 second\n"
       ]
      }
     ],
     "prompt_number": 15
    },
    {
     "cell_type": "heading",
     "level": 1,
     "metadata": {},
     "source": [
      "#"
     ]
    },
    {
     "cell_type": "code",
     "collapsed": false,
     "input": [
      "reader = csv.reader(open(\"train.csv\"))\n",
      "header = reader.next()"
     ],
     "language": "python",
     "metadata": {},
     "outputs": [],
     "prompt_number": 6
    },
    {
     "cell_type": "code",
     "collapsed": false,
     "input": [
      "flag = 0\n",
      "i = 0\n",
      "start = time.time()\n",
      "\n",
      "for row in reader:\n",
      "    if i < 36210029:\n",
      "        train_row = train_table_X_train.row\n",
      "        \n",
      "    else:\n",
      "        train_row = train_table_X_valid.row\n",
      "        \n",
      "\n",
      "    train_row['day'] = (int(row[2][4:6])-19)%7\n",
      "    train_row['hour'] = int(row[2][6:])\n",
      "    train_row['C1'] = int(row[3])\n",
      "    train_row['banner_pos'] = int(row[4])\n",
      "    train_row['site_id'] = row[5]\n",
      "    train_row['site_domain'] = row[6]\n",
      "    train_row['site_category'] = row[7]\n",
      "    train_row['app_id'] = row[8]\n",
      "    train_row['app_domain'] = row[9]\n",
      "    train_row['app_category'] = row[10]\n",
      "    train_row['device_id'] = row[11]\n",
      "    train_row['device_ip'] = row[12]\n",
      "    train_row['device_model'] = row[13]\n",
      "    train_row['device_type'] = int(row[14])\n",
      "    train_row['device_conn_type'] = int(row[15])\n",
      "    train_row['C14'] = int(row[16])\n",
      "    train_row['C15'] = int(row[17])\n",
      "    train_row['C16'] = int(row[18])\n",
      "    train_row['C17'] = int(row[19])\n",
      "    train_row['C18'] = int(row[20])\n",
      "    train_row['C19'] = int(row[21])\n",
      "    train_row['C20'] = int(row[22])\n",
      "    train_row['C21'] = int(row[23])\n",
      "    \n",
      "    train_row.append()\n",
      "    \n",
      "    flag += 1\n",
      "    \n",
      "    if flag > 100:\n",
      "        if i < 36210029:\n",
      "            train_table_X_train.flush()\n",
      "        else:\n",
      "            train_table_X_valid.flush()\n",
      "        flag = 0\n",
      "        \n",
      "    i += 1 \n",
      "    \n",
      "train_table_X_train.flush()\n",
      "train_table_X_valid.flush()\n",
      "\n",
      "end = time.time()\n",
      "print end-start, 'second'"
     ],
     "language": "python",
     "metadata": {},
     "outputs": [
      {
       "output_type": "stream",
       "stream": "stdout",
       "text": [
        "666.416548967 second\n"
       ]
      }
     ],
     "prompt_number": 7
    },
    {
     "cell_type": "code",
     "collapsed": false,
     "input": [
      "reader = csv.reader(open(\"train.csv\"))\n",
      "header = reader.next()"
     ],
     "language": "python",
     "metadata": {},
     "outputs": [],
     "prompt_number": 14
    },
    {
     "cell_type": "code",
     "collapsed": false,
     "input": [
      "i = 0\n",
      "start = time.time()\n",
      "\n",
      "for row in reader:\n",
      "    if i < 36210029:\n",
      "        y_array_train.append(np.array([[int(row[1])]]))\n",
      "    else:\n",
      "        y_array_valid.append(np.array([[int(row[1])]]))\n",
      "    i += 1\n",
      "end = time.time()\n",
      "print end-start, 'second'"
     ],
     "language": "python",
     "metadata": {},
     "outputs": [
      {
       "output_type": "stream",
       "stream": "stdout",
       "text": [
        "1039.38131189 second\n"
       ]
      }
     ],
     "prompt_number": 15
    }
   ],
   "metadata": {}
  }
 ]
}