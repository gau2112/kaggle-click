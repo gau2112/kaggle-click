{
 "metadata": {
  "name": "",
  "signature": "sha256:24aea25711d9066f48a8aaeb6479d48f60f4e2b837b8113be56b33de40bb9be3"
 },
 "nbformat": 3,
 "nbformat_minor": 0,
 "worksheets": [
  {
   "cells": [
    {
     "cell_type": "code",
     "collapsed": false,
     "input": [
      "import sklearn\n",
      "import pandas as pd\n",
      "import matplotlib.pyplot as plt\n",
      "from mpl_toolkits.mplot3d import Axes3D\n",
      "import time\n",
      "import cPickle\n",
      "import tables\n",
      "import numpy as np\n",
      "import scipy as sp\n",
      "import itertools"
     ],
     "language": "python",
     "metadata": {},
     "outputs": [],
     "prompt_number": 1
    },
    {
     "cell_type": "code",
     "collapsed": false,
     "input": [
      "from sklearn import grid_search\n",
      "from sklearn import cross_validation\n",
      "from sklearn import metrics\n",
      "from sklearn import preprocessing"
     ],
     "language": "python",
     "metadata": {},
     "outputs": [],
     "prompt_number": 2
    },
    {
     "cell_type": "code",
     "collapsed": false,
     "input": [
      "file_handler = tables.open_file(\"click_data.h5\", mode = \"r\")"
     ],
     "language": "python",
     "metadata": {},
     "outputs": [],
     "prompt_number": 3
    },
    {
     "cell_type": "code",
     "collapsed": false,
     "input": [
      "X = file_handler.root.train.train_raw.X\n",
      "y = file_handler.root.train.train_raw.y\n",
      "X_t = file_handler.root.test.test_raw.X_t"
     ],
     "language": "python",
     "metadata": {},
     "outputs": [],
     "prompt_number": 4
    },
    {
     "cell_type": "heading",
     "level": 2,
     "metadata": {},
     "source": [
      "feature extraction"
     ]
    },
    {
     "cell_type": "code",
     "collapsed": false,
     "input": [
      "f = open('colscate.pkl', 'rb')\n",
      "colcate = []\n",
      "for i in range(25):\n",
      "    colcate.append(cPickle.load(f))\n",
      "f.close()"
     ],
     "language": "python",
     "metadata": {},
     "outputs": [],
     "prompt_number": 5
    },
    {
     "cell_type": "code",
     "collapsed": false,
     "input": [
      "f = open('colscatetest5_1518.pkl', 'rb')\n",
      "colcatetest = []\n",
      "for i in range(17):\n",
      "    colcatetest.append(cPickle.load(f))\n",
      "f.close()"
     ],
     "language": "python",
     "metadata": {},
     "outputs": [],
     "prompt_number": 6
    },
    {
     "cell_type": "code",
     "collapsed": false,
     "input": [
      "#featureindex = [1,2,3,6,8,9,12,13,15,16,17,19,20,21,22,23,24,25]"
     ],
     "language": "python",
     "metadata": {},
     "outputs": [],
     "prompt_number": 7
    },
    {
     "cell_type": "code",
     "collapsed": false,
     "input": [
      "f = open('dayrows.pkl', 'r')\n",
      "dayrows = cPickle.load(f)\n",
      "f.close()"
     ],
     "language": "python",
     "metadata": {},
     "outputs": [],
     "prompt_number": 8
    },
    {
     "cell_type": "code",
     "collapsed": false,
     "input": [
      "X.shape"
     ],
     "language": "python",
     "metadata": {},
     "outputs": [
      {
       "metadata": {},
       "output_type": "pyout",
       "prompt_number": 9,
       "text": [
        "(47686351,)"
       ]
      }
     ],
     "prompt_number": 9
    },
    {
     "cell_type": "markdown",
     "metadata": {},
     "source": [
      "columns in my notebook to be clustered"
     ]
    },
    {
     "cell_type": "code",
     "collapsed": false,
     "input": [
      "cols = [5, 6, 8, 9, 11, 12, 14, 15, 18, 19, 22, 25]"
     ],
     "language": "python",
     "metadata": {},
     "outputs": [],
     "prompt_number": 10
    },
    {
     "cell_type": "code",
     "collapsed": false,
     "input": [
      "numbercols = len(cols)"
     ],
     "language": "python",
     "metadata": {},
     "outputs": [],
     "prompt_number": 11
    },
    {
     "cell_type": "code",
     "collapsed": false,
     "input": [
      "numbercols"
     ],
     "language": "python",
     "metadata": {},
     "outputs": [
      {
       "metadata": {},
       "output_type": "pyout",
       "prompt_number": 12,
       "text": [
        "12"
       ]
      }
     ],
     "prompt_number": 12
    },
    {
     "cell_type": "markdown",
     "metadata": {},
     "source": [
      "colcate index in cols"
     ]
    },
    {
     "cell_type": "code",
     "collapsed": false,
     "input": [
      "trainindex = [3, 4, 6, 7, 9, 10, 12, 13, 16, 17, 20, 23]"
     ],
     "language": "python",
     "metadata": {},
     "outputs": [],
     "prompt_number": 13
    },
    {
     "cell_type": "markdown",
     "metadata": {},
     "source": [
      "colcatetest index in cols"
     ]
    },
    {
     "cell_type": "code",
     "collapsed": false,
     "input": [
      "testindex = [0, 1, 3, 4, 6, 7, 9, 10, 11, 12, 13, 15]"
     ],
     "language": "python",
     "metadata": {},
     "outputs": [],
     "prompt_number": 14
    },
    {
     "cell_type": "heading",
     "level": 2,
     "metadata": {},
     "source": [
      "Start from here"
     ]
    },
    {
     "cell_type": "code",
     "collapsed": false,
     "input": [
      "ithcol = 11"
     ],
     "language": "python",
     "metadata": {},
     "outputs": [],
     "prompt_number": 175
    },
    {
     "cell_type": "code",
     "collapsed": false,
     "input": [
      "colsi = np.unique(np.concatenate((colcate[trainindex[ithcol]],colcatetest[testindex[ithcol]])))\n",
      "print 'features shape: ', colsi.shape\n",
      "colid = {x: [0,0,0] for x in colsi}"
     ],
     "language": "python",
     "metadata": {},
     "outputs": [
      {
       "output_type": "stream",
       "stream": "stdout",
       "text": [
        "features shape:  (171,)\n"
       ]
      }
     ],
     "prompt_number": 176
    },
    {
     "cell_type": "code",
     "collapsed": false,
     "input": [
      "X = file_handler.root.train.train_raw.X\n",
      "y = file_handler.root.train.train_raw.y\n",
      "X_t = file_handler.root.test.test_raw.X_t"
     ],
     "language": "python",
     "metadata": {},
     "outputs": [],
     "prompt_number": 179
    },
    {
     "cell_type": "code",
     "collapsed": false,
     "input": [
      "#train data\n",
      "start = time.time()\n",
      "#flag=0\n",
      "for sample, target in itertools.izip(X, y):\n",
      "    cr = colid[sample[cols[ithcol]-1]]\n",
      "    cr[0]+=1\n",
      "    cr[1]+=target[0]\n",
      "    #flag+=1\n",
      "    #if flag==100:\n",
      "    #    break\n",
      "end = time.time()\n",
      "print 'train data:', end-start, 'second'"
     ],
     "language": "python",
     "metadata": {},
     "outputs": [
      {
       "output_type": "stream",
       "stream": "stdout",
       "text": [
        "train data: 101.175451994 second\n"
       ]
      }
     ],
     "prompt_number": 180
    },
    {
     "cell_type": "code",
     "collapsed": false,
     "input": [
      "#test data\n",
      "start = time.time()\n",
      "for sample in X_t:\n",
      "    colid[sample[cols[ithcol]-1]][2]+=1        \n",
      "end = time.time()\n",
      "print 'test data:', end-start, 'second'"
     ],
     "language": "python",
     "metadata": {},
     "outputs": [
      {
       "output_type": "stream",
       "stream": "stdout",
       "text": [
        "test data: 1.55491185188 second\n"
       ]
      }
     ],
     "prompt_number": 181
    },
    {
     "cell_type": "markdown",
     "metadata": {},
     "source": [
      "dictionary to nparray"
     ]
    },
    {
     "cell_type": "code",
     "collapsed": false,
     "input": [
      "keys = sorted(colid.keys())\n",
      "keys = np.array(keys)\n",
      "coli = np.zeros((len(keys),3), dtype=np.float32)\n",
      "for i in xrange(len(keys)):\n",
      "    for j in range(3):\n",
      "        coli[i][j] = colid[keys[i]][j]"
     ],
     "language": "python",
     "metadata": {},
     "outputs": [],
     "prompt_number": 182
    },
    {
     "cell_type": "markdown",
     "metadata": {},
     "source": [
      "delete categories not in train or test data"
     ]
    },
    {
     "cell_type": "code",
     "collapsed": false,
     "input": [
      "a = coli[:,0] == 0.\n",
      "notrain = keys[a]\n",
      "b = coli[:,2] == 0\n",
      "notest = keys[b]\n",
      "c = []\n",
      "for i,j in itertools.izip(a,b):\n",
      "    c.append(not (i or j))\n",
      "c = np.array(c)\n",
      "traintest = keys[c]\n",
      "coli = coli[c]"
     ],
     "language": "python",
     "metadata": {},
     "outputs": [],
     "prompt_number": 183
    },
    {
     "cell_type": "code",
     "collapsed": false,
     "input": [
      "print notrain.shape\n",
      "print notest.shape\n",
      "print traintest.shape"
     ],
     "language": "python",
     "metadata": {},
     "outputs": [
      {
       "output_type": "stream",
       "stream": "stdout",
       "text": [
        "(0,)\n",
        "(8,)\n",
        "(163,)\n"
       ]
      }
     ],
     "prompt_number": 184
    },
    {
     "cell_type": "markdown",
     "metadata": {},
     "source": [
      "click counts to click rate"
     ]
    },
    {
     "cell_type": "markdown",
     "metadata": {},
     "source": [
      "not use the code below"
     ]
    },
    {
     "cell_type": "code",
     "collapsed": false,
     "input": [
      "coli[:,1] = coli[:,1]/coli[:,0]"
     ],
     "language": "python",
     "metadata": {},
     "outputs": [],
     "prompt_number": 58
    },
    {
     "cell_type": "code",
     "collapsed": false,
     "input": [
      "coli"
     ],
     "language": "python",
     "metadata": {},
     "outputs": [
      {
       "metadata": {},
       "output_type": "pyout",
       "prompt_number": 59,
       "text": [
        "array([[  8.88000000e+02,   4.56081092e-01,   9.10000000e+01],\n",
        "       [  2.41400000e+03,   1.73985083e-02,   3.13000000e+02],\n",
        "       [  1.38680000e+04,   8.89097229e-02,   4.50000000e+01],\n",
        "       ..., \n",
        "       [  1.57682000e+05,   7.53351673e-02,   1.34560000e+04],\n",
        "       [  1.80000000e+01,   2.77777791e-01,   4.00000000e+00],\n",
        "       [  6.00000000e+01,   3.00000012e-01,   3.00000000e+00]], dtype=float32)"
       ]
      }
     ],
     "prompt_number": 59
    },
    {
     "cell_type": "code",
     "collapsed": false,
     "input": [
      "coli[:,1] = coli[:,1]*coli[:,0]"
     ],
     "language": "python",
     "metadata": {},
     "outputs": [],
     "prompt_number": 54
    },
    {
     "cell_type": "code",
     "collapsed": false,
     "input": [
      "######################################\n",
      "fig, axes = plt.subplots()\n",
      "axes.set_xlabel('')\n",
      "axes.set_ylabel('')\n",
      "axes.plot(coli[:,0], coli[:,1], 'bo')\n",
      "plt.show()\n",
      "#fig.savefig(\"rf_featureimportance_more_mul.svg\")\n",
      "#######################################"
     ],
     "language": "python",
     "metadata": {},
     "outputs": [],
     "prompt_number": 47
    },
    {
     "cell_type": "heading",
     "level": 4,
     "metadata": {},
     "source": [
      "standarization"
     ]
    },
    {
     "cell_type": "code",
     "collapsed": false,
     "input": [
      "scaler = preprocessing.StandardScaler(copy=True, with_mean=True, with_std=True)\n",
      "colistandard = scaler.fit_transform(coli) \n",
      "print 'mean:', scaler.mean_ \n",
      "print 'std:', scaler.std_"
     ],
     "language": "python",
     "metadata": {},
     "outputs": [
      {
       "output_type": "stream",
       "stream": "stdout",
       "text": [
        "mean: [ 291570.40625      50390.1484375    29260.12890625]\n",
        "std: [ 1894564.25       371824.9375     194862.453125]\n"
       ]
      }
     ],
     "prompt_number": 185
    },
    {
     "cell_type": "code",
     "collapsed": false,
     "input": [
      "######################################\n",
      "fig, axes = plt.subplots()\n",
      "axes.set_xlabel('')\n",
      "axes.set_ylabel('')\n",
      "axes.plot(colistandard[:,0], colistandard[:,1], 'bo')\n",
      "plt.show()\n",
      "#fig.savefig(\"rf_featureimportance_more_mul.svg\")\n",
      "#######################################"
     ],
     "language": "python",
     "metadata": {},
     "outputs": [],
     "prompt_number": 186
    },
    {
     "cell_type": "code",
     "collapsed": false,
     "input": [
      "fig = plt.figure()\n",
      "ax = fig.add_subplot(111, projection='3d')\n",
      "\n",
      "ax.scatter(colistandard[:,0], colistandard[:,1], colistandard[:,2], c='r', marker='o', alpha=0.3)\n",
      "\n",
      "ax.set_xlabel('0 Label')\n",
      "ax.set_ylabel('1 Label')\n",
      "ax.set_zlabel('2 Label')\n",
      "#ax.set_xlim3d(left=-1, right=1)\n",
      "#ax.set_ylim3d(bottom=-1, top=1)\n",
      "#ax.set_zlim3d(bottom=-1, top=1)\n",
      "\n",
      "#u = np.linspace(0, 2 * np.pi, 100)\n",
      "#v = np.linspace(0, np.pi, 100)\n",
      "\n",
      "# gravity on earth from wikipedia\n",
      "#g = 9.80665\n",
      "#g=1\n",
      "\n",
      "#x = g * np.outer(np.cos(u), np.sin(v))\n",
      "#y = g * np.outer(np.sin(u), np.sin(v))\n",
      "#z = g * np.outer(np.ones(np.size(u)), np.cos(v))\n",
      "# alpha is used to denote the transparent of the figure, float (0.0 transparent through 1.0 opaque)\n",
      "#ax.plot_surface(x, y, z,  rstride=4, cstride=4, color='y', alpha=0.3)\n",
      "\n",
      "plt.show()\n",
      "\n",
      "ax.view_init(70, 30)"
     ],
     "language": "python",
     "metadata": {},
     "outputs": [
      {
       "output_type": "stream",
       "stream": "stderr",
       "text": [
        "/home/whale/anaconda/lib/python2.7/site-packages/mpl_toolkits/mplot3d/axes3d.py:1094: FutureWarning: comparison to `None` will result in an elementwise object comparison in the future.\n",
        "  if self.button_pressed in self._rotate_btn:\n"
       ]
      }
     ],
     "prompt_number": 24
    },
    {
     "cell_type": "heading",
     "level": 2,
     "metadata": {},
     "source": [
      "feature clustering"
     ]
    },
    {
     "cell_type": "heading",
     "level": 3,
     "metadata": {},
     "source": [
      "Manifold"
     ]
    },
    {
     "cell_type": "code",
     "collapsed": false,
     "input": [
      "from sklearn import manifold"
     ],
     "language": "python",
     "metadata": {},
     "outputs": [],
     "prompt_number": 52
    },
    {
     "cell_type": "code",
     "collapsed": false,
     "input": [
      "colistandard.shape"
     ],
     "language": "python",
     "metadata": {},
     "outputs": [
      {
       "metadata": {},
       "output_type": "pyout",
       "prompt_number": 187,
       "text": [
        "(163, 3)"
       ]
      }
     ],
     "prompt_number": 187
    },
    {
     "cell_type": "heading",
     "level": 4,
     "metadata": {},
     "source": [
      "t-SNE"
     ]
    },
    {
     "cell_type": "code",
     "collapsed": false,
     "input": [
      "tsne = manifold.TSNE(n_components=2, perplexity=5.0, early_exaggeration=4.0, learning_rate=1000.0, \\\n",
      "                     n_iter=1000, metric='euclidean', init='pca', verbose=0, random_state=1988)\n",
      "transformed = tsne.fit_transform(colistandard.astype(np.float64))"
     ],
     "language": "python",
     "metadata": {},
     "outputs": [],
     "prompt_number": 188
    },
    {
     "cell_type": "code",
     "collapsed": false,
     "input": [
      "######################################\n",
      "fig, axes = plt.subplots()\n",
      "axes.set_xlabel('')\n",
      "axes.set_ylabel('')\n",
      "axes.plot(transformed[:,0], transformed[:,1], 'bo')\n",
      "plt.show()\n",
      "#fig.savefig(\"rf_featureimportance_more_mul.svg\")\n",
      "#######################################"
     ],
     "language": "python",
     "metadata": {},
     "outputs": [],
     "prompt_number": 189
    },
    {
     "cell_type": "heading",
     "level": 4,
     "metadata": {},
     "source": [
      "isomap"
     ]
    },
    {
     "cell_type": "code",
     "collapsed": false,
     "input": [
      "isomap = manifold.Isomap(n_neighbors=5, n_components=2, eigen_solver='auto', tol=0, max_iter=None, path_method='auto', \\\n",
      "                neighbors_algorithm='auto')\n",
      "isotransformed = isomap.fit_transform(colistandard)"
     ],
     "language": "python",
     "metadata": {},
     "outputs": []
    },
    {
     "cell_type": "code",
     "collapsed": false,
     "input": [
      "######################################\n",
      "fig, axes = plt.subplots()\n",
      "axes.set_xlabel('')\n",
      "axes.set_ylabel('')\n",
      "axes.plot(isotransformed[:,0], isotransformed[:,1], 'bo')\n",
      "plt.show()\n",
      "#fig.savefig(\"rf_featureimportance_more_mul.svg\")\n",
      "#######################################"
     ],
     "language": "python",
     "metadata": {},
     "outputs": [],
     "prompt_number": 29
    },
    {
     "cell_type": "heading",
     "level": 4,
     "metadata": {},
     "source": [
      "LLE"
     ]
    },
    {
     "cell_type": "code",
     "collapsed": false,
     "input": [
      "lle = manifold.LocallyLinearEmbedding(n_neighbors=5, n_components=2, reg=0.001, eigen_solver='auto', \\\n",
      "                                tol=1e-06, max_iter=100, method='standard', hessian_tol=0.0001, \\\n",
      "                                modified_tol=1e-12, neighbors_algorithm='auto', random_state=1988)\n",
      "lletransformed = lle.fit_transform(colistandard)"
     ],
     "language": "python",
     "metadata": {},
     "outputs": []
    },
    {
     "cell_type": "code",
     "collapsed": false,
     "input": [
      "######################################\n",
      "fig, axes = plt.subplots()\n",
      "axes.set_xlabel('')\n",
      "axes.set_ylabel('')\n",
      "axes.plot(lletransformed[:,0], lletransformed[:,1], 'bo')\n",
      "plt.show()\n",
      "#fig.savefig(\"rf_featureimportance_more_mul.svg\")\n",
      "#######################################"
     ],
     "language": "python",
     "metadata": {},
     "outputs": [],
     "prompt_number": 31
    },
    {
     "cell_type": "heading",
     "level": 4,
     "metadata": {},
     "source": [
      "MDS"
     ]
    },
    {
     "cell_type": "code",
     "collapsed": true,
     "input": [
      "mds = manifold.MDS(n_components=2, metric=True, n_init=4, max_iter=300, verbose=0, \\\n",
      "             eps=0.001, n_jobs=1, random_state=1988, dissimilarity='euclidean')\n",
      "mdstransformed = mds.fit_transform(colistandard.astype(np.float64))"
     ],
     "language": "python",
     "metadata": {},
     "outputs": []
    },
    {
     "cell_type": "code",
     "collapsed": false,
     "input": [
      "######################################\n",
      "fig, axes = plt.subplots()\n",
      "axes.set_xlabel('')\n",
      "axes.set_ylabel('')\n",
      "axes.plot(mdstransformed[:,0], mdstransformed[:,1], 'bo')\n",
      "plt.show()\n",
      "#fig.savefig(\"rf_featureimportance_more_mul.svg\")\n",
      "#######################################"
     ],
     "language": "python",
     "metadata": {},
     "outputs": [],
     "prompt_number": 33
    },
    {
     "cell_type": "heading",
     "level": 4,
     "metadata": {},
     "source": [
      "Spectral Embedding"
     ]
    },
    {
     "cell_type": "code",
     "collapsed": false,
     "input": [
      "se = manifold.SpectralEmbedding(n_components=2, affinity='nearest_neighbors', gamma=None, \\\n",
      "                                random_state=1988, eigen_solver=None, n_neighbors=None)\n",
      "setransformed = se.fit_transform(colistandard)"
     ],
     "language": "python",
     "metadata": {},
     "outputs": []
    },
    {
     "cell_type": "code",
     "collapsed": false,
     "input": [
      "######################################\n",
      "fig, axes = plt.subplots()\n",
      "axes.set_xlabel('')\n",
      "axes.set_ylabel('')\n",
      "axes.plot(setransformed[:,0], setransformed[:,1], 'bo')\n",
      "plt.show()\n",
      "#fig.savefig(\"rf_featureimportance_more_mul.svg\")\n",
      "#######################################"
     ],
     "language": "python",
     "metadata": {},
     "outputs": [],
     "prompt_number": 35
    },
    {
     "cell_type": "heading",
     "level": 3,
     "metadata": {},
     "source": [
      "DBSCAN"
     ]
    },
    {
     "cell_type": "code",
     "collapsed": false,
     "input": [
      "from sklearn import cluster"
     ],
     "language": "python",
     "metadata": {},
     "outputs": [],
     "prompt_number": 56
    },
    {
     "cell_type": "code",
     "collapsed": false,
     "input": [
      "db = cluster.DBSCAN(eps=2.3, min_samples=3, metric='euclidean', algorithm='auto', leaf_size=30, p=None, random_state=1988)\n",
      "db.fit_predict(transformed, y=None)\n",
      "core_samples_db = db.core_sample_indices_\n",
      "labels_db = db.labels_\n",
      "print 'labels:', np.unique(labels_db)"
     ],
     "language": "python",
     "metadata": {},
     "outputs": [
      {
       "output_type": "stream",
       "stream": "stdout",
       "text": [
        "labels: [ -1   0   1   2   3   4   5   6   7   8   9  10  11  12  13  14  15  16\n",
        "  17  18  19  20  21  22  23  24  25  26  27  28  29  30  31  32  33  34\n",
        "  35  36  37  38  39  40  41  42  43  44  45  46  47  48  49  50  51  52\n",
        "  53  54  55  56  57  58  59  60  61  62  63  64  65  66  67  68  69  70\n",
        "  71  72  73  74  75  76  77  78  79  80  81  82  83  84  85  86  87  88\n",
        "  89  90  91  92  93  94  95  96  97  98  99 100 101 102 103 104 105 106\n",
        " 107 108 109 110 111 112 113 114 115 116 117 118 119 120 121 122 123 124\n",
        " 125 126 127]\n"
       ]
      }
     ],
     "prompt_number": 140
    },
    {
     "cell_type": "markdown",
     "metadata": {},
     "source": [
      "db = cluster.DBSCAN(eps=1, min_samples=3, metric='euclidean', algorithm='auto', leaf_size=30, p=None, random_state=1988)\n",
      "db.fit_predict(coli[:,:2], y=None)\n",
      "core_samples_db = db.core_sample_indices_\n",
      "labels_db = db.labels_\n",
      "print 'labels:', np.unique(labels_db)"
     ]
    },
    {
     "cell_type": "code",
     "collapsed": false,
     "input": [
      "len(transformed[labels_db == -1])"
     ],
     "language": "python",
     "metadata": {},
     "outputs": [
      {
       "metadata": {},
       "output_type": "pyout",
       "prompt_number": 141,
       "text": [
        "35"
       ]
      }
     ],
     "prompt_number": 141
    },
    {
     "cell_type": "code",
     "collapsed": false,
     "input": [
      "fig, axes = plt.subplots()\n",
      "axes.set_xlabel('')\n",
      "axes.set_ylabel('')\n",
      "#axes.set_xlim(left=-1, right=1)\n",
      "#axes.set_ylim(bottom=-1, top=1)\n",
      "\n",
      "unique_labels = set(labels_db)\n",
      "colors = plt.cm.Spectral(np.linspace(0, 1, len(unique_labels)))\n",
      "\n",
      "\n",
      "for k, col in zip(unique_labels, colors):\n",
      "    if k == -1:\n",
      "        # Black used for noise.\n",
      "        col = 'k'\n",
      "\n",
      "    class_member_mask = (labels_db == k)\n",
      "\n",
      "    xy = transformed[class_member_mask]\n",
      "\n",
      "    axes.plot(xy[:,0], xy[:,1], 'o', markerfacecolor=col,\n",
      "             markeredgecolor='k')\n",
      "\n",
      "plt.show()\n",
      "\n",
      "#ax.view_init(70, 30)"
     ],
     "language": "python",
     "metadata": {},
     "outputs": [],
     "prompt_number": 142
    },
    {
     "cell_type": "heading",
     "level": 2,
     "metadata": {},
     "source": [
      "Storage"
     ]
    },
    {
     "cell_type": "code",
     "collapsed": false,
     "input": [
      "colis = {x: 0 for x in colsi}"
     ],
     "language": "python",
     "metadata": {},
     "outputs": [],
     "prompt_number": 190
    },
    {
     "cell_type": "code",
     "collapsed": false,
     "input": [
      "keys"
     ],
     "language": "python",
     "metadata": {},
     "outputs": [
      {
       "metadata": {},
       "output_type": "pyout",
       "prompt_number": 191,
       "text": [
        "array([    -1, 100000, 100001, 100002, 100003, 100004, 100005, 100006,\n",
        "       100008, 100010, 100012, 100013, 100016, 100019, 100020, 100021,\n",
        "       100022, 100024, 100025, 100026, 100027, 100028, 100029, 100031,\n",
        "       100032, 100033, 100034, 100037, 100039, 100040, 100041, 100043,\n",
        "       100046, 100048, 100049, 100050, 100051, 100052, 100053, 100054,\n",
        "       100055, 100056, 100057, 100058, 100059, 100060, 100061, 100062,\n",
        "       100063, 100064, 100065, 100068, 100070, 100071, 100072, 100073,\n",
        "       100074, 100075, 100076, 100077, 100078, 100079, 100081, 100082,\n",
        "       100083, 100084, 100086, 100087, 100088, 100090, 100091, 100093,\n",
        "       100094, 100095, 100096, 100097, 100098, 100099, 100100, 100101,\n",
        "       100103, 100105, 100106, 100107, 100108, 100109, 100111, 100112,\n",
        "       100113, 100114, 100117, 100119, 100121, 100122, 100123, 100124,\n",
        "       100126, 100128, 100130, 100131, 100132, 100133, 100134, 100135,\n",
        "       100137, 100138, 100139, 100141, 100143, 100144, 100148, 100149,\n",
        "       100150, 100151, 100152, 100153, 100155, 100156, 100157, 100160,\n",
        "       100161, 100162, 100163, 100165, 100166, 100168, 100169, 100170,\n",
        "       100171, 100172, 100173, 100175, 100176, 100177, 100178, 100179,\n",
        "       100181, 100182, 100183, 100185, 100186, 100187, 100188, 100189,\n",
        "       100190, 100191, 100192, 100193, 100194, 100195, 100198, 100199,\n",
        "       100200, 100202, 100205, 100206, 100210, 100212, 100213, 100215,\n",
        "       100217, 100221, 100224, 100225, 100228, 100229, 100233, 100241,\n",
        "       100244, 100246, 100248])"
       ]
      }
     ],
     "prompt_number": 191
    },
    {
     "cell_type": "code",
     "collapsed": false,
     "input": [
      "labels = labels_db+2"
     ],
     "language": "python",
     "metadata": {},
     "outputs": [],
     "prompt_number": 192
    },
    {
     "cell_type": "code",
     "collapsed": false,
     "input": [
      "for key in notrain:\n",
      "    colis[key] = 0\n",
      "for key in notest:\n",
      "    colis[key] = 1"
     ],
     "language": "python",
     "metadata": {},
     "outputs": [],
     "prompt_number": 193
    },
    {
     "cell_type": "code",
     "collapsed": false,
     "input": [
      "flag=0\n",
      "clusterlabel = np.unique(labels_db).shape[0]+1\n",
      "for key,k in itertools.izip(traintest, xrange(len(traintest))):\n",
      "    if labels[k] == 1:\n",
      "        colis[key] = clusterlabel+flag\n",
      "        flag+=1\n",
      "    else:\n",
      "        colis[key] = labels[k]"
     ],
     "language": "python",
     "metadata": {},
     "outputs": [],
     "prompt_number": 194
    },
    {
     "cell_type": "markdown",
     "metadata": {},
     "source": [
      "or not transform"
     ]
    },
    {
     "cell_type": "code",
     "collapsed": false,
     "input": [
      "for key,k in itertools.izip(traintest, xrange(len(traintest))):\n",
      "    colis[key] = k+2"
     ],
     "language": "python",
     "metadata": {},
     "outputs": [],
     "prompt_number": 170
    },
    {
     "cell_type": "code",
     "collapsed": true,
     "input": [
      "colis"
     ],
     "language": "python",
     "metadata": {},
     "outputs": [
      {
       "metadata": {},
       "output_type": "pyout",
       "prompt_number": 195,
       "text": [
        "{-1: 121,\n",
        " 100000: 121,\n",
        " 100001: 121,\n",
        " 100002: 121,\n",
        " 100003: 70,\n",
        " 100004: 3,\n",
        " 100005: 130,\n",
        " 100006: 9,\n",
        " 100008: 1,\n",
        " 100010: 9,\n",
        " 100012: 131,\n",
        " 100013: 9,\n",
        " 100016: 9,\n",
        " 100019: 20,\n",
        " 100020: 51,\n",
        " 100021: 33,\n",
        " 100022: 33,\n",
        " 100024: 33,\n",
        " 100025: 33,\n",
        " 100026: 14,\n",
        " 100027: 1,\n",
        " 100028: 89,\n",
        " 100029: 33,\n",
        " 100031: 1,\n",
        " 100032: 1,\n",
        " 100033: 1,\n",
        " 100034: 89,\n",
        " 100037: 33,\n",
        " 100039: 33,\n",
        " 100040: 89,\n",
        " 100041: 33,\n",
        " 100043: 33,\n",
        " 100046: 33,\n",
        " 100048: 33,\n",
        " 100049: 3,\n",
        " 100050: 49,\n",
        " 100051: 82,\n",
        " 100052: 82,\n",
        " 100053: 5,\n",
        " 100054: 82,\n",
        " 100055: 82,\n",
        " 100056: 39,\n",
        " 100057: 39,\n",
        " 100058: 39,\n",
        " 100059: 1,\n",
        " 100060: 103,\n",
        " 100061: 103,\n",
        " 100062: 103,\n",
        " 100063: 12,\n",
        " 100064: 12,\n",
        " 100065: 103,\n",
        " 100068: 132,\n",
        " 100070: 59,\n",
        " 100071: 84,\n",
        " 100072: 84,\n",
        " 100073: 12,\n",
        " 100074: 87,\n",
        " 100075: 37,\n",
        " 100076: 37,\n",
        " 100077: 20,\n",
        " 100078: 60,\n",
        " 100079: 60,\n",
        " 100081: 51,\n",
        " 100082: 70,\n",
        " 100083: 51,\n",
        " 100084: 51,\n",
        " 100086: 12,\n",
        " 100087: 51,\n",
        " 100088: 49,\n",
        " 100090: 49,\n",
        " 100091: 19,\n",
        " 100093: 11,\n",
        " 100094: 11,\n",
        " 100095: 19,\n",
        " 100096: 19,\n",
        " 100097: 19,\n",
        " 100098: 19,\n",
        " 100099: 19,\n",
        " 100100: 11,\n",
        " 100101: 11,\n",
        " 100103: 98,\n",
        " 100105: 98,\n",
        " 100106: 124,\n",
        " 100107: 46,\n",
        " 100108: 46,\n",
        " 100109: 127,\n",
        " 100111: 14,\n",
        " 100112: 87,\n",
        " 100113: 87,\n",
        " 100114: 87,\n",
        " 100117: 87,\n",
        " 100119: 87,\n",
        " 100121: 87,\n",
        " 100122: 37,\n",
        " 100123: 37,\n",
        " 100124: 93,\n",
        " 100126: 93,\n",
        " 100128: 93,\n",
        " 100130: 71,\n",
        " 100131: 71,\n",
        " 100132: 22,\n",
        " 100133: 83,\n",
        " 100134: 81,\n",
        " 100135: 5,\n",
        " 100137: 5,\n",
        " 100138: 40,\n",
        " 100139: 80,\n",
        " 100141: 80,\n",
        " 100143: 80,\n",
        " 100144: 80,\n",
        " 100148: 106,\n",
        " 100149: 106,\n",
        " 100150: 3,\n",
        " 100151: 3,\n",
        " 100152: 26,\n",
        " 100153: 26,\n",
        " 100155: 9,\n",
        " 100156: 50,\n",
        " 100157: 50,\n",
        " 100160: 50,\n",
        " 100161: 82,\n",
        " 100162: 82,\n",
        " 100163: 82,\n",
        " 100165: 103,\n",
        " 100166: 128,\n",
        " 100168: 128,\n",
        " 100169: 128,\n",
        " 100170: 128,\n",
        " 100171: 107,\n",
        " 100172: 107,\n",
        " 100173: 107,\n",
        " 100175: 46,\n",
        " 100176: 46,\n",
        " 100177: 46,\n",
        " 100178: 46,\n",
        " 100179: 70,\n",
        " 100181: 70,\n",
        " 100182: 62,\n",
        " 100183: 70,\n",
        " 100185: 112,\n",
        " 100186: 112,\n",
        " 100187: 1,\n",
        " 100188: 112,\n",
        " 100189: 112,\n",
        " 100190: 39,\n",
        " 100191: 39,\n",
        " 100192: 39,\n",
        " 100193: 39,\n",
        " 100194: 9,\n",
        " 100195: 97,\n",
        " 100198: 1,\n",
        " 100199: 97,\n",
        " 100200: 39,\n",
        " 100202: 93,\n",
        " 100205: 133,\n",
        " 100206: 91,\n",
        " 100210: 96,\n",
        " 100212: 39,\n",
        " 100213: 98,\n",
        " 100215: 58,\n",
        " 100217: 82,\n",
        " 100221: 103,\n",
        " 100224: 12,\n",
        " 100225: 12,\n",
        " 100228: 12,\n",
        " 100229: 84,\n",
        " 100233: 41,\n",
        " 100241: 41,\n",
        " 100244: 40,\n",
        " 100246: 83,\n",
        " 100248: 5}"
       ]
      }
     ],
     "prompt_number": 195
    },
    {
     "cell_type": "code",
     "collapsed": false,
     "input": [
      "len(colis)"
     ],
     "language": "python",
     "metadata": {},
     "outputs": [
      {
       "metadata": {},
       "output_type": "pyout",
       "prompt_number": 196,
       "text": [
        "171"
       ]
      }
     ],
     "prompt_number": 196
    },
    {
     "cell_type": "code",
     "collapsed": false,
     "input": [
      "f = open('clustercol'+str(cols[ithcol])+'.pkl', 'wb')\n",
      "cPickle.dump(colis, f, -1)\n",
      "f.close()"
     ],
     "language": "python",
     "metadata": {},
     "outputs": [],
     "prompt_number": 197
    },
    {
     "cell_type": "code",
     "collapsed": false,
     "input": [
      "f = open('countcol'+str(cols[ithcol])+'.pkl', 'wb')\n",
      "cPickle.dump(colid, f, -1)\n",
      "f.close()"
     ],
     "language": "python",
     "metadata": {},
     "outputs": [],
     "prompt_number": 198
    },
    {
     "cell_type": "heading",
     "level": 2,
     "metadata": {},
     "source": [
      "Testing"
     ]
    },
    {
     "cell_type": "code",
     "collapsed": false,
     "input": [
      "fig = plt.figure()\n",
      "ax = fig.add_subplot(111, projection='3d')\n",
      "\n",
      "#ax.scatter(col5standard[:,0], col5standard[:,1], col5standard[:,2], c='r', marker='o')\n",
      "\n",
      "ax.set_xlabel('0 Label')\n",
      "ax.set_ylabel('1 Label')\n",
      "ax.set_zlabel('2 Label')\n",
      "ax.set_xlim3d(left=-1, right=1)\n",
      "ax.set_ylim3d(bottom=-1, top=1)\n",
      "ax.set_zlim3d(bottom=-1, top=1)\n",
      "\n",
      "unique_labels = set(labels_db)\n",
      "colors = plt.cm.Spectral(np.linspace(0, 1, len(unique_labels)))\n",
      "\n",
      "for k, col in zip(unique_labels, colors):\n",
      "    if k == -1:\n",
      "        # Black used for noise.\n",
      "        col = 'k'\n",
      "\n",
      "    class_member_mask = (labels_db == k)\n",
      "\n",
      "    xyz = colistandard[class_member_mask]\n",
      "\n",
      "    ax.scatter(xyz[:,0], xyz[:,1], xyz[:,2], c=col, marker='o')\n",
      "#u = np.linspace(0, 2 * np.pi, 100)\n",
      "#v = np.linspace(0, np.pi, 100)\n",
      "\n",
      "# gravity on earth from wikipedia\n",
      "#g = 9.80665\n",
      "#g=1\n",
      "\n",
      "#x = g * np.outer(np.cos(u), np.sin(v))\n",
      "#y = g * np.outer(np.sin(u), np.sin(v))\n",
      "#z = g * np.outer(np.ones(np.size(u)), np.cos(v))\n",
      "# alpha is used to denote the transparent of the figure, float (0.0 transparent through 1.0 opaque)\n",
      "#ax.plot_surface(x, y, z,  rstride=4, cstride=4, color='y', alpha=0.3)\n",
      "\n",
      "plt.show()\n",
      "\n",
      "ax.view_init(70, 30)"
     ],
     "language": "python",
     "metadata": {},
     "outputs": [],
     "prompt_number": 74
    },
    {
     "cell_type": "heading",
     "level": 4,
     "metadata": {},
     "source": [
      "Silhouette Coefficient"
     ]
    },
    {
     "cell_type": "code",
     "collapsed": false,
     "input": [
      "metrics.silhouette_score(X, labels, metric='euclidean', sample_size=None, random_state=1988)`y"
     ],
     "language": "python",
     "metadata": {},
     "outputs": []
    },
    {
     "cell_type": "code",
     "collapsed": false,
     "input": [
      "metrics.silhouette_samples(X, labels, metric='euclidean')"
     ],
     "language": "python",
     "metadata": {},
     "outputs": []
    },
    {
     "cell_type": "heading",
     "level": 3,
     "metadata": {},
     "source": [
      "PCA"
     ]
    },
    {
     "cell_type": "code",
     "collapsed": false,
     "input": [
      "from sklearn import decomposition\n",
      "\n",
      "pca = decomposition.PCA(n_components=2, copy=True, whiten=False)\n",
      "\n",
      "pcatransformed = pca.fit_transform(colistandard)"
     ],
     "language": "python",
     "metadata": {},
     "outputs": [],
     "prompt_number": 67
    },
    {
     "cell_type": "code",
     "collapsed": false,
     "input": [
      "######################################\n",
      "fig, axes = plt.subplots()\n",
      "axes.set_xlabel('')\n",
      "axes.set_ylabel('')\n",
      "axes.plot(pcatransformed[:,0], pcatransformed[:,1], 'bo')\n",
      "#axes.plot(pcatransformed, 'bo')\n",
      "plt.show()\n",
      "#fig.savefig(\"rf_featureimportance_more_mul.svg\")\n",
      "#######################################"
     ],
     "language": "python",
     "metadata": {},
     "outputs": [],
     "prompt_number": 69
    },
    {
     "cell_type": "code",
     "collapsed": false,
     "input": [
      "fig, axes = plt.subplots()\n",
      "axes.set_xlabel('')\n",
      "axes.set_ylabel('')\n",
      "#axes.set_xlim(left=-1, right=1)\n",
      "#axes.set_ylim(bottom=-1, top=1)\n",
      "\n",
      "unique_labels = set(labels_db)\n",
      "colors = plt.cm.Spectral(np.linspace(0, 1, len(unique_labels)))\n",
      "\n",
      "\n",
      "for k, col in zip(unique_labels, colors):\n",
      "    if k == -1:\n",
      "        # Black used for noise.\n",
      "        col = 'k'\n",
      "\n",
      "    class_member_mask = (labels_db == k)\n",
      "\n",
      "    xyz = transformed[class_member_mask]\n",
      "\n",
      "    axes.plot(xyz[:,0], xyz[:,1], 'o', markerfacecolor=col,\n",
      "             markeredgecolor='k')\n",
      "\n",
      "plt.show()\n",
      "\n",
      "#ax.view_init(70, 30)"
     ],
     "language": "python",
     "metadata": {},
     "outputs": []
    },
    {
     "cell_type": "code",
     "collapsed": false,
     "input": [],
     "language": "python",
     "metadata": {},
     "outputs": []
    },
    {
     "cell_type": "code",
     "collapsed": false,
     "input": [
      "#the method below cost too long time\n",
      "\n",
      "col5 = np.zeros((colcate[3].shape[0], 2), dtype=np.float32)\n",
      "\n",
      "start = time.time()\n",
      "flag=0\n",
      "for sample, target in itertools.izip(X, y):\n",
      "    cr = col5[np.where(colcate[3]==sample[4])[0]]\n",
      "    cr[:,0]+=1\n",
      "    cr[:,1]+=target[0]\n",
      "    flag+=1\n",
      "    if flag==100:\n",
      "        break\n",
      "end = time.time()\n",
      "print end-start, 'second'\n",
      "\n",
      "col5t = np.zeros((colcate[3].shape[0], 1), dtype=np.float32)\n",
      "\n",
      "start = time.time()\n",
      "for sample in X_t:\n",
      "    index = np.where(colcate[3]==sample[4])[0]\n",
      "    if index.nbytes != 0:\n",
      "        col5t[index][0]+=1        \n",
      "end = time.time()\n",
      "print end-start, 'second'"
     ],
     "language": "python",
     "metadata": {},
     "outputs": []
    },
    {
     "cell_type": "code",
     "collapsed": false,
     "input": [],
     "language": "python",
     "metadata": {},
     "outputs": []
    }
   ],
   "metadata": {}
  }
 ]
}