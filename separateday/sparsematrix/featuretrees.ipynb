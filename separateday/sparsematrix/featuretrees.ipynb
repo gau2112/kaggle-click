{
 "metadata": {
  "name": "",
  "signature": "sha256:d1bc5bfe02810b4f8674e972d61bdda3998bebfc70d2a1901d69a513824000e9"
 },
 "nbformat": 3,
 "nbformat_minor": 0,
 "worksheets": [
  {
   "cells": [
    {
     "cell_type": "code",
     "collapsed": false,
     "input": [
      "import sklearn\n",
      "import pandas as pd\n",
      "import matplotlib.pyplot as plt\n",
      "from mpl_toolkits.mplot3d import Axes3D\n",
      "import time\n",
      "import cPickle\n",
      "import tables\n",
      "import numpy as np\n",
      "import scipy as sp\n",
      "import itertools"
     ],
     "language": "python",
     "metadata": {},
     "outputs": [],
     "prompt_number": 1
    },
    {
     "cell_type": "code",
     "collapsed": false,
     "input": [
      "from sklearn import grid_search\n",
      "from sklearn import cross_validation\n",
      "from sklearn import metrics\n",
      "from sklearn import preprocessing"
     ],
     "language": "python",
     "metadata": {},
     "outputs": [],
     "prompt_number": 2
    },
    {
     "cell_type": "code",
     "collapsed": false,
     "input": [
      "file_handler = tables.open_file(\"click_data.h5\", mode = \"r\")"
     ],
     "language": "python",
     "metadata": {},
     "outputs": [],
     "prompt_number": 3
    },
    {
     "cell_type": "code",
     "collapsed": false,
     "input": [
      "X = file_handler.root.train.train_raw.X\n",
      "y = file_handler.root.train.train_raw.y\n",
      "X_t = file_handler.root.test.test_raw.X_t"
     ],
     "language": "python",
     "metadata": {},
     "outputs": [],
     "prompt_number": 4
    },
    {
     "cell_type": "heading",
     "level": 2,
     "metadata": {},
     "source": [
      "feature extraction"
     ]
    },
    {
     "cell_type": "code",
     "collapsed": false,
     "input": [
      "f = open('colscate.pkl', 'rb')\n",
      "colcate = []\n",
      "for i in range(25):\n",
      "    colcate.append(cPickle.load(f))\n",
      "f.close()"
     ],
     "language": "python",
     "metadata": {},
     "outputs": [],
     "prompt_number": 5
    },
    {
     "cell_type": "code",
     "collapsed": false,
     "input": [
      "f = open('colscatetest5_1518.pkl', 'rb')\n",
      "colcatetest = []\n",
      "for i in range(17):\n",
      "    colcatetest.append(cPickle.load(f))\n",
      "f.close()"
     ],
     "language": "python",
     "metadata": {},
     "outputs": [],
     "prompt_number": 6
    },
    {
     "cell_type": "code",
     "collapsed": false,
     "input": [
      "featureindex = [1,2,3,6,8,9,12,13,15,16,17,19,20,21,22,23,24,25]"
     ],
     "language": "python",
     "metadata": {},
     "outputs": [],
     "prompt_number": 7
    },
    {
     "cell_type": "code",
     "collapsed": false,
     "input": [
      "f = open('dayrows.pkl', 'r')\n",
      "dayrows = cPickle.load(f)\n",
      "f.close()"
     ],
     "language": "python",
     "metadata": {},
     "outputs": [],
     "prompt_number": 8
    },
    {
     "cell_type": "code",
     "collapsed": false,
     "input": [
      "X.shape"
     ],
     "language": "python",
     "metadata": {},
     "outputs": [
      {
       "metadata": {},
       "output_type": "pyout",
       "prompt_number": 9,
       "text": [
        "(47686351,)"
       ]
      }
     ],
     "prompt_number": 9
    },
    {
     "cell_type": "markdown",
     "metadata": {},
     "source": [
      "columns to be clustered"
     ]
    },
    {
     "cell_type": "code",
     "collapsed": false,
     "input": [
      "cols = [5, 6, 8, 9, 11, 12, 14, 15, 18, 19, 22, 25]"
     ],
     "language": "python",
     "metadata": {},
     "outputs": [],
     "prompt_number": 10
    },
    {
     "cell_type": "code",
     "collapsed": false,
     "input": [
      "numbercols = len(cols)"
     ],
     "language": "python",
     "metadata": {},
     "outputs": [],
     "prompt_number": 11
    },
    {
     "cell_type": "markdown",
     "metadata": {},
     "source": [
      "colcate index in cols"
     ]
    },
    {
     "cell_type": "code",
     "collapsed": false,
     "input": [
      "trainindex = [3, 4, 6, 7, 9, 10, 12, 13, 16, 17, 20, 23]"
     ],
     "language": "python",
     "metadata": {},
     "outputs": [],
     "prompt_number": 12
    },
    {
     "cell_type": "markdown",
     "metadata": {},
     "source": [
      "colcatetest index in cols"
     ]
    },
    {
     "cell_type": "code",
     "collapsed": false,
     "input": [
      "testindex = [0, 1, 3, 4, 6, 7, 9, 10, 11, 12, 13, 15]"
     ],
     "language": "python",
     "metadata": {},
     "outputs": [],
     "prompt_number": 13
    },
    {
     "cell_type": "heading",
     "level": 2,
     "metadata": {},
     "source": [
      "Start from here"
     ]
    },
    {
     "cell_type": "code",
     "collapsed": false,
     "input": [
      "ithcol = 0"
     ],
     "language": "python",
     "metadata": {},
     "outputs": [],
     "prompt_number": 14
    },
    {
     "cell_type": "code",
     "collapsed": false,
     "input": [
      "colsi = np.unique(np.concatenate((colcate[trainindex[ithcol]],colcatetest[testindex[ithcol]])))\n",
      "print 'features shape: ', colsi.shape\n",
      "colid = {x: [0,0,0] for x in colsi}"
     ],
     "language": "python",
     "metadata": {},
     "outputs": [
      {
       "output_type": "stream",
       "stream": "stdout",
       "text": [
        "features shape:  (4801,)\n"
       ]
      }
     ],
     "prompt_number": 15
    },
    {
     "cell_type": "code",
     "collapsed": false,
     "input": [
      "#train data\n",
      "start = time.time()\n",
      "#flag=0\n",
      "for sample, target in itertools.izip(X, y):\n",
      "    cr = colid[sample[cols[ithcol]-1]]\n",
      "    cr[0]+=1\n",
      "    cr[1]+=target[0]\n",
      "    #flag+=1\n",
      "    #if flag==100:\n",
      "    #    break\n",
      "end = time.time()\n",
      "print 'train data:', end-start, 'second'"
     ],
     "language": "python",
     "metadata": {},
     "outputs": [
      {
       "output_type": "stream",
       "stream": "stdout",
       "text": [
        "train data: 102.822608948 second\n"
       ]
      }
     ],
     "prompt_number": 16
    },
    {
     "cell_type": "code",
     "collapsed": false,
     "input": [
      "#test data\n",
      "start = time.time()\n",
      "for sample in X_t:\n",
      "    colid[sample[cols[ithcol]-1]][2]+=1        \n",
      "end = time.time()\n",
      "print 'test data:', end-start, 'second'"
     ],
     "language": "python",
     "metadata": {},
     "outputs": [
      {
       "output_type": "stream",
       "stream": "stdout",
       "text": [
        "test data: 8.8000459671 second\n"
       ]
      }
     ],
     "prompt_number": 17
    },
    {
     "cell_type": "code",
     "collapsed": false,
     "input": [
      "keys = sorted(colid.keys())\n",
      "keys = np.array(keys)\n",
      "coli = np.zeros((len(keys),3), dtype=np.float32)\n",
      "for i in xrange(len(keys)):\n",
      "    for j in range(3):\n",
      "        coli[i][j] = colid[keys[i]][j]"
     ],
     "language": "python",
     "metadata": {},
     "outputs": [],
     "prompt_number": 37
    },
    {
     "cell_type": "code",
     "collapsed": false,
     "input": [
      "a = coli[:,0] == 0.\n",
      "notrain = keys[a]\n",
      "b = coli[:,2] == 0\n",
      "notest = keys[b]\n",
      "c = []\n",
      "for i,j in itertools.izip(a,b):\n",
      "    c.append(not (i or j))\n",
      "c = np.array(c)\n",
      "traintest = keys[c]\n",
      "coli = coli[c]"
     ],
     "language": "python",
     "metadata": {},
     "outputs": [],
     "prompt_number": 19
    },
    {
     "cell_type": "code",
     "collapsed": false,
     "input": [
      "c = []\n",
      "for i in a:\n",
      "    c.append(not i)\n",
      "c = np.array(c)\n",
      "coli = coli[c]"
     ],
     "language": "python",
     "metadata": {},
     "outputs": [],
     "prompt_number": 38
    },
    {
     "cell_type": "code",
     "collapsed": false,
     "input": [
      "print notrain.shape\n",
      "print notest.shape\n",
      "print traintest.shape\n",
      "print coli.shape"
     ],
     "language": "python",
     "metadata": {},
     "outputs": [
      {
       "output_type": "stream",
       "stream": "stdout",
       "text": [
        "(86,)\n",
        "(1882,)\n",
        "(2833,)\n",
        "(4715, 3)\n"
       ]
      }
     ],
     "prompt_number": 40
    },
    {
     "cell_type": "heading",
     "level": 4,
     "metadata": {},
     "source": [
      "standarization"
     ]
    },
    {
     "cell_type": "code",
     "collapsed": false,
     "input": [
      "scaler = preprocessing.StandardScaler(copy=True, with_mean=True, with_std=True)\n",
      "colistandard = scaler.fit_transform(coli) \n",
      "print 'mean:', scaler.mean_ \n",
      "print 'std:', scaler.std_"
     ],
     "language": "python",
     "metadata": {},
     "outputs": [
      {
       "output_type": "stream",
       "stream": "stdout",
       "text": [
        "mean: [ 17623.609375     3064.93774414   1788.4934082 ]\n",
        "std: [ 607138.625      117571.6171875   54796.1171875]\n"
       ]
      }
     ],
     "prompt_number": 60
    },
    {
     "cell_type": "code",
     "collapsed": false,
     "input": [
      "fig = plt.figure()\n",
      "ax = fig.add_subplot(111, projection='3d')\n",
      "\n",
      "ax.scatter(colistandard[:,0], colistandard[:,1], colistandard[:,2], c='r', marker='o', alpha=0.3)\n",
      "\n",
      "ax.set_xlabel('0 Label')\n",
      "ax.set_ylabel('1 Label')\n",
      "ax.set_zlabel('2 Label')\n",
      "#ax.set_xlim3d(left=-1, right=1)\n",
      "#ax.set_ylim3d(bottom=-1, top=1)\n",
      "#ax.set_zlim3d(bottom=-1, top=1)\n",
      "\n",
      "#u = np.linspace(0, 2 * np.pi, 100)\n",
      "#v = np.linspace(0, np.pi, 100)\n",
      "\n",
      "# gravity on earth from wikipedia\n",
      "#g = 9.80665\n",
      "#g=1\n",
      "\n",
      "#x = g * np.outer(np.cos(u), np.sin(v))\n",
      "#y = g * np.outer(np.sin(u), np.sin(v))\n",
      "#z = g * np.outer(np.ones(np.size(u)), np.cos(v))\n",
      "# alpha is used to denote the transparent of the figure, float (0.0 transparent through 1.0 opaque)\n",
      "#ax.plot_surface(x, y, z,  rstride=4, cstride=4, color='y', alpha=0.3)\n",
      "\n",
      "plt.show()\n",
      "\n",
      "ax.view_init(70, 30)"
     ],
     "language": "python",
     "metadata": {},
     "outputs": [
      {
       "ename": "NameError",
       "evalue": "name 'colistandard' is not defined",
       "output_type": "pyerr",
       "traceback": [
        "\u001b[1;31m---------------------------------------------------------------------------\u001b[0m\n\u001b[1;31mNameError\u001b[0m                                 Traceback (most recent call last)",
        "\u001b[1;32m<ipython-input-21-d78ca3698bdb>\u001b[0m in \u001b[0;36m<module>\u001b[1;34m()\u001b[0m\n\u001b[0;32m      2\u001b[0m \u001b[0max\u001b[0m \u001b[1;33m=\u001b[0m \u001b[0mfig\u001b[0m\u001b[1;33m.\u001b[0m\u001b[0madd_subplot\u001b[0m\u001b[1;33m(\u001b[0m\u001b[1;36m111\u001b[0m\u001b[1;33m,\u001b[0m \u001b[0mprojection\u001b[0m\u001b[1;33m=\u001b[0m\u001b[1;34m'3d'\u001b[0m\u001b[1;33m)\u001b[0m\u001b[1;33m\u001b[0m\u001b[0m\n\u001b[0;32m      3\u001b[0m \u001b[1;33m\u001b[0m\u001b[0m\n\u001b[1;32m----> 4\u001b[1;33m \u001b[0max\u001b[0m\u001b[1;33m.\u001b[0m\u001b[0mscatter\u001b[0m\u001b[1;33m(\u001b[0m\u001b[0mcolistandard\u001b[0m\u001b[1;33m[\u001b[0m\u001b[1;33m:\u001b[0m\u001b[1;33m,\u001b[0m\u001b[1;36m0\u001b[0m\u001b[1;33m]\u001b[0m\u001b[1;33m,\u001b[0m \u001b[0mcolistandard\u001b[0m\u001b[1;33m[\u001b[0m\u001b[1;33m:\u001b[0m\u001b[1;33m,\u001b[0m\u001b[1;36m1\u001b[0m\u001b[1;33m]\u001b[0m\u001b[1;33m,\u001b[0m \u001b[0mcolistandard\u001b[0m\u001b[1;33m[\u001b[0m\u001b[1;33m:\u001b[0m\u001b[1;33m,\u001b[0m\u001b[1;36m2\u001b[0m\u001b[1;33m]\u001b[0m\u001b[1;33m,\u001b[0m \u001b[0mc\u001b[0m\u001b[1;33m=\u001b[0m\u001b[1;34m'r'\u001b[0m\u001b[1;33m,\u001b[0m \u001b[0mmarker\u001b[0m\u001b[1;33m=\u001b[0m\u001b[1;34m'o'\u001b[0m\u001b[1;33m,\u001b[0m \u001b[0malpha\u001b[0m\u001b[1;33m=\u001b[0m\u001b[1;36m0.3\u001b[0m\u001b[1;33m)\u001b[0m\u001b[1;33m\u001b[0m\u001b[0m\n\u001b[0m\u001b[0;32m      5\u001b[0m \u001b[1;33m\u001b[0m\u001b[0m\n\u001b[0;32m      6\u001b[0m \u001b[0max\u001b[0m\u001b[1;33m.\u001b[0m\u001b[0mset_xlabel\u001b[0m\u001b[1;33m(\u001b[0m\u001b[1;34m'0 Label'\u001b[0m\u001b[1;33m)\u001b[0m\u001b[1;33m\u001b[0m\u001b[0m\n",
        "\u001b[1;31mNameError\u001b[0m: name 'colistandard' is not defined"
       ]
      }
     ],
     "prompt_number": 21
    },
    {
     "cell_type": "heading",
     "level": 2,
     "metadata": {},
     "source": [
      "Totally Random Trees embedding"
     ]
    },
    {
     "cell_type": "code",
     "collapsed": false,
     "input": [
      "from sklearn import ensemble"
     ],
     "language": "python",
     "metadata": {},
     "outputs": [],
     "prompt_number": 22
    },
    {
     "cell_type": "code",
     "collapsed": false,
     "input": [
      "rte = ensemble.RandomTreesEmbedding(n_estimators=15, max_depth=5, min_samples_split=2,\\\n",
      "                                    min_samples_leaf=1, max_leaf_nodes=None, \\\n",
      "                                    sparse_output=True, n_jobs=4, random_state=1988, \\\n",
      "                                    verbose=0, min_density=None)\n",
      "transformed = rte.fit_transform(coli[:,:2])"
     ],
     "language": "python",
     "metadata": {},
     "outputs": [],
     "prompt_number": 55
    },
    {
     "cell_type": "code",
     "collapsed": false,
     "input": [
      "rte.apply()"
     ],
     "language": "python",
     "metadata": {},
     "outputs": []
    },
    {
     "cell_type": "code",
     "collapsed": false,
     "input": [
      "rte.feature_importances_"
     ],
     "language": "python",
     "metadata": {},
     "outputs": [
      {
       "metadata": {},
       "output_type": "pyout",
       "prompt_number": 56,
       "text": [
        "array([ 0.62117192,  0.37882808])"
       ]
      }
     ],
     "prompt_number": 56
    },
    {
     "cell_type": "code",
     "collapsed": false,
     "input": [
      "transformed"
     ],
     "language": "python",
     "metadata": {},
     "outputs": [
      {
       "metadata": {},
       "output_type": "pyout",
       "prompt_number": 57,
       "text": [
        "<4715x184 sparse matrix of type '<type 'numpy.float64'>'\n",
        "\twith 70725 stored elements in Compressed Sparse Row format>"
       ]
      }
     ],
     "prompt_number": 57
    },
    {
     "cell_type": "code",
     "collapsed": false,
     "input": [
      "transformed[3].todense()"
     ],
     "language": "python",
     "metadata": {},
     "outputs": [
      {
       "metadata": {},
       "output_type": "pyout",
       "prompt_number": 58,
       "text": [
        "matrix([[ 1.,  0.,  0.,  0.,  0.,  0.,  0.,  0.,  0.,  0.,  0.,  0.,  1.,\n",
        "          0.,  0.,  0.,  0.,  0.,  0.,  0.,  0.,  0.,  0.,  0.,  0.,  0.,\n",
        "          0.,  1.,  0.,  0.,  0.,  0.,  0.,  0.,  0.,  0.,  0.,  0.,  0.,\n",
        "          0.,  1.,  0.,  0.,  0.,  0.,  0.,  0.,  0.,  0.,  1.,  0.,  0.,\n",
        "          0.,  0.,  0.,  0.,  0.,  0.,  0.,  0.,  0.,  0.,  0.,  0.,  0.,\n",
        "          0.,  1.,  0.,  0.,  0.,  0.,  0.,  0.,  0.,  1.,  0.,  0.,  0.,\n",
        "          0.,  0.,  0.,  0.,  0.,  0.,  0.,  0.,  0.,  0.,  0.,  0.,  1.,\n",
        "          0.,  0.,  0.,  0.,  0.,  0.,  0.,  0.,  0.,  0.,  0.,  0.,  1.,\n",
        "          0.,  0.,  0.,  0.,  0.,  0.,  0.,  0.,  0.,  0.,  1.,  0.,  0.,\n",
        "          0.,  0.,  0.,  0.,  0.,  0.,  0.,  0.,  0.,  0.,  0.,  1.,  0.,\n",
        "          0.,  0.,  0.,  0.,  0.,  0.,  0.,  1.,  0.,  0.,  0.,  0.,  0.,\n",
        "          0.,  1.,  0.,  0.,  0.,  0.,  0.,  0.,  0.,  0.,  0.,  0.,  0.,\n",
        "          0.,  0.,  0.,  0.,  0.,  0.,  0.,  0.,  0.,  0.,  0.,  0.,  1.,\n",
        "          0.,  0.,  0.,  0.,  0.,  1.,  0.,  0.,  0.,  0.,  0.,  0.,  0.,\n",
        "          0.,  0.]])"
       ]
      }
     ],
     "prompt_number": 58
    },
    {
     "cell_type": "heading",
     "level": 3,
     "metadata": {},
     "source": [
      "TruncatedSVD"
     ]
    },
    {
     "cell_type": "code",
     "collapsed": false,
     "input": [
      "from sklearn import decomposition"
     ],
     "language": "python",
     "metadata": {},
     "outputs": [],
     "prompt_number": 27
    },
    {
     "cell_type": "code",
     "collapsed": false,
     "input": [
      "tsvd = decomposition.TruncatedSVD(n_components=2, algorithm='randomized', n_iter=5,\\\n",
      "                                 random_state=None, tol=0.0, n_iterations=None)\n",
      "reduced = tsvd.fit_transform(transformed)"
     ],
     "language": "python",
     "metadata": {},
     "outputs": [],
     "prompt_number": 59
    },
    {
     "cell_type": "code",
     "collapsed": false,
     "input": [
      "reduced"
     ],
     "language": "python",
     "metadata": {},
     "outputs": [
      {
       "metadata": {},
       "output_type": "pyout",
       "prompt_number": 60,
       "text": [
        "array([[ 3.65474164,  0.65681303],\n",
        "       [ 3.87038743, -0.12993361],\n",
        "       [ 3.16583829,  1.73877759],\n",
        "       ..., \n",
        "       [ 1.31878686,  1.12267532],\n",
        "       [ 3.87038743, -0.12993361],\n",
        "       [ 3.87038743, -0.12993361]])"
       ]
      }
     ],
     "prompt_number": 60
    },
    {
     "cell_type": "code",
     "collapsed": false,
     "input": [
      "coli[1]"
     ],
     "language": "python",
     "metadata": {},
     "outputs": [
      {
       "metadata": {},
       "output_type": "pyout",
       "prompt_number": 61,
       "text": [
        "array([ 2414.,    42.,   313.], dtype=float32)"
       ]
      }
     ],
     "prompt_number": 61
    },
    {
     "cell_type": "code",
     "collapsed": false,
     "input": [
      "######################################\n",
      "fig, axes = plt.subplots()\n",
      "axes.set_xlabel('')\n",
      "axes.set_ylabel('')\n",
      "axes.plot(reduced[:,0], reduced[:,1], 'bo')\n",
      "plt.show()\n",
      "#fig.savefig(\"rf_featureimportance_more_mul.svg\")\n",
      "#######################################"
     ],
     "language": "python",
     "metadata": {},
     "outputs": [],
     "prompt_number": 62
    },
    {
     "cell_type": "code",
     "collapsed": false,
     "input": [
      "fig = plt.figure()\n",
      "ax = fig.add_subplot(111, projection='3d')\n",
      "\n",
      "ax.scatter(reduced[:,0], reduced[:,1], reduced[:,2], c='r', marker='o', alpha=0.3)\n",
      "\n",
      "ax.set_xlabel('0 Label')\n",
      "ax.set_ylabel('1 Label')\n",
      "ax.set_zlabel('2 Label')\n",
      "#ax.set_xlim3d(left=-1, right=1)\n",
      "#ax.set_ylim3d(bottom=-1, top=1)\n",
      "#ax.set_zlim3d(bottom=-1, top=1)\n",
      "\n",
      "#u = np.linspace(0, 2 * np.pi, 100)\n",
      "#v = np.linspace(0, np.pi, 100)\n",
      "\n",
      "# gravity on earth from wikipedia\n",
      "#g = 9.80665\n",
      "#g=1\n",
      "\n",
      "#x = g * np.outer(np.cos(u), np.sin(v))\n",
      "#y = g * np.outer(np.sin(u), np.sin(v))\n",
      "#z = g * np.outer(np.ones(np.size(u)), np.cos(v))\n",
      "# alpha is used to denote the transparent of the figure, float (0.0 transparent through 1.0 opaque)\n",
      "#ax.plot_surface(x, y, z,  rstride=4, cstride=4, color='y', alpha=0.3)\n",
      "\n",
      "plt.show()\n",
      "\n",
      "ax.view_init(70, 30)"
     ],
     "language": "python",
     "metadata": {},
     "outputs": [],
     "prompt_number": 36
    },
    {
     "cell_type": "heading",
     "level": 2,
     "metadata": {},
     "source": [
      "Testing"
     ]
    },
    {
     "cell_type": "code",
     "collapsed": false,
     "input": [],
     "language": "python",
     "metadata": {},
     "outputs": []
    },
    {
     "cell_type": "code",
     "collapsed": false,
     "input": [],
     "language": "python",
     "metadata": {},
     "outputs": []
    },
    {
     "cell_type": "code",
     "collapsed": false,
     "input": [],
     "language": "python",
     "metadata": {},
     "outputs": []
    },
    {
     "cell_type": "code",
     "collapsed": false,
     "input": [],
     "language": "python",
     "metadata": {},
     "outputs": []
    },
    {
     "cell_type": "code",
     "collapsed": false,
     "input": [],
     "language": "python",
     "metadata": {},
     "outputs": []
    }
   ],
   "metadata": {}
  }
 ]
}