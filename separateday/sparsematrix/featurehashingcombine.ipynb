{
 "metadata": {
  "name": "",
  "signature": "sha256:286c152e4ffa6f5ddcb025ad2430fd7a1405a6b60c59939874a1365d637fedfd"
 },
 "nbformat": 3,
 "nbformat_minor": 0,
 "worksheets": [
  {
   "cells": [
    {
     "cell_type": "code",
     "collapsed": false,
     "input": [
      "import time\n",
      "import numpy as np\n",
      "import itertools\n",
      "from scipy import sparse"
     ],
     "language": "python",
     "metadata": {},
     "outputs": [],
     "prompt_number": 1
    },
    {
     "cell_type": "markdown",
     "metadata": {},
     "source": [
      "f = open('dayrows.pkl', 'r')\n",
      "dayrows = cPickle.load(f)\n",
      "f.close()"
     ]
    },
    {
     "cell_type": "markdown",
     "metadata": {},
     "source": [
      "columns in my notebook to be clustered"
     ]
    },
    {
     "cell_type": "code",
     "collapsed": false,
     "input": [
      "cols = [5, 6, 8, 9, 11, 12, 14, 15, 18, 19, 22, 25]"
     ],
     "language": "python",
     "metadata": {},
     "outputs": [],
     "prompt_number": 2
    },
    {
     "cell_type": "heading",
     "level": 2,
     "metadata": {},
     "source": [
      "Start from here"
     ]
    },
    {
     "cell_type": "heading",
     "level": 4,
     "metadata": {},
     "source": [
      "day 1 - 2"
     ]
    },
    {
     "cell_type": "code",
     "collapsed": false,
     "input": [
      "loader = np.load('day2.npz')\n",
      "val = sparse.csr_matrix((loader['data'], loader['indices'], loader['indptr']), shape = loader['shape'])"
     ],
     "language": "python",
     "metadata": {},
     "outputs": [],
     "prompt_number": 3
    },
    {
     "cell_type": "code",
     "collapsed": false,
     "input": [
      "val"
     ],
     "language": "python",
     "metadata": {},
     "outputs": [
      {
       "metadata": {},
       "output_type": "pyout",
       "prompt_number": 4,
       "text": [
        "<4765304x260 sparse matrix of type '<type 'numpy.float32'>'\n",
        "\twith 61948952 stored elements in Compressed Sparse Row format>"
       ]
      }
     ],
     "prompt_number": 4
    },
    {
     "cell_type": "code",
     "collapsed": false,
     "input": [
      "for i in cols:\n",
      "    loader = np.load('hashingcol'+str(i)+'day2.npz')\n",
      "    vals = sparse.csr_matrix((loader['data'], loader['indices'], loader['indptr']), shape = loader['shape'])\n",
      "    val = sparse.hstack([val,vals])"
     ],
     "language": "python",
     "metadata": {},
     "outputs": [],
     "prompt_number": 5
    },
    {
     "cell_type": "code",
     "collapsed": false,
     "input": [
      "val"
     ],
     "language": "python",
     "metadata": {},
     "outputs": [
      {
       "metadata": {},
       "output_type": "pyout",
       "prompt_number": 6,
       "text": [
        "<4765304x3204 sparse matrix of type '<type 'numpy.float32'>'\n",
        "\twith 372226123 stored elements in COOrdinate format>"
       ]
      }
     ],
     "prompt_number": 6
    },
    {
     "cell_type": "code",
     "collapsed": false,
     "input": [
      "valcsr = val.tocsr()"
     ],
     "language": "python",
     "metadata": {},
     "outputs": [],
     "prompt_number": 7
    },
    {
     "cell_type": "code",
     "collapsed": false,
     "input": [
      "valcsr"
     ],
     "language": "python",
     "metadata": {},
     "outputs": [
      {
       "metadata": {},
       "output_type": "pyout",
       "prompt_number": 8,
       "text": [
        "<4765304x3204 sparse matrix of type '<type 'numpy.float32'>'\n",
        "\twith 372226123 stored elements in Compressed Sparse Row format>"
       ]
      }
     ],
     "prompt_number": 8
    },
    {
     "cell_type": "code",
     "collapsed": false,
     "input": [
      "np.savez('hashingday2.npz', data=valcsr.data, indices=valcsr.indices,\\\n",
      "         indptr=valcsr.indptr, shape=valcsr.shape)"
     ],
     "language": "python",
     "metadata": {},
     "outputs": [],
     "prompt_number": 9
    },
    {
     "cell_type": "code",
     "collapsed": false,
     "input": [],
     "language": "python",
     "metadata": {},
     "outputs": []
    }
   ],
   "metadata": {}
  }
 ]
}