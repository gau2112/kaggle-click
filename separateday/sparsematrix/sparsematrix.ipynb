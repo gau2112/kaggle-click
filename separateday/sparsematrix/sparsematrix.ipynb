{
 "metadata": {
  "name": "",
  "signature": "sha256:970592e3b624e79dc15b0d8013046faf7cc4b2c10522963e8d41018046f4151d"
 },
 "nbformat": 3,
 "nbformat_minor": 0,
 "worksheets": [
  {
   "cells": [
    {
     "cell_type": "code",
     "collapsed": false,
     "input": [
      "import tables\n",
      "import time\n",
      "import cPickle\n",
      "import numpy as np\n",
      "from scipy import sparse\n",
      "import itertools"
     ],
     "language": "python",
     "metadata": {},
     "outputs": [],
     "prompt_number": 1
    },
    {
     "cell_type": "code",
     "collapsed": false,
     "input": [
      "from nominal2onehot import nominal2onehot"
     ],
     "language": "python",
     "metadata": {},
     "outputs": [],
     "prompt_number": 2
    },
    {
     "cell_type": "heading",
     "level": 4,
     "metadata": {},
     "source": [
      "open hdf5"
     ]
    },
    {
     "cell_type": "code",
     "collapsed": false,
     "input": [
      "file_handler = tables.open_file(\"click_data.h5\", mode = \"r\")"
     ],
     "language": "python",
     "metadata": {},
     "outputs": [],
     "prompt_number": 3
    },
    {
     "cell_type": "code",
     "collapsed": false,
     "input": [
      "X = file_handler.root.train.train_raw.X"
     ],
     "language": "python",
     "metadata": {},
     "outputs": [],
     "prompt_number": 4
    },
    {
     "cell_type": "code",
     "collapsed": false,
     "input": [
      "y = file_handler.root.train.train_raw.y"
     ],
     "language": "python",
     "metadata": {},
     "outputs": [],
     "prompt_number": 5
    },
    {
     "cell_type": "code",
     "collapsed": false,
     "input": [
      "X_t = file_handler.root.test.test_raw.X_t"
     ],
     "language": "python",
     "metadata": {},
     "outputs": [],
     "prompt_number": 6
    },
    {
     "cell_type": "heading",
     "level": 4,
     "metadata": {},
     "source": [
      "number of rows in each day"
     ]
    },
    {
     "cell_type": "markdown",
     "metadata": {},
     "source": [
      "10 days in training data"
     ]
    },
    {
     "cell_type": "code",
     "collapsed": false,
     "input": [
      "f = open('dayrows.pkl', 'r')\n",
      "dayrows = cPickle.load(f)\n",
      "f.close()"
     ],
     "language": "python",
     "metadata": {},
     "outputs": [],
     "prompt_number": 7
    },
    {
     "cell_type": "code",
     "collapsed": false,
     "input": [
      "dayrows"
     ],
     "language": "python",
     "metadata": {},
     "outputs": [
      {
       "metadata": {},
       "output_type": "pyout",
       "prompt_number": 8,
       "text": [
        "array([4761989, 4765304, 4768061, 4776491, 4776398, 4769862, 4769217,\n",
        "       4766136, 4766812, 4766081])"
       ]
      }
     ],
     "prompt_number": 8
    },
    {
     "cell_type": "heading",
     "level": 4,
     "metadata": {},
     "source": [
      "categorical data in each column(except 'day'). "
     ]
    },
    {
     "cell_type": "markdown",
     "metadata": {},
     "source": [
      "columns in my notebook: [2,3,4,5,6,7,8,9,10,11,12,13,14,15,16,17,18,19,20,21,22,23,24,25,26]"
     ]
    },
    {
     "cell_type": "code",
     "collapsed": false,
     "input": [
      "f = open('colscate.pkl', 'rb')\n",
      "colcate = []\n",
      "for i in range(25):\n",
      "    colcate.append(cPickle.load(f))\n",
      "f.close()"
     ],
     "language": "python",
     "metadata": {},
     "outputs": [],
     "prompt_number": 9
    },
    {
     "cell_type": "heading",
     "level": 4,
     "metadata": {},
     "source": [
      "featue list used to be one-hot encoded"
     ]
    },
    {
     "cell_type": "markdown",
     "metadata": {},
     "source": [
      "columns in my notebook: "
     ]
    },
    {
     "cell_type": "code",
     "collapsed": false,
     "input": [
      "columnindex = np.array([2,3,4,7,10,13,16,17,20,21,23,24,26])"
     ],
     "language": "python",
     "metadata": {},
     "outputs": [],
     "prompt_number": 10
    },
    {
     "cell_type": "markdown",
     "metadata": {},
     "source": [
      "columns in pyTables:"
     ]
    },
    {
     "cell_type": "code",
     "collapsed": false,
     "input": [
      "featureindex = columnindex-1"
     ],
     "language": "python",
     "metadata": {},
     "outputs": [],
     "prompt_number": 11
    },
    {
     "cell_type": "code",
     "collapsed": false,
     "input": [
      "featureindex.shape[0]"
     ],
     "language": "python",
     "metadata": {},
     "outputs": [
      {
       "metadata": {},
       "output_type": "pyout",
       "prompt_number": 12,
       "text": [
        "13"
       ]
      }
     ],
     "prompt_number": 12
    },
    {
     "cell_type": "markdown",
     "metadata": {},
     "source": [
      "columns in colscate.pkl"
     ]
    },
    {
     "cell_type": "code",
     "collapsed": false,
     "input": [
      "categoryindex = columnindex-2"
     ],
     "language": "python",
     "metadata": {},
     "outputs": [],
     "prompt_number": 13
    },
    {
     "cell_type": "markdown",
     "metadata": {},
     "source": [
      "category length of each columns"
     ]
    },
    {
     "cell_type": "code",
     "collapsed": false,
     "input": [
      "catelen = []\n",
      "for i in categoryindex:\n",
      "    catelen.append(colcate[i].shape[0])"
     ],
     "language": "python",
     "metadata": {},
     "outputs": [],
     "prompt_number": 14
    },
    {
     "cell_type": "code",
     "collapsed": false,
     "input": [
      "catelen"
     ],
     "language": "python",
     "metadata": {},
     "outputs": [
      {
       "metadata": {},
       "output_type": "pyout",
       "prompt_number": 15,
       "text": [
        "[24, 7, 7, 26, 38, 15, 4, 4, 8, 9, 4, 61, 53]"
       ]
      }
     ],
     "prompt_number": 15
    },
    {
     "cell_type": "code",
     "collapsed": false,
     "input": [
      "sum(catelen)"
     ],
     "language": "python",
     "metadata": {},
     "outputs": [
      {
       "metadata": {},
       "output_type": "pyout",
       "prompt_number": 16,
       "text": [
        "260"
       ]
      }
     ],
     "prompt_number": 16
    },
    {
     "cell_type": "heading",
     "level": 4,
     "metadata": {},
     "source": [
      "code one row to one hot binary data"
     ]
    },
    {
     "cell_type": "code",
     "collapsed": false,
     "input": [
      "rowlength = sum(catelen)"
     ],
     "language": "python",
     "metadata": {},
     "outputs": [],
     "prompt_number": 17
    },
    {
     "cell_type": "code",
     "collapsed": false,
     "input": [
      "def one_row_transform(row):\n",
      "            \n",
      "    rvl = np.empty((rowlength,), dtype=np.float32)\n",
      "            \n",
      "    for i in range(featureindex.shape[0]):\n",
      "        binonehot = nominal2onehot(row[featureindex[i]], colcate[categoryindex[i]])\n",
      "        rvl[sum(catelen[:i]):sum(catelen[:i+1])] = binonehot\n",
      "                \n",
      "    return rvl"
     ],
     "language": "python",
     "metadata": {},
     "outputs": [],
     "prompt_number": 18
    },
    {
     "cell_type": "heading",
     "level": 4,
     "metadata": {},
     "source": [
      "dense to sparse and stacked"
     ]
    },
    {
     "cell_type": "markdown",
     "metadata": {},
     "source": [
      "the 1st day"
     ]
    },
    {
     "cell_type": "markdown",
     "metadata": {},
     "source": [
      "st = time.time()\n",
      "\n",
      "start = 0\n",
      "end = dayrows[0]\n",
      "\n",
      "val = one_row_transform(train_table_X[start])\n",
      "val = sparse.lil_matrix(val, dtype=np.float32)\n",
      "for i in xrange(start+1, end):\n",
      "    row = one_row_transform(train_table_X[i])\n",
      "    row = sparse.lil_matrix(row, dtype=np.float32)\n",
      "    val = sparse.vstack([val,row])\n",
      "\n",
      "en = time.time()\n",
      "print en-st, 'second'"
     ]
    },
    {
     "cell_type": "code",
     "collapsed": false,
     "input": [
      "val = sparse.lil_matrix((dayrows[0],rowlength), dtype=np.float32)\n",
      "\n",
      "st = time.time()\n",
      "for i, row_table in itertools.izip(xrange(dayrows[0]), X.iterrows(start=sum(dayrows[:0]))):\n",
      "    row = one_row_transform(row_table)\n",
      "    val[i,np.where(row==1)[0]] = 1\n",
      "en = time.time()\n",
      "print en-st, 'second'"
     ],
     "language": "python",
     "metadata": {},
     "outputs": [
      {
       "ename": "KeyboardInterrupt",
       "evalue": "",
       "output_type": "pyerr",
       "traceback": [
        "\u001b[1;31m---------------------------------------------------------------------------\u001b[0m\n\u001b[1;31mKeyboardInterrupt\u001b[0m                         Traceback (most recent call last)",
        "\u001b[1;32m<ipython-input-32-d0b09e88fb3d>\u001b[0m in \u001b[0;36m<module>\u001b[1;34m()\u001b[0m\n\u001b[0;32m      3\u001b[0m \u001b[0mst\u001b[0m \u001b[1;33m=\u001b[0m \u001b[0mtime\u001b[0m\u001b[1;33m.\u001b[0m\u001b[0mtime\u001b[0m\u001b[1;33m(\u001b[0m\u001b[1;33m)\u001b[0m\u001b[1;33m\u001b[0m\u001b[0m\n\u001b[0;32m      4\u001b[0m \u001b[1;32mfor\u001b[0m \u001b[0mi\u001b[0m\u001b[1;33m,\u001b[0m \u001b[0mrow_table\u001b[0m \u001b[1;32min\u001b[0m \u001b[0mitertools\u001b[0m\u001b[1;33m.\u001b[0m\u001b[0mizip\u001b[0m\u001b[1;33m(\u001b[0m\u001b[0mxrange\u001b[0m\u001b[1;33m(\u001b[0m\u001b[0mdayrows\u001b[0m\u001b[1;33m[\u001b[0m\u001b[1;36m0\u001b[0m\u001b[1;33m]\u001b[0m\u001b[1;33m)\u001b[0m\u001b[1;33m,\u001b[0m \u001b[0mX\u001b[0m\u001b[1;33m.\u001b[0m\u001b[0miterrows\u001b[0m\u001b[1;33m(\u001b[0m\u001b[0mstart\u001b[0m\u001b[1;33m=\u001b[0m\u001b[0msum\u001b[0m\u001b[1;33m(\u001b[0m\u001b[0mdayrows\u001b[0m\u001b[1;33m[\u001b[0m\u001b[1;33m:\u001b[0m\u001b[1;36m0\u001b[0m\u001b[1;33m]\u001b[0m\u001b[1;33m)\u001b[0m\u001b[1;33m)\u001b[0m\u001b[1;33m)\u001b[0m\u001b[1;33m:\u001b[0m\u001b[1;33m\u001b[0m\u001b[0m\n\u001b[1;32m----> 5\u001b[1;33m     \u001b[0mrow\u001b[0m \u001b[1;33m=\u001b[0m \u001b[0mone_row_transform\u001b[0m\u001b[1;33m(\u001b[0m\u001b[0mrow_table\u001b[0m\u001b[1;33m)\u001b[0m\u001b[1;33m\u001b[0m\u001b[0m\n\u001b[0m\u001b[0;32m      6\u001b[0m     \u001b[0mval\u001b[0m\u001b[1;33m[\u001b[0m\u001b[0mi\u001b[0m\u001b[1;33m,\u001b[0m\u001b[0mnp\u001b[0m\u001b[1;33m.\u001b[0m\u001b[0mwhere\u001b[0m\u001b[1;33m(\u001b[0m\u001b[0mrow\u001b[0m\u001b[1;33m==\u001b[0m\u001b[1;36m1\u001b[0m\u001b[1;33m)\u001b[0m\u001b[1;33m[\u001b[0m\u001b[1;36m0\u001b[0m\u001b[1;33m]\u001b[0m\u001b[1;33m]\u001b[0m \u001b[1;33m=\u001b[0m \u001b[1;36m1\u001b[0m\u001b[1;33m\u001b[0m\u001b[0m\n\u001b[0;32m      7\u001b[0m \u001b[0men\u001b[0m \u001b[1;33m=\u001b[0m \u001b[0mtime\u001b[0m\u001b[1;33m.\u001b[0m\u001b[0mtime\u001b[0m\u001b[1;33m(\u001b[0m\u001b[1;33m)\u001b[0m\u001b[1;33m\u001b[0m\u001b[0m\n",
        "\u001b[1;32m<ipython-input-18-3bb810ee8a57>\u001b[0m in \u001b[0;36mone_row_transform\u001b[1;34m(row)\u001b[0m\n\u001b[0;32m      4\u001b[0m \u001b[1;33m\u001b[0m\u001b[0m\n\u001b[0;32m      5\u001b[0m     \u001b[1;32mfor\u001b[0m \u001b[0mi\u001b[0m \u001b[1;32min\u001b[0m \u001b[0mrange\u001b[0m\u001b[1;33m(\u001b[0m\u001b[0mfeatureindex\u001b[0m\u001b[1;33m.\u001b[0m\u001b[0mshape\u001b[0m\u001b[1;33m[\u001b[0m\u001b[1;36m0\u001b[0m\u001b[1;33m]\u001b[0m\u001b[1;33m)\u001b[0m\u001b[1;33m:\u001b[0m\u001b[1;33m\u001b[0m\u001b[0m\n\u001b[1;32m----> 6\u001b[1;33m         \u001b[0mbinonehot\u001b[0m \u001b[1;33m=\u001b[0m \u001b[0mnominal2onehot\u001b[0m\u001b[1;33m(\u001b[0m\u001b[0mrow\u001b[0m\u001b[1;33m[\u001b[0m\u001b[0mfeatureindex\u001b[0m\u001b[1;33m[\u001b[0m\u001b[0mi\u001b[0m\u001b[1;33m]\u001b[0m\u001b[1;33m]\u001b[0m\u001b[1;33m,\u001b[0m \u001b[0mcolcate\u001b[0m\u001b[1;33m[\u001b[0m\u001b[0mcategoryindex\u001b[0m\u001b[1;33m[\u001b[0m\u001b[0mi\u001b[0m\u001b[1;33m]\u001b[0m\u001b[1;33m]\u001b[0m\u001b[1;33m)\u001b[0m\u001b[1;33m\u001b[0m\u001b[0m\n\u001b[0m\u001b[0;32m      7\u001b[0m         \u001b[0mrvl\u001b[0m\u001b[1;33m[\u001b[0m\u001b[0msum\u001b[0m\u001b[1;33m(\u001b[0m\u001b[0mcatelen\u001b[0m\u001b[1;33m[\u001b[0m\u001b[1;33m:\u001b[0m\u001b[0mi\u001b[0m\u001b[1;33m]\u001b[0m\u001b[1;33m)\u001b[0m\u001b[1;33m:\u001b[0m\u001b[0msum\u001b[0m\u001b[1;33m(\u001b[0m\u001b[0mcatelen\u001b[0m\u001b[1;33m[\u001b[0m\u001b[1;33m:\u001b[0m\u001b[0mi\u001b[0m\u001b[1;33m+\u001b[0m\u001b[1;36m1\u001b[0m\u001b[1;33m]\u001b[0m\u001b[1;33m)\u001b[0m\u001b[1;33m]\u001b[0m \u001b[1;33m=\u001b[0m \u001b[0mbinonehot\u001b[0m\u001b[1;33m\u001b[0m\u001b[0m\n\u001b[0;32m      8\u001b[0m \u001b[1;33m\u001b[0m\u001b[0m\n",
        "\u001b[1;32m/home/whale/Documents/click/nominal2onehot.pyc\u001b[0m in \u001b[0;36mnominal2onehot\u001b[1;34m(x, xlist)\u001b[0m\n\u001b[0;32m     10\u001b[0m \u001b[1;33m\u001b[0m\u001b[0m\n\u001b[0;32m     11\u001b[0m \u001b[1;32mdef\u001b[0m \u001b[0mnominal2onehot\u001b[0m\u001b[1;33m(\u001b[0m\u001b[0mx\u001b[0m\u001b[1;33m,\u001b[0m \u001b[0mxlist\u001b[0m\u001b[1;33m)\u001b[0m\u001b[1;33m:\u001b[0m\u001b[1;33m\u001b[0m\u001b[0m\n\u001b[1;32m---> 12\u001b[1;33m     \u001b[0mrvl\u001b[0m \u001b[1;33m=\u001b[0m \u001b[0mnp\u001b[0m\u001b[1;33m.\u001b[0m\u001b[0mzeros\u001b[0m\u001b[1;33m(\u001b[0m\u001b[1;33m(\u001b[0m\u001b[0mlen\u001b[0m\u001b[1;33m(\u001b[0m\u001b[0mxlist\u001b[0m\u001b[1;33m)\u001b[0m\u001b[1;33m,\u001b[0m\u001b[1;33m)\u001b[0m\u001b[1;33m,\u001b[0m \u001b[0mdtype\u001b[0m\u001b[1;33m=\u001b[0m\u001b[0mnp\u001b[0m\u001b[1;33m.\u001b[0m\u001b[0mfloat32\u001b[0m\u001b[1;33m)\u001b[0m\u001b[1;33m\u001b[0m\u001b[0m\n\u001b[0m\u001b[0;32m     13\u001b[0m     \u001b[1;32mif\u001b[0m \u001b[0mx\u001b[0m \u001b[1;32min\u001b[0m \u001b[0mxlist\u001b[0m\u001b[1;33m:\u001b[0m\u001b[1;33m\u001b[0m\u001b[0m\n\u001b[0;32m     14\u001b[0m         \u001b[0mrvl\u001b[0m\u001b[1;33m[\u001b[0m\u001b[0mnp\u001b[0m\u001b[1;33m.\u001b[0m\u001b[0mwhere\u001b[0m\u001b[1;33m(\u001b[0m\u001b[0mxlist\u001b[0m\u001b[1;33m==\u001b[0m\u001b[0mx\u001b[0m\u001b[1;33m)\u001b[0m\u001b[1;33m]\u001b[0m\u001b[1;33m=\u001b[0m\u001b[1;36m1\u001b[0m\u001b[1;33m\u001b[0m\u001b[0m\n",
        "\u001b[1;31mKeyboardInterrupt\u001b[0m: "
       ]
      }
     ],
     "prompt_number": 32
    },
    {
     "cell_type": "code",
     "collapsed": false,
     "input": [
      "val = sparse.lil_matrix((dayrows[1],rowlength), dtype=np.float32)\n",
      "\n",
      "st = time.time()\n",
      "for i, row_table in itertools.izip(xrange(dayrows[1]), X.iterrows(start=sum(dayrows[:1]))):\n",
      "    row = one_row_transform(row_table)\n",
      "    val[i,np.where(row==1)[0]] = 1\n",
      "en = time.time()\n",
      "print en-st, 'second'"
     ],
     "language": "python",
     "metadata": {},
     "outputs": [
      {
       "output_type": "stream",
       "stream": "stdout",
       "text": [
        "975.125770092 second\n"
       ]
      }
     ],
     "prompt_number": 35
    },
    {
     "cell_type": "markdown",
     "metadata": {},
     "source": [
      "method below are slow, see the comparation"
     ]
    },
    {
     "cell_type": "code",
     "collapsed": false,
     "input": [
      "start = sum(dayrows[:1])\n",
      "end = sum(dayrows[:2])\n",
      "\n",
      "val = sparse.lil_matrix((dayrows[1],rowlength), dtype=np.float32)\n",
      "\n",
      "st = time.time()\n",
      "\n",
      "row = one_row_transform(X[start])\n",
      "val[i] = sparse.lil_matrix(row)\n",
      "\n",
      "en = time.time()\n",
      "print en-st, 'second'"
     ],
     "language": "python",
     "metadata": {},
     "outputs": []
    },
    {
     "cell_type": "code",
     "collapsed": false,
     "input": [
      "start = sum(dayrows[:1])\n",
      "end = sum(dayrows[:2])\n",
      "\n",
      "val = sparse.lil_matrix((dayrows[1],rowlength), dtype=np.float32)\n",
      "\n",
      "st = time.time()\n",
      "\n",
      "row = one_row_transform(X[start])\n",
      "val[i-start,np.where(row==1)[0]] = 1\n",
      "\n",
      "en = time.time()\n",
      "print en-st, 'second'"
     ],
     "language": "python",
     "metadata": {},
     "outputs": [
      {
       "output_type": "stream",
       "stream": "stdout",
       "text": [
        "0.00065279006958 second\n"
       ]
      }
     ],
     "prompt_number": 23
    },
    {
     "cell_type": "code",
     "collapsed": false,
     "input": [
      "start = 0\n",
      "end = dayrows[0]\n",
      "\n",
      "val = one_row_transform(train_table_X[start])\n",
      "val = sparse.lil_matrix(val, dtype=np.float32)\n",
      "\n",
      "st = time.time()\n",
      "\n",
      "row = one_row_transform(train_table_X[1])\n",
      "row = sparse.lil_matrix(row, dtype=np.float32)\n",
      "val = sparse.vstack([val,row])\n",
      "\n",
      "en = time.time()\n",
      "print en-st, 'second'"
     ],
     "language": "python",
     "metadata": {},
     "outputs": [
      {
       "output_type": "stream",
       "stream": "stdout",
       "text": [
        "0.0020740032196 second\n"
       ]
      }
     ],
     "prompt_number": 17
    },
    {
     "cell_type": "code",
     "collapsed": false,
     "input": [
      "valcsr = val.tocsr()"
     ],
     "language": "python",
     "metadata": {},
     "outputs": [],
     "prompt_number": 36
    },
    {
     "cell_type": "code",
     "collapsed": false,
     "input": [
      "valcsr.nnz"
     ],
     "language": "python",
     "metadata": {},
     "outputs": [
      {
       "metadata": {},
       "output_type": "pyout",
       "prompt_number": 37,
       "text": [
        "61948952"
       ]
      }
     ],
     "prompt_number": 37
    },
    {
     "cell_type": "code",
     "collapsed": false,
     "input": [
      "valcsr.has_sorted_indices"
     ],
     "language": "python",
     "metadata": {},
     "outputs": [
      {
       "metadata": {},
       "output_type": "pyout",
       "prompt_number": 38,
       "text": [
        "1"
       ]
      }
     ],
     "prompt_number": 38
    },
    {
     "cell_type": "code",
     "collapsed": false,
     "input": [
      "np.savez('day2.npz', data=valcsr.data, indices=valcsr.indices, indptr=valcsr.indptr, shape=valcsr.shape)"
     ],
     "language": "python",
     "metadata": {},
     "outputs": [],
     "prompt_number": 39
    },
    {
     "cell_type": "code",
     "collapsed": false,
     "input": [
      "del val"
     ],
     "language": "python",
     "metadata": {},
     "outputs": [],
     "prompt_number": 17
    },
    {
     "cell_type": "code",
     "collapsed": false,
     "input": [
      "val = 0\n",
      "valcsr = 0"
     ],
     "language": "python",
     "metadata": {},
     "outputs": [],
     "prompt_number": 27
    },
    {
     "cell_type": "code",
     "collapsed": false,
     "input": [
      "import gc"
     ],
     "language": "python",
     "metadata": {},
     "outputs": [],
     "prompt_number": 28
    },
    {
     "cell_type": "code",
     "collapsed": false,
     "input": [
      "gc.collect()"
     ],
     "language": "python",
     "metadata": {},
     "outputs": [
      {
       "metadata": {},
       "output_type": "pyout",
       "prompt_number": 40,
       "text": [
        "9"
       ]
      }
     ],
     "prompt_number": 40
    },
    {
     "cell_type": "code",
     "collapsed": false,
     "input": [
      "del valcsr"
     ],
     "language": "python",
     "metadata": {},
     "outputs": [],
     "prompt_number": 3
    },
    {
     "cell_type": "code",
     "collapsed": false,
     "input": [
      "loader = np.load('day1.npz')\n",
      "valcsr = sparse.csr_matrix((loader['data'], loader['indices'], loader['indptr']), shape = loader['shape'])"
     ],
     "language": "python",
     "metadata": {},
     "outputs": [],
     "prompt_number": 12
    },
    {
     "cell_type": "code",
     "collapsed": false,
     "input": [
      "valcsr[0:6]"
     ],
     "language": "python",
     "metadata": {},
     "outputs": [
      {
       "metadata": {},
       "output_type": "pyout",
       "prompt_number": 24,
       "text": [
        "<6x260 sparse matrix of type '<type 'numpy.float32'>'\n",
        "\twith 78 stored elements in Compressed Sparse Row format>"
       ]
      }
     ],
     "prompt_number": 24
    },
    {
     "cell_type": "code",
     "collapsed": false,
     "input": [
      "valcsr.shape"
     ],
     "language": "python",
     "metadata": {},
     "outputs": [
      {
       "metadata": {},
       "output_type": "pyout",
       "prompt_number": 25,
       "text": [
        "(4761989, 260)"
       ]
      }
     ],
     "prompt_number": 25
    },
    {
     "cell_type": "heading",
     "level": 3,
     "metadata": {},
     "source": [
      "Testing"
     ]
    },
    {
     "cell_type": "code",
     "collapsed": false,
     "input": [
      "%time row1 = one_row_transform(train_table_X[333])"
     ],
     "language": "python",
     "metadata": {},
     "outputs": [
      {
       "output_type": "stream",
       "stream": "stdout",
       "text": [
        "CPU times: user 1.09 ms, sys: 28 \u00b5s, total: 1.11 ms\n",
        "Wall time: 744 \u00b5s\n"
       ]
      }
     ],
     "prompt_number": 13
    },
    {
     "cell_type": "code",
     "collapsed": false,
     "input": [
      "%time val = sparse.lil_matrix((dayrows[1],1836), dtype=np.float32)"
     ],
     "language": "python",
     "metadata": {},
     "outputs": [
      {
       "output_type": "stream",
       "stream": "stdout",
       "text": [
        "CPU times: user 4.21 s, sys: 213 ms, total: 4.42 s\n",
        "Wall time: 4.36 s\n"
       ]
      }
     ],
     "prompt_number": 15
    },
    {
     "cell_type": "code",
     "collapsed": false,
     "input": [
      "val"
     ],
     "language": "python",
     "metadata": {},
     "outputs": [
      {
       "metadata": {},
       "output_type": "pyout",
       "prompt_number": 20,
       "text": [
        "<2x1836 sparse matrix of type '<type 'numpy.float32'>'\n",
        "\twith 36 stored elements in COOrdinate format>"
       ]
      }
     ],
     "prompt_number": 20
    },
    {
     "cell_type": "code",
     "collapsed": false,
     "input": [
      "st = time.time()\n",
      "\n",
      "for j in range(1,10)\n",
      "    start = dayrows[j-1]\n",
      "    end = sum(dayrows[:j+1])\n",
      "\n",
      "    val = one_row_transform(train_table_X[start])\n",
      "    val = sparse.lil_matrix(val, dtype=np.float32)\n",
      "    for i in xrange(start+1, end):\n",
      "        row = one_row_transform(train_table_X[i])\n",
      "        row = sparse.lil_matrix(row, dtype=np.float32)\n",
      "        val = sparse.vstack([val,row])\n",
      "    valcsr = val.tocsr()\n",
      "    \n",
      "    filename = 'day'+str(j+1)+'.npz'\n",
      "    np.savez(filename, data=valcsr.data, indices=valcsr.indices, indptr=valcsr.indptr, shape=valcsr.shape)\n",
      "\n",
      "en = time.time()\n",
      "print en-st, 'second'"
     ],
     "language": "python",
     "metadata": {},
     "outputs": []
    },
    {
     "cell_type": "code",
     "collapsed": false,
     "input": [],
     "language": "python",
     "metadata": {},
     "outputs": []
    },
    {
     "cell_type": "code",
     "collapsed": false,
     "input": [
      ">>> I = np.array([0,3,1,0])\n",
      ">>> J = np.array([0,3,1,2])\n",
      ">>> V = np.array([4,5,7,9])\n",
      ">>> B = sparse.coo_matrix((V,(I,J)),shape=(4,4))"
     ],
     "language": "python",
     "metadata": {},
     "outputs": [],
     "prompt_number": 13
    },
    {
     "cell_type": "code",
     "collapsed": false,
     "input": [
      "B.todense()"
     ],
     "language": "python",
     "metadata": {},
     "outputs": [
      {
       "metadata": {},
       "output_type": "pyout",
       "prompt_number": 14,
       "text": [
        "matrix([[4, 0, 9, 0],\n",
        "        [0, 7, 0, 0],\n",
        "        [0, 0, 0, 0],\n",
        "        [0, 0, 0, 5]])"
       ]
      }
     ],
     "prompt_number": 14
    },
    {
     "cell_type": "code",
     "collapsed": false,
     "input": [],
     "language": "python",
     "metadata": {},
     "outputs": []
    }
   ],
   "metadata": {}
  }
 ]
}