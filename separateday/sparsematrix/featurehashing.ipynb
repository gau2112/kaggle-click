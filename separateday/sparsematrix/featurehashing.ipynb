{
 "metadata": {
  "name": "",
  "signature": "sha256:cf57ed1bc85877bfbdc5eea95cdfd8cc479de9d320d683bc611161e71c245cae"
 },
 "nbformat": 3,
 "nbformat_minor": 0,
 "worksheets": [
  {
   "cells": [
    {
     "cell_type": "code",
     "collapsed": false,
     "input": [
      "import sklearn\n",
      "import pandas as pd\n",
      "import matplotlib.pyplot as plt\n",
      "from mpl_toolkits.mplot3d import Axes3D\n",
      "import time\n",
      "import cPickle\n",
      "import tables\n",
      "import numpy as np\n",
      "import scipy as sp\n",
      "import itertools\n",
      "from scipy import sparse"
     ],
     "language": "python",
     "metadata": {},
     "outputs": [],
     "prompt_number": 1
    },
    {
     "cell_type": "code",
     "collapsed": false,
     "input": [
      "from sklearn import grid_search\n",
      "from sklearn import cross_validation\n",
      "from sklearn import metrics\n",
      "from sklearn import preprocessing"
     ],
     "language": "python",
     "metadata": {},
     "outputs": [],
     "prompt_number": 2
    },
    {
     "cell_type": "code",
     "collapsed": false,
     "input": [
      "file_handler = tables.open_file(\"click_data.h5\", mode = \"r\")"
     ],
     "language": "python",
     "metadata": {},
     "outputs": [],
     "prompt_number": 3
    },
    {
     "cell_type": "code",
     "collapsed": false,
     "input": [
      "X = file_handler.root.train.train_raw.X\n",
      "y = file_handler.root.train.train_raw.y\n",
      "X_t = file_handler.root.test.test_raw.X_t"
     ],
     "language": "python",
     "metadata": {},
     "outputs": [],
     "prompt_number": 4
    },
    {
     "cell_type": "heading",
     "level": 2,
     "metadata": {},
     "source": [
      "feature extraction"
     ]
    },
    {
     "cell_type": "code",
     "collapsed": false,
     "input": [
      "f = open('colscate.pkl', 'rb')\n",
      "colcate = []\n",
      "for i in range(25):\n",
      "    colcate.append(cPickle.load(f))\n",
      "f.close()"
     ],
     "language": "python",
     "metadata": {},
     "outputs": [],
     "prompt_number": 5
    },
    {
     "cell_type": "code",
     "collapsed": false,
     "input": [
      "f = open('colscatetest5_1518.pkl', 'rb')\n",
      "colcatetest = []\n",
      "for i in range(17):\n",
      "    colcatetest.append(cPickle.load(f))\n",
      "f.close()"
     ],
     "language": "python",
     "metadata": {},
     "outputs": [],
     "prompt_number": 6
    },
    {
     "cell_type": "code",
     "collapsed": false,
     "input": [
      "#featureindex = [1,2,3,6,8,9,12,13,15,16,17,19,20,21,22,23,24,25]"
     ],
     "language": "python",
     "metadata": {},
     "outputs": [],
     "prompt_number": 7
    },
    {
     "cell_type": "code",
     "collapsed": false,
     "input": [
      "f = open('dayrows.pkl', 'r')\n",
      "dayrows = cPickle.load(f)\n",
      "f.close()"
     ],
     "language": "python",
     "metadata": {},
     "outputs": [],
     "prompt_number": 8
    },
    {
     "cell_type": "code",
     "collapsed": false,
     "input": [
      "X.shape"
     ],
     "language": "python",
     "metadata": {},
     "outputs": [
      {
       "metadata": {},
       "output_type": "pyout",
       "prompt_number": 9,
       "text": [
        "(47686351,)"
       ]
      }
     ],
     "prompt_number": 9
    },
    {
     "cell_type": "markdown",
     "metadata": {},
     "source": [
      "columns in my notebook to be clustered"
     ]
    },
    {
     "cell_type": "code",
     "collapsed": false,
     "input": [
      "cols = [5, 6, 8, 9, 11, 12, 14, 15, 18, 19, 22, 25]"
     ],
     "language": "python",
     "metadata": {},
     "outputs": [],
     "prompt_number": 10
    },
    {
     "cell_type": "code",
     "collapsed": false,
     "input": [
      "numbercols = len(cols)"
     ],
     "language": "python",
     "metadata": {},
     "outputs": [],
     "prompt_number": 11
    },
    {
     "cell_type": "markdown",
     "metadata": {},
     "source": [
      "colcate index in cols"
     ]
    },
    {
     "cell_type": "code",
     "collapsed": false,
     "input": [
      "trainindex = [3, 4, 6, 7, 9, 10, 12, 13, 16, 17, 20, 23]"
     ],
     "language": "python",
     "metadata": {},
     "outputs": [],
     "prompt_number": 12
    },
    {
     "cell_type": "markdown",
     "metadata": {},
     "source": [
      "colcatetest index in cols"
     ]
    },
    {
     "cell_type": "code",
     "collapsed": false,
     "input": [
      "testindex = [0, 1, 3, 4, 6, 7, 9, 10, 11, 12, 13, 15]"
     ],
     "language": "python",
     "metadata": {},
     "outputs": [],
     "prompt_number": 13
    },
    {
     "cell_type": "heading",
     "level": 2,
     "metadata": {},
     "source": [
      "Start from here"
     ]
    },
    {
     "cell_type": "code",
     "collapsed": false,
     "input": [
      "ithcol = 11"
     ],
     "language": "python",
     "metadata": {},
     "outputs": [],
     "prompt_number": 17
    },
    {
     "cell_type": "heading",
     "level": 2,
     "metadata": {},
     "source": [
      "feature hashing"
     ]
    },
    {
     "cell_type": "code",
     "collapsed": false,
     "input": [
      "from sklearn import feature_extraction"
     ],
     "language": "python",
     "metadata": {},
     "outputs": [],
     "prompt_number": 3
    },
    {
     "cell_type": "code",
     "collapsed": false,
     "input": [
      "a = ['df', 'er', 'ru', 'oe', 'oi', '7f', '2d']"
     ],
     "language": "python",
     "metadata": {},
     "outputs": [],
     "prompt_number": 10
    },
    {
     "cell_type": "code",
     "collapsed": false,
     "input": [
      "fh = feature_extraction.FeatureHasher(n_features=4, input_type='string', \\\n",
      "                                      dtype=np.float32, non_negative=False)\n",
      "transformed = fh.transform([row] for row in a)"
     ],
     "language": "python",
     "metadata": {},
     "outputs": [],
     "prompt_number": 13
    },
    {
     "cell_type": "code",
     "collapsed": false,
     "input": [
      "transformed.todense()"
     ],
     "language": "python",
     "metadata": {},
     "outputs": [
      {
       "metadata": {},
       "output_type": "pyout",
       "prompt_number": 14,
       "text": [
        "matrix([[ 0.,  0.,  0.,  2.],\n",
        "        [ 0.,  1.,  0.,  1.],\n",
        "        [ 1.,  1.,  0.,  0.],\n",
        "        [ 0.,  0.,  0.,  2.],\n",
        "        [ 0., -1.,  0.,  1.],\n",
        "        [ 1.,  0.,  0.,  1.],\n",
        "        [ 0.,  0.,  0.,  2.]], dtype=float32)"
       ]
      }
     ],
     "prompt_number": 14
    },
    {
     "cell_type": "markdown",
     "metadata": {},
     "source": [
      "def tokens(row):\n",
      "    dic = {}\n",
      "    dic['traincount'] = row[0]\n",
      "    dic['clickrate'] = row[1]\n",
      "    dic['testcount'] = row[2]\n",
      "    return dic"
     ]
    },
    {
     "cell_type": "markdown",
     "metadata": {},
     "source": [
      "n_features is power of 2"
     ]
    },
    {
     "cell_type": "markdown",
     "metadata": {},
     "source": [
      "fh = feature_extraction.FeatureHasher(n_features=8, input_type='dict', \\\n",
      "                                      dtype=np.float32, non_negative=False)\n",
      "transformed = fh.transform(tokens(row) for row in coli)"
     ]
    },
    {
     "cell_type": "code",
     "collapsed": false,
     "input": [
      "st = time.time()\n",
      "\n",
      "fh = feature_extraction.FeatureHasher(n_features=128, input_type='string', \\\n",
      "                                      dtype=np.float32, non_negative=False)\n",
      "#if non_negative=True, memory usage is awesome.\n",
      "index = cols[ithcol]-1\n",
      "#index = 0\n",
      "transformed = fh.transform(str(row[index]) for row in X)\n",
      "\n",
      "en = time.time()\n",
      "print en-st, 'second'"
     ],
     "language": "python",
     "metadata": {},
     "outputs": [
      {
       "output_type": "stream",
       "stream": "stdout",
       "text": [
        "100.359618902 second\n"
       ]
      }
     ],
     "prompt_number": 19
    },
    {
     "cell_type": "code",
     "collapsed": false,
     "input": [
      "transformed"
     ],
     "language": "python",
     "metadata": {},
     "outputs": [
      {
       "metadata": {},
       "output_type": "pyout",
       "prompt_number": 20,
       "text": [
        "<47686351x128 sparse matrix of type '<type 'numpy.float32'>'\n",
        "\twith 132964948 stored elements in Compressed Sparse Row format>"
       ]
      }
     ],
     "prompt_number": 20
    },
    {
     "cell_type": "code",
     "collapsed": false,
     "input": [
      "transformed[20000].todense()"
     ],
     "language": "python",
     "metadata": {},
     "outputs": [
      {
       "metadata": {},
       "output_type": "pyout",
       "prompt_number": 21,
       "text": [
        "matrix([[ 0.,  0.,  0.,  0.,  0.,  0.,  0.,  0.,  0.,  0.,  0.,  0.,  0.,\n",
        "          0.,  0.,  0.,  0.,  0.,  0.,  0.,  0.,  0.,  0.,  0.,  0.,  0.,\n",
        "          0.,  0.,  0.,  0.,  0.,  0.,  0.,  0.,  0.,  0.,  0.,  0.,  0.,\n",
        "          0.,  0.,  0.,  0.,  0.,  0.,  0.,  0.,  0.,  0.,  0.,  0.,  0.,\n",
        "          0.,  0.,  0.,  0.,  0.,  0.,  0.,  0.,  0.,  0.,  0.,  0.,  0.,\n",
        "          0.,  0.,  0.,  0.,  0.,  0.,  0.,  0.,  0.,  0.,  0.,  0.,  0.,\n",
        "          0.,  0.,  0.,  0.,  0.,  0.,  0.,  0.,  0.,  0.,  0.,  0.,  0.,\n",
        "          0.,  0.,  0.,  0.,  0.,  0., -1.,  0.,  0.,  0.,  0.,  0.,  0.,\n",
        "          0.,  0.,  0.,  0.,  0., -1.,  0.,  0.,  0.,  0.,  0.,  0.,  0.,\n",
        "          0.,  0.,  0.,  0.,  0.,  0.,  0.,  0.,  0.,  0.,  0.]], dtype=float32)"
       ]
      }
     ],
     "prompt_number": 21
    },
    {
     "cell_type": "code",
     "collapsed": false,
     "input": [
      "dayrows"
     ],
     "language": "python",
     "metadata": {},
     "outputs": [
      {
       "metadata": {},
       "output_type": "pyout",
       "prompt_number": 22,
       "text": [
        "array([4761989, 4765304, 4768061, 4776491, 4776398, 4769862, 4769217,\n",
        "       4766136, 4766812, 4766081])"
       ]
      }
     ],
     "prompt_number": 22
    },
    {
     "cell_type": "code",
     "collapsed": false,
     "input": [
      "transformed1=transformed[sum(dayrows[:0]):sum(dayrows[:1])]"
     ],
     "language": "python",
     "metadata": {},
     "outputs": [],
     "prompt_number": 23
    },
    {
     "cell_type": "code",
     "collapsed": false,
     "input": [
      "transformed2=transformed[sum(dayrows[:1]):sum(dayrows[:2])]"
     ],
     "language": "python",
     "metadata": {},
     "outputs": [],
     "prompt_number": 24
    },
    {
     "cell_type": "code",
     "collapsed": false,
     "input": [
      "np.savez('hashingcol'+str(cols[ithcol])+'.npz', data=transformed.data, indices=transformed.indices,\\\n",
      "         indptr=transformed.indptr, shape=transformed.shape)"
     ],
     "language": "python",
     "metadata": {},
     "outputs": [],
     "prompt_number": 25
    },
    {
     "cell_type": "code",
     "collapsed": false,
     "input": [
      "np.savez('hashingcol'+str(cols[ithcol])+'day1.npz', data=transformed1.data, indices=transformed1.indices,\\\n",
      "         indptr=transformed1.indptr, shape=transformed1.shape)"
     ],
     "language": "python",
     "metadata": {},
     "outputs": [],
     "prompt_number": 26
    },
    {
     "cell_type": "code",
     "collapsed": false,
     "input": [
      "np.savez('hashingcol'+str(cols[ithcol])+'day2.npz', data=transformed2.data, indices=transformed2.indices,\\\n",
      "         indptr=transformed2.indptr, shape=transformed2.shape)"
     ],
     "language": "python",
     "metadata": {},
     "outputs": [],
     "prompt_number": 27
    },
    {
     "cell_type": "code",
     "collapsed": false,
     "input": [],
     "language": "python",
     "metadata": {},
     "outputs": []
    }
   ],
   "metadata": {}
  }
 ]
}