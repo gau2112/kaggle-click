{
 "metadata": {
  "name": "",
  "signature": "sha256:783f79f08d81217319052a67b329abc24d867a4dd266f9a21ef23cc570a674c1"
 },
 "nbformat": 3,
 "nbformat_minor": 0,
 "worksheets": [
  {
   "cells": [
    {
     "cell_type": "code",
     "collapsed": false,
     "input": [
      "import cPickle\n",
      "import csv\n",
      "import numpy as np"
     ],
     "language": "python",
     "metadata": {},
     "outputs": [],
     "prompt_number": 6
    },
    {
     "cell_type": "code",
     "collapsed": false,
     "input": [
      "from nominal2onehot import nominal2onehot"
     ],
     "language": "python",
     "metadata": {},
     "outputs": [],
     "prompt_number": 1
    },
    {
     "cell_type": "code",
     "collapsed": false,
     "input": [
      "from IPython import parallel"
     ],
     "language": "python",
     "metadata": {},
     "outputs": [],
     "prompt_number": 11
    },
    {
     "cell_type": "code",
     "collapsed": false,
     "input": [
      "f = open('colscate.pkl', 'rb')"
     ],
     "language": "python",
     "metadata": {},
     "outputs": [],
     "prompt_number": 7
    },
    {
     "cell_type": "code",
     "collapsed": false,
     "input": [
      "colcate = []\n",
      "for i in range(25):\n",
      "    colcate.append(cPickle.load(f))"
     ],
     "language": "python",
     "metadata": {},
     "outputs": [],
     "prompt_number": 8
    },
    {
     "cell_type": "code",
     "collapsed": false,
     "input": [
      "colcate"
     ],
     "language": "python",
     "metadata": {},
     "outputs": [
      {
       "metadata": {},
       "output_type": "pyout",
       "prompt_number": 9,
       "text": [
        "[array([ 0,  1,  2,  3,  4,  5,  6,  7,  8,  9, 10, 11, 12, 13, 14, 15, 16,\n",
        "        17, 18, 19, 20, 21, 22, 23]),\n",
        " array([1001, 1002, 1005, 1007, 1008, 1010, 1012]),\n",
        " array([0, 1, 2, 3, 4, 5, 7]),\n",
        " array(['001792be', '0024b319', '0031af9f', ..., 'ffe5a6e6', 'ffebc076',\n",
        "        'fff39ced'], \n",
        "       dtype='|S8'),\n",
        " array(['00018d0f', '00040f8b', '0006c468', ..., 'fff36448', 'fff46a2e',\n",
        "        'fff73f5c'], \n",
        "       dtype='|S8'),\n",
        " array(['17602c18', '30679ae7', '407795a8', '49d2d84e', '4a462957',\n",
        "        '5ed1074a', '60cc3f0a', '688746e6', '68b267ea', '6f74d8ea',\n",
        "        '7103faa6', '7e5068fc', '901f962c', '91c97973', '9b4b1e95',\n",
        "        '9dd02426', 'a89b3dd2', 'b3e4565b', 'bc1596e9', 'd41d8cd9',\n",
        "        'db4fcb5b', 'e604bc72', 'e878bf21', 'e9ad6433', 'ed1a1ccf',\n",
        "        'f32b0131'], \n",
        "       dtype='|S8'),\n",
        " array(['00012fa7', '000711ca', '000a61c9', ..., 'fff0e7e2', 'fff910aa',\n",
        "        'fffb186f'], \n",
        "       dtype='|S8'),\n",
        " array(['016516fd', '0191243d', '024e05fc', '02e1159d', '0377701f',\n",
        "        '04207900', '04ea1e44', '056772c5', '056ccd0d', '06aecfe2',\n",
        "        '07690ffd', '077f88c6', '08edabfa', '095c1912', '0a137b37',\n",
        "        '0a8d3a75', '0acaf9d2', '0aeb93df', '0bcbaa3a', '0d2b05d1',\n",
        "        '0d75b9e2', '0dbdf049', '0e2dab48', '0f535559', '0fbdff05',\n",
        "        '1169f99f', '12407309', '126144bf', '12d2b0e9', '12fecf69',\n",
        "        '13dc11e2', '13eaacf3', '141924ec', '1505d766', '154f759d',\n",
        "        '15654778', '169f494b', '16c3ee4f', '17d2ab72', '1880ff23',\n",
        "        '189cbeff', '18be1eb1', '19c03595', '1a01fc7c', '1aba4714',\n",
        "        '1af36a78', '1b2a3e65', '1c769c5f', '1c82a8ff', '1d945fe9',\n",
        "        '1e2f591e', '1eced0b5', '1efa6788', '2029219a', '20b69b12',\n",
        "        '2102add9', '217762d6', '21ef0ee5', '24060536', '2439664f',\n",
        "        '269552b1', '26a47f1b', '26e7a4d2', '26e8f156', '27d875f6',\n",
        "        '28227fb3', '28513467', '28560c6a', '2857ed6d', '28960638',\n",
        "        '29211b77', '293a34cd', '298fbb2c', '29e67760', '2a87f207',\n",
        "        '2c50af72', '2c5e0b33', '2c84bec9', '2cbb4010', '2dc4f8a6',\n",
        "        '2e70d746', '2ea1abf0', '2ec645ad', '2efa12da', '31688b32',\n",
        "        '31c9421e', '3295ae9c', '341e85b2', '3467fa18', '349821f2',\n",
        "        '3500464d', '35de53e7', '36a53eb6', '36d2d75f', '376ef3b1',\n",
        "        '37d9b2f2', '37ecd889', '37f8a487', '3899c784', '3957ca45',\n",
        "        '39d99457', '3a206dd4', '3ab93dab', '3b0823cd', '3b6de31f',\n",
        "        '3b8e5919', '3b90872e', '3bdec195', '3c023c35', '3c651df5',\n",
        "        '3d5c36a3', '3d6a180b', '3d9980da', '3e9b840d', '3f3d8221',\n",
        "        '3fe20975', '4128b2ba', '4128b599', '412e81cb', '42e5efda',\n",
        "        '44c08331', '45e23040', '46524a4f', '4656f981', '4712791a',\n",
        "        '472d6a65', '47625915', '47f0fadb', '48e84477', '49c6649e',\n",
        "        '49e29f96', '4bb95f58', '4bd7823c', '4c56258b', '4c628673',\n",
        "        '4db5b796', '4df2b2a5', '4e45d269', '4f04e5f8', '4f8a2cd4',\n",
        "        '504d0168', '523adb74', '526e892a', '53004e81', '53330140',\n",
        "        '533e3efc', '5379c68a', '53ebe244', '54585c27', '54f4d16a',\n",
        "        '5509e03f', '555a0153', '5671ef80', '58156d9c', '582ff166',\n",
        "        '58558847', '594d9e19', '59999a17', '5b11ab62', '5b2b1d19',\n",
        "        '5c0614b0', '5c4b4f4f', '5c519c4e', '5ce9c218', '5d4fa0d9',\n",
        "        '5d99b3b4', '5fc584f0', '609956f8', '60a7b673', '60eb84ac',\n",
        "        '60f7b732', '610b89ce', '618a83ba', '61eecb92', '621a324e',\n",
        "        '62b8a623', '644f9361', '64b2d7a8', '653a547a', '660328a7',\n",
        "        '661a7f0c', '68364c16', '6a457984', '6b32a622', '6bbf4995',\n",
        "        '6bbfb722', '6bc805a1', '6cdec346', '6ce6da98', '6db51b0d',\n",
        "        '6e1be7b4', '6e9d7c8c', '6efe7eb9', '6f0ea4a4', '6f61d004',\n",
        "        '722c76ad', '723d460f', '7284ad4f', '73cec39d', '73e79a21',\n",
        "        '745017e4', '74e44385', '75138df2', '7513e27f', '751e9cc5',\n",
        "        '75cdc7de', '76916b16', '76b32c79', '76f17de3', '77444cd6',\n",
        "        '77948e04', '77e7572f', '78120ec9', '78139fda', '7ac7cd79',\n",
        "        '7ac9822b', '7cd7d814', '7cff7500', '7d1300cc', '7d32a685',\n",
        "        '7dc3d5a1', '7e2e3682', '7f9fae3a', '81057ed0', '8225d4b4',\n",
        "        '83ba989a', '84f212fe', '8511e85f', '85262c2b', '860808e7',\n",
        "        '8630b300', '87618c49', '890cb7d1', '8917f8fc', '892a2b28',\n",
        "        '8938b432', '8a6f47d1', '8b40b665', '8c865932', '8cac0ae7',\n",
        "        '8d0259cd', '8d1bb799', '8e11c191', '8e8f4110', '9009251c',\n",
        "        '905480eb', '905979ce', '91084e54', '910b00ff', '9187f3f2',\n",
        "        '91e3a2b4', '9231ddaa', '92331d8a', '9277c4e6', '934a93f0',\n",
        "        '94826831', '9526bd3b', '9582f559', '95df06e9', '961d4ced',\n",
        "        '9633983e', '96843e69', '96b73ddc', '9716d994', '976211cf',\n",
        "        '97ea460b', '9828d551', '987643ec', '98ea1f9a', '99cad01d',\n",
        "        '9a2573a6', '9b2e7b6d', '9c4bff38', '9c980a69', '9cb9eb7a',\n",
        "        '9f0e7777', '9fcf48da', 'a090594b', 'a0d4b359', 'a2a682b4',\n",
        "        'a33fe87d', 'a3b7acb9', 'a4762b19', 'a49ad176', 'a4f875c7',\n",
        "        'a69a1076', 'a6de1ee9', 'a707486e', 'a77c821c', 'a82af606',\n",
        "        'a89a9f5f', 'a90d5af5', 'a99e6f64', 'a9a25f4b', 'aa9339a0',\n",
        "        'ab5b1426', 'ac14d164', 'acdcdb48', 'ad1b4d1d', 'adf76a2f',\n",
        "        'ae570ed2', 'aef7319f', 'af831bde', 'b04331c6', 'b3450d4a',\n",
        "        'b376b7a3', 'b3fe2c08', 'b4607403', 'b6425b96', 'b69f7475',\n",
        "        'b70ecca8', 'b73c9d59', 'b8b67bfd', 'b8c3c897', 'b9eb089d',\n",
        "        'ba619718', 'bb017681', 'bbd137bf', 'bbdbda1d', 'bce3dff6',\n",
        "        'bd2a04ef', 'bdec6721', 'bf0fe010', 'bf4b7216', 'c11d298c',\n",
        "        'c28e36bb', 'c2b0ed22', 'c2cfade0', 'c482cf4a', 'c690ec9d',\n",
        "        'c6d61a03', 'c75c1024', 'c7ce29a2', 'c89e7bab', 'c9e03b8d',\n",
        "        'c9e25c36', 'ca15458d', 'cab4006c', 'cb330368', 'cb5bfaa9',\n",
        "        'cb6262b3', 'cc2ac833', 'cd1d0429', 'cd9cf2eb', 'cdbef3b7',\n",
        "        'cdc5d4b9', 'ce586b45', 'ce77869e', 'ce7d6a74', 'cea416fa',\n",
        "        'cf6b2b43', 'cfcc77ac', 'd0c7bb92', 'd128577c', 'd13cbbff',\n",
        "        'd33b53e1', 'd38c7de7', 'd3c13bad', 'd41d8cd9', 'd49e5d9b',\n",
        "        'd5595a95', 'd59f52e9', 'd611965d', 'd675a679', 'd700a61f',\n",
        "        'd72c6346', 'd8a88f5d', 'd8c0e9ab', 'd9c7c5fe', 'd9fc5b39',\n",
        "        'da3772e3', 'da41c181', 'dc165517', 'dd2f7981', 'dd4f001b',\n",
        "        'dd87eddb', 'de762d31', 'e133d166', 'e17c8994', 'e1ea8114',\n",
        "        'e2171920', 'e3af57ca', 'e43f96c0', 'e4c58df2', 'e540b424',\n",
        "        'e62641bc', 'e745e908', 'e7a4e523', 'e8c06a09', 'e94684d1',\n",
        "        'e9a9073b', 'e9ac1b3e', 'ea1ba388', 'ea7e8880', 'ebd38a3e',\n",
        "        'ec159629', 'ec384fec', 'ec546985', 'ec8d0824', 'ecd40f9a',\n",
        "        'ed02540c', 'ed1a81ea', 'edf49528', 'ee21c91f', 'eff75630',\n",
        "        'f0f35119', 'f110b560', 'f11411ac', 'f156d5b5', 'f20d644e',\n",
        "        'f25a26a9', 'f263ed51', 'f26c2070', 'f28122c4', 'f3257489',\n",
        "        'f3566932', 'f4ae52df', 'f68e3195', 'f77bd295', 'f8a12aa7',\n",
        "        'f9080480', 'f90bd603', 'fa338697', 'fa3653c0', 'fb2cea38',\n",
        "        'fbb09fae', 'fccbc633', 'fdeb1fdb', 'fe526460', 'feb9b197',\n",
        "        'fec17cc1', 'ff7855ab', 'ffe64dd3'], \n",
        "       dtype='|S8'),\n",
        " array(['02d263f8', '050fd349', '0bb6a067', '17602c18', '230c6540',\n",
        "        '30679ae7', '407795a8', '460b5486', '49d2d84e', '4a462957',\n",
        "        '5a7c44d5', '5ed1074a', '60cc3f0a', '688746e6', '68b267ea',\n",
        "        '6f74d8ea', '7103faa6', '769e20dd', '7e5068fc', '91c97973',\n",
        "        '9881c9b6', '9b4b1e95', '9dd02426', 'a89b3dd2', 'a9db1a49',\n",
        "        'b3bc41a7', 'b3e4565b', 'bc1596e9', 'c747e1cb', 'd41d8cd9',\n",
        "        'db4fcb5b', 'e878bf21', 'e88122f6', 'e9ad6433', 'ed1a1ccf',\n",
        "        'f32b0131', 'f95b752b', 'f9ee5838'], \n",
        "       dtype='|S8'),\n",
        " array(['00000685', '00000d13', '00000fbd', ..., 'fffff22a', 'fffff348',\n",
        "        'fffff6d8'], \n",
        "       dtype='|S8'),\n",
        " array(['00000095', '0000095c', '00000a0c', ..., 'fffffa7a', 'fffffd49',\n",
        "        'fffffff6'], \n",
        "       dtype='|S8'),\n",
        " array(['08145b8c', '2f3f71f2', '5ed26317', '672e1148', '679cd82b',\n",
        "        '76e9727b', '9740a313', '990c0803', '9e304d4e', 'b2c79ad7',\n",
        "        'b9ee034b', 'c31b3236', 'd6640003', 'ef1b6d65', 'f339e4e4'], \n",
        "       dtype='|S8'),\n",
        " array(['003eba32', '026af9dc', '02ab5043', '02e3c00c', '0490b305',\n",
        "        '05ab9d55', '05b8c74c', '07825cc3', '0aa884af', '0c23a8bf',\n",
        "        '0cc1cbed', '0e8598ac', '0ee09910', '0f7e4b94', '1115ae76',\n",
        "        '12cd9abd', '130e56d4', '14084800', '14bb28a3', '14fd435a',\n",
        "        '157f8b94', '158e1b36', '15bda166', '16e08561', '17eba2b5',\n",
        "        '1a1e02c0', '1a2bdc23', '1c31fe02', '1cba77c3', '1d08fdad',\n",
        "        '1f3870be', '1ff4d60d', '2040a28d', '204addae', '211499b2',\n",
        "        '22c4185e', '235d4e02', '239a5fdd', '24269595', '24b7d49e',\n",
        "        '254bd3c6', '26054d0b', '2619ad35', '27754523', '2856603d',\n",
        "        '28ea1935', '2a40faa1', '2a79079a', '2d0d4809', '2d387ab9',\n",
        "        '308901fe', '30ea9218', '3128a014', '317aefc9', '322699d7',\n",
        "        '3250320d', '33561003', '3421f5eb', '358888cf', '35a4d1a6',\n",
        "        '36767fd0', '36bc0c47', '36dfa7ba', '3720f54e', '377edee4',\n",
        "        '37968351', '390075d3', '3a126afc', '3ae71d98', '3bdb4615',\n",
        "        '3c2afd46', '3c54f5e3', '3d517f89', '3e4375a8', '3e73e337',\n",
        "        '3f24e567', '40be5b26', '4214d336', '42dabc12', '44655c94',\n",
        "        '45ad8c20', '46e1fbe5', '47dd072a', '49be9e2d', '4aab4dc9',\n",
        "        '4ab4aca1', '4e5bbaea', '4ed28d91', '4ff91e76', '52196aa5',\n",
        "        '546449c9', '5525ff59', '5636a0c3', '57a124d4', '591c3f85',\n",
        "        '593616de', '5b593c65', '5ca08b0a', '5cfdb867', '5dac1b59',\n",
        "        '5e6b3e7c', '5f532a3f', '5f75e58a', '62379d6d', '6361c229',\n",
        "        '642935e6', '64c44c3a', '65c2a3d7', '6815c25b', '68211039',\n",
        "        '6a45549b', '6a971410', '6b5333e9', '6ba1412f', '6c1d5876',\n",
        "        '6fededba', '71062ee0', '7117b5bd', '718bc3a3', '728c566b',\n",
        "        '73f75466', '7464cff9', '74c497d8', '750379b5', '75e9b18f',\n",
        "        '7675eca5', '77f4de0c', '7833e397', '79bca3b9', '7d063b23',\n",
        "        '7d9ad021', '7e9aedd9', '7f8d301f', '7fc07040', '81268c74',\n",
        "        '81ad4bc2', '828e096f', '82fab6a7', '84bc7eaa', '871dc573',\n",
        "        '87ded225', '8906fa50', '89ace20b', '8a24a8b9', '8c8320c3',\n",
        "        '8d29529d', '8dc6e45e', '8ecd8f5c', '8f5da45e', '8ff953dd',\n",
        "        '8ffc4674', '900bc885', '90ff9c27', '91e6c67e', '921690c1',\n",
        "        '936aa2d5', '93cc6cbb', '93d62324', '94c6efae', '9b42eaf8',\n",
        "        '9bd9d335', '9d931d3b', '9df3b01c', '9e214266', '9ed98796',\n",
        "        '9f096be5', '9f3ba20b', '9fface95', 'a104d39a', 'a16656a0',\n",
        "        'a3912e9c', 'a3d24b55', 'a48e9cae', 'a4f9b045', 'a557264a',\n",
        "        'a56f8ece', 'a608b9c4', 'a66547b4', 'a68b3e93', 'a77f4114',\n",
        "        'a8145405', 'aa4b7523', 'aab18ff4', 'abaecf8c', 'adfc7037',\n",
        "        'ae39a8ce', 'af0a8f81', 'af17bc3b', 'af7e730c', 'b15c0678',\n",
        "        'b15d47e9', 'b19bcd8e', 'b2c79ad7', 'b2f030f6', 'b39ecd65',\n",
        "        'b3bfb5ad', 'b4938377', 'b4b1a123', 'b7015547', 'b86687b3',\n",
        "        'bb51e1a8', 'bc3bf58c', 'c113d3bd', 'c1aafc7e', 'c31b3236',\n",
        "        'c444858e', 'c822c1b6', 'c8416ab6', 'c85a6a3b', 'c892ba23',\n",
        "        'c8db61a6', 'cb8115c2', 'cbeb7806', 'ccb3669c', 'cd03aedd',\n",
        "        'cd3affbd', 'cda07438', 'cedcd6b1', 'cf5bf2ab', 'cf5c0a6a',\n",
        "        'd07c6513', 'd141ab58', 'd2aad189', 'd2ccda10', 'd325b431',\n",
        "        'd51da224', 'd580dc6e', 'd5cbe1a3', 'd5f948da', 'd65be92f',\n",
        "        'd6e76ada', 'd780ea31', 'd7a14e30', 'd8c6c3e2', 'd9d94c40',\n",
        "        'da44324c', 'daab79ea', 'dacf9980', 'db02cda1', 'db2fd790',\n",
        "        'dbeb1c32', 'dd5b9598', 'dda830e8', 'de6df284', 'dee7a6e3',\n",
        "        'deef60d0', 'df98d265', 'dfd4c09a', 'e018cf1f', 'e06f8719',\n",
        "        'e389a212', 'e454899e', 'e4721cde', 'e528c8e8', 'e6349a13',\n",
        "        'e7371e76', 'e9b43e22', 'e9f3967b', 'ea359613', 'eacf6d16',\n",
        "        'eaebe551', 'ec404e2a', 'ec6ff529', 'ed0e6af5', 'ed3a4729',\n",
        "        'ef140703', 'f04af61b', 'f0795629', 'f16c4960', 'f2c39733',\n",
        "        'f2cb097c', 'f3243a75', 'f37830de', 'f3c0fa6b', 'f4baaaea',\n",
        "        'f5503575', 'f9d3e6cc', 'fc5e8358', 'fc86ba96', 'fdce1360',\n",
        "        'fe01d67a', 'fe546279', 'ff5e66b7'], \n",
        "       dtype='|S8'),\n",
        " array(['000766e7', '0007b94b', '0016b24e', ..., 'ffd9d2a5', 'ffdb1dc7',\n",
        "        'ffe4c99c'], \n",
        "       dtype='|S8'),\n",
        " array([0, 1, 4, 5]),\n",
        " array([0, 2, 3, 5]),\n",
        " array(['00c66f1a', '01b6e203', '0288bde0', '038c0dc8', '048685d9',\n",
        "        '0707ba09', '07159c47', '0730b75e', '07d93568', '08424385',\n",
        "        '08a4415e', '0ab34ca9', '0b3b97fa', '0ba64a0d', '0d149b90',\n",
        "        '0de7b6a6', '0ecbf942', '12470fe4', '12eccbdd', '13b5bfe9',\n",
        "        '1548af1c', '161747ec', '1815235d', '18bd9197', '196accbc',\n",
        "        '19b19ffc', '1a13105b', '1b23f8a4', '1bfad22f', '1cd3c693',\n",
        "        '1d8a4975', '1e734284', '1f0eb098', '1f2dfa56', '1fdc0f89',\n",
        "        '21ad0bd8', '235ec523', '25400724', '255a5cac', '25bc6654',\n",
        "        '26148d62', '26403ec6', '27c9d518', '28840420', '28dd376c',\n",
        "        '2a0617ac', '2a6a84e9', '2c38b9e4', '2f53e6f3', '313a21d5',\n",
        "        '324d8a1d', '32d7508f', '35b36b28', '35ea51ba', '3605c251',\n",
        "        '3691308f', '38fed710', '39b9df3a', '3a2d7564', '3d26b0b1',\n",
        "        '3da770cc', '3e7e122b', '3f071f4f', '41256636', '41d6ad07',\n",
        "        '43b1cc1d', '44ba5ca6', '456c2e75', '4605f628', '471c1f3f',\n",
        "        '4921c0e2', '4de1b7a4', '4e29342d', '4e42f7dd', '4e58188f',\n",
        "        '4f3dd0ff', '5109d85d', '5123dd8b', '52196aa5', '523af537',\n",
        "        '5269f4d7', '5343b21a', '5435c69e', '54a2bf8c', '5523c88d',\n",
        "        '55add3d8', '58791f32', '59ca4f8b', '5c4fefda', '5dae4296',\n",
        "        '5e08be98', '5e9c52c6', '5f02f088', '608e7dc1', '6226f7cb',\n",
        "        '626726e6', '627fcdb6', '64ca6097', '64e1e1cb', '66e10e9f',\n",
        "        '674f3384', '6864f389', '6865aeb3', '69206263', '6a962563',\n",
        "        '6e9cf3ee', '6ec66e12', '6fac3ab6', '710998fd', '7287aa2c',\n",
        "        '73bb4387', '73bebce3', '73c18c59', '742523da', '74354112',\n",
        "        '75778bf8', '7885444a', '793914c9', '795237fd', '79563e90',\n",
        "        '7c9df801', '7d0db380', '7dabf5c1', '7efdfc94', '7fa3b767',\n",
        "        '818f9c45', '820eb5b6', '823355b6', '8264ee52', '82a9e4d2',\n",
        "        '85d1a9c4', '8812c36a', '89484b14', '89aa4b19', '8b3274b7',\n",
        "        '8bcc25c9', '8c7e6965', '8fe4c114', '9008f9e2', '910955a9',\n",
        "        '92073d2f', '94d03594', '959848ca', '97282b27', '9830e1f8',\n",
        "        '988287f7', '99d4fb3d', '9b05de73', '9c049173', '9cea1e24',\n",
        "        '9e854e58', 'a1555463', 'a2a551a6', 'a4dbfd6a', 'a6be8a33',\n",
        "        'aafb96b2', 'ab6c0400', 'ab86a1e1', 'ac5585d9', 'accc9105',\n",
        "        'ad7532d5', 'adab7b70', 'adac5e63', 'ae417185', 'afbe94cd',\n",
        "        'b005ad12', 'b351bb9b', 'b3cd915d', 'b6bb43df', 'b74df323',\n",
        "        'b787d22d', 'b807023f', 'b80bb774', 'b84a1ed8', 'c04cd38a',\n",
        "        'c08bba7a', 'c12e01f2', 'c1b291cb', 'c419b06b', 'c56e5259',\n",
        "        'c582dec9', 'c9089f3c', 'c97b334f', 'c9a1fdac', 'c9f9d7dd',\n",
        "        'cc8c0a97', 'ce1d5a24', 'cf3fc916', 'd0fa06cd', 'd2a460df',\n",
        "        'd4579b26', 'd4f91763', 'd54185b7', 'd58da822', 'd5a5b3dd',\n",
        "        'd692bc40', 'd6fd0924', 'd70c1e5d', 'd74eea48', 'd88fc6ed',\n",
        "        'd91af695', 'd9394066', 'd9c29677', 'da984e42', 'dc634e20',\n",
        "        'dcf0d7d2', 'dd07de85', 'de3ec0aa', 'df3f079d', 'dfed5bc1',\n",
        "        'e22428cc', 'e529a9ce', 'e5bb2379', 'e6c151d4', 'e728b477',\n",
        "        'e7d707a2', 'ea81aa7d', 'eabb18f0', 'eb5e48e7', 'ebe86682',\n",
        "        'ed79acb0', 'ed8f5b7e', 'ee33e909', 'eed80702', 'ef1cb6e7',\n",
        "        'efad7abb', 'f0357a3f', 'f970e276', 'f98ed07a', 'fa0ed5b5',\n",
        "        'fa46ec0b', 'fc9fdf08'], \n",
        "       dtype='|S8'),\n",
        " array([  375,   376,   377, ..., 19227, 19230, 19235]),\n",
        " array([ 120,  216,  300,  320,  480,  728,  768, 1024]),\n",
        " array([  20,   36,   50,   90,  250,  320,  480,  768, 1024]),\n",
        " array([ 110,  112,  117,  122,  153,  178,  196,  285,  286,  305,  309,\n",
        "         332,  340,  341,  394,  423,  438,  439,  464,  465,  479,  496,\n",
        "         523,  528,  534,  536,  538,  544,  547,  549,  550,  552,  559,\n",
        "         571,  572,  574,  576,  577,  579,  580,  581,  582,  583,  589,\n",
        "         591,  592,  599,  613,  644,  647,  660,  662,  670,  671,  686,\n",
        "         699,  702,  735,  743,  761,  762,  765,  768,  775,  777,  781,\n",
        "         786,  792,  803,  812,  827,  832,  843,  850,  855,  860,  863,\n",
        "         865,  869,  872,  873,  888,  901,  906,  937,  991,  995,  999,\n",
        "        1008, 1009, 1012, 1042, 1069, 1080, 1092, 1100, 1105, 1107, 1108,\n",
        "        1114, 1115, 1120, 1141, 1145, 1149, 1174, 1179, 1194, 1248, 1255,\n",
        "        1270, 1272, 1297, 1323, 1328, 1329, 1338, 1341, 1410, 1415, 1447,\n",
        "        1449, 1462, 1474, 1475, 1501, 1507, 1515, 1516, 1528, 1540, 1562,\n",
        "        1589, 1622, 1623, 1633, 1685, 1687, 1694, 1695, 1698, 1699, 1752,\n",
        "        1754, 1763, 1771, 1773, 1779, 1780, 1782, 1783, 1784, 1786, 1788,\n",
        "        1794, 1795, 1800, 1804, 1808, 1810, 1811, 1812, 1814, 1821, 1823,\n",
        "        1824, 1825, 1831, 1832, 1833, 1835, 1839, 1841, 1842, 1844, 1850,\n",
        "        1857, 1859, 1860, 1862, 1863, 1866, 1867, 1871, 1872, 1873, 1875,\n",
        "        1876, 1877, 1878, 1879, 1882, 1883, 1884, 1886, 1887, 1888, 1889,\n",
        "        1891, 1892, 1893, 1894, 1895, 1896, 1897, 1898, 1899, 1902, 1903,\n",
        "        1904, 1907, 1908, 1910, 1911, 1912, 1914, 1915, 1916, 1917, 1918,\n",
        "        1919, 1921, 1924, 1926, 1927, 1928, 1929, 1930, 1931, 1932, 1934,\n",
        "        1936, 1937, 1938, 1939, 1940, 1941, 1942, 1943, 1944, 1945, 1946,\n",
        "        1947, 1950, 1951, 1952, 1953, 1954, 1955, 1956, 1957, 1958, 1959,\n",
        "        1960, 1961, 1962, 1963, 1964, 1965, 1966, 1967, 1968, 1969, 1970,\n",
        "        1971, 1972, 1973, 1974, 1975, 1976, 1977, 1978, 1979, 1980, 1981,\n",
        "        1982, 1983, 1984, 1985, 1986, 1987, 1988, 1989, 1990, 1991, 1992,\n",
        "        1993, 1994, 1996, 1997, 1998, 1999, 2001, 2002, 2003, 2004, 2009,\n",
        "        2010, 2011, 2012, 2013, 2014, 2015, 2016, 2017, 2018, 2019, 2020,\n",
        "        2021, 2022, 2023, 2024, 2025, 2026, 2027, 2028, 2029, 2030, 2031,\n",
        "        2032, 2033, 2034, 2035, 2036, 2037, 2038, 2039, 2040, 2041, 2042,\n",
        "        2043, 2044, 2045, 2046, 2047, 2048, 2049, 2050, 2051, 2052, 2053,\n",
        "        2054, 2055, 2056, 2057, 2059, 2060, 2061, 2062, 2063, 2064, 2065,\n",
        "        2066, 2068, 2069, 2074, 2075, 2076, 2077, 2078, 2079, 2080, 2081,\n",
        "        2082, 2083, 2084, 2085, 2086, 2087, 2088, 2089, 2090, 2091, 2092,\n",
        "        2093, 2094, 2095, 2097, 2098, 2099, 2100, 2101, 2102, 2103, 2105,\n",
        "        2106, 2107, 2108, 2109, 2110, 2111, 2112, 2113, 2114, 2115, 2116,\n",
        "        2117, 2118, 2119, 2120, 2121, 2122, 2123, 2124, 2125, 2126, 2127,\n",
        "        2128, 2129, 2130, 2131, 2132, 2133, 2134, 2135, 2136, 2137, 2138,\n",
        "        2139, 2140, 2143, 2145, 2146, 2147, 2148, 2149, 2150, 2153, 2154,\n",
        "        2155, 2156, 2158, 2159, 2160, 2161, 2162, 2163, 2165, 2166, 2167,\n",
        "        2168, 2170, 2171, 2172, 2173, 2174, 2175, 2176, 2177, 2178, 2179,\n",
        "        2180, 2185, 2186, 2190, 2192, 2196]),\n",
        " array([0, 1, 2, 3]),\n",
        " array([  32,   33,   34,   35,   38,   39,   41,   43,   45,   46,   47,\n",
        "         161,  163,  165,  167,  169,  171,  174,  175,  291,  295,  297,\n",
        "         303,  419,  423,  425,  427,  431,  545,  547,  553,  555,  559,\n",
        "         675,  679,  681,  683,  687,  803,  807,  809,  931,  937,  939,\n",
        "        1059, 1063, 1071, 1185, 1187, 1193, 1195, 1199, 1319, 1327, 1449,\n",
        "        1451, 1705, 1707, 1827, 1955, 1959]),\n",
        " array([    -1, 100000, 100001, 100002, 100003, 100004, 100005, 100006,\n",
        "        100008, 100010, 100012, 100013, 100016, 100019, 100020, 100021,\n",
        "        100022, 100024, 100025, 100026, 100027, 100028, 100029, 100031,\n",
        "        100032, 100033, 100034, 100037, 100039, 100040, 100041, 100043,\n",
        "        100046, 100048, 100049, 100050, 100051, 100052, 100053, 100054,\n",
        "        100055, 100056, 100057, 100058, 100059, 100060, 100061, 100062,\n",
        "        100063, 100064, 100065, 100068, 100070, 100071, 100072, 100073,\n",
        "        100074, 100075, 100076, 100077, 100078, 100079, 100081, 100082,\n",
        "        100083, 100084, 100086, 100087, 100088, 100090, 100091, 100093,\n",
        "        100094, 100095, 100096, 100097, 100098, 100099, 100100, 100101,\n",
        "        100103, 100105, 100106, 100107, 100108, 100109, 100111, 100112,\n",
        "        100113, 100114, 100117, 100119, 100121, 100122, 100123, 100124,\n",
        "        100126, 100128, 100130, 100131, 100132, 100133, 100134, 100135,\n",
        "        100137, 100138, 100139, 100141, 100143, 100144, 100148, 100149,\n",
        "        100150, 100151, 100152, 100153, 100155, 100156, 100157, 100160,\n",
        "        100161, 100162, 100163, 100165, 100166, 100168, 100169, 100170,\n",
        "        100171, 100172, 100173, 100175, 100176, 100177, 100178, 100179,\n",
        "        100181, 100182, 100183, 100185, 100186, 100187, 100188, 100189,\n",
        "        100190, 100191, 100192, 100193, 100194, 100195, 100198, 100199,\n",
        "        100200, 100202, 100205, 100206, 100210, 100212, 100213, 100215,\n",
        "        100217, 100221, 100224, 100225, 100228, 100229, 100233, 100241,\n",
        "        100244, 100246, 100248]),\n",
        " array([  1,  13,  15,  16,  17,  20,  23,  24,  26,  32,  33,  42,  43,\n",
        "         46,  47,  48,  51,  52,  61,  62,  68,  69,  70,  71,  72,  73,\n",
        "         79,  82,  83,  87,  88,  91,  94,  95, 101, 102, 104, 108, 110,\n",
        "        111, 112, 113, 116, 117, 121, 134, 156, 157, 159, 163, 178, 182, 184])]"
       ]
      }
     ],
     "prompt_number": 9
    },
    {
     "cell_type": "code",
     "collapsed": false,
     "input": [
      "a = np.array([])"
     ],
     "language": "python",
     "metadata": {},
     "outputs": [],
     "prompt_number": 18
    },
    {
     "cell_type": "code",
     "collapsed": false,
     "input": [
      "b = np.array([1,0,0,1,0,1,1,])"
     ],
     "language": "python",
     "metadata": {},
     "outputs": [],
     "prompt_number": 19
    },
    {
     "cell_type": "code",
     "collapsed": false,
     "input": [
      "np.concatenate((a,b))"
     ],
     "language": "python",
     "metadata": {},
     "outputs": [
      {
       "metadata": {},
       "output_type": "pyout",
       "prompt_number": 20,
       "text": [
        "array([ 1.,  0.,  0.,  1.,  0.,  1.,  1.])"
       ]
      }
     ],
     "prompt_number": 20
    },
    {
     "cell_type": "code",
     "collapsed": false,
     "input": [
      "len(colcate[0])"
     ],
     "language": "python",
     "metadata": {},
     "outputs": [
      {
       "metadata": {},
       "output_type": "pyout",
       "prompt_number": 10,
       "text": [
        "24"
       ]
      }
     ],
     "prompt_number": 10
    },
    {
     "cell_type": "code",
     "collapsed": false,
     "input": [
      "valuelist = cPickle.load(f)"
     ],
     "language": "python",
     "metadata": {},
     "outputs": [],
     "prompt_number": 5
    },
    {
     "cell_type": "code",
     "collapsed": false,
     "input": [
      "valuelist"
     ],
     "language": "python",
     "metadata": {},
     "outputs": [
      {
       "metadata": {},
       "output_type": "pyout",
       "prompt_number": 6,
       "text": [
        "array([ 0,  1,  2,  3,  4,  5,  6,  7,  8,  9, 10, 11, 12, 13, 14, 15, 16,\n",
        "       17, 18, 19, 20, 21, 22, 23])"
       ]
      }
     ],
     "prompt_number": 6
    },
    {
     "cell_type": "code",
     "collapsed": false,
     "input": [
      "nominal2onehot(5, valuelist)"
     ],
     "language": "python",
     "metadata": {},
     "outputs": [
      {
       "metadata": {},
       "output_type": "pyout",
       "prompt_number": 7,
       "text": [
        "array([ 0.,  0.,  0.,  0.,  0.,  1.,  0.,  0.,  0.,  0.,  0.,  0.,  0.,\n",
        "        0.,  0.,  0.,  0.,  0.,  0.,  0.,  0.,  0.,  0.,  0.])"
       ]
      }
     ],
     "prompt_number": 7
    },
    {
     "cell_type": "code",
     "collapsed": false,
     "input": [
      "nominal2onehot(123, valuelist)"
     ],
     "language": "python",
     "metadata": {},
     "outputs": [
      {
       "metadata": {},
       "output_type": "pyout",
       "prompt_number": 8,
       "text": [
        "array([ 0.,  0.,  0.,  0.,  0.,  0.,  0.,  0.,  0.,  0.,  0.,  0.,  0.,\n",
        "        0.,  0.,  0.,  0.,  0.,  0.,  0.,  0.,  0.,  0.,  0.])"
       ]
      }
     ],
     "prompt_number": 8
    },
    {
     "cell_type": "code",
     "collapsed": false,
     "input": [
      "nominal2onehot(12, valuelist)"
     ],
     "language": "python",
     "metadata": {},
     "outputs": [
      {
       "metadata": {},
       "output_type": "pyout",
       "prompt_number": 9,
       "text": [
        "array([ 0.,  0.,  0.,  0.,  0.,  0.,  0.,  0.,  0.,  0.,  0.,  0.,  1.,\n",
        "        0.,  0.,  0.,  0.,  0.,  0.,  0.,  0.,  0.,  0.,  0.])"
       ]
      }
     ],
     "prompt_number": 9
    },
    {
     "cell_type": "markdown",
     "metadata": {},
     "source": [
      "find number of samples in each day"
     ]
    },
    {
     "cell_type": "code",
     "collapsed": false,
     "input": [
      "k = np.zeros((10, ))\n",
      "\n",
      "for j in range(10):\n",
      "    \n",
      "    reader = csv.reader(open(\"train_rev1.csv\"))\n",
      "    header = reader.next()\n",
      "\n",
      "    for row in reader:\n",
      "        \n",
      "        if int(row[2][4:6]) == j:\n",
      "            k[j]+=1"
     ],
     "language": "python",
     "metadata": {},
     "outputs": [],
     "prompt_number": 33
    },
    {
     "cell_type": "code",
     "collapsed": false,
     "input": [
      "reader = csv.reader(open(\"train_rev1.csv\"))\n",
      "header = reader.next()\n",
      "a = 0\n",
      "for row in reader:\n",
      "        \n",
      "    if int(row[2][4:6]) == 10:\n",
      "        a+=1"
     ],
     "language": "python",
     "metadata": {},
     "outputs": [],
     "prompt_number": 35
    },
    {
     "cell_type": "code",
     "collapsed": false,
     "input": [
      "k"
     ],
     "language": "python",
     "metadata": {},
     "outputs": [
      {
       "metadata": {},
       "output_type": "pyout",
       "prompt_number": 34,
       "text": [
        "array([       0.,  4761989.,  4765304.,  4768061.,  4776491.,  4776398.,\n",
        "        4769862.,  4769217.,  4766136.,  4766812.])"
       ]
      }
     ],
     "prompt_number": 34
    },
    {
     "cell_type": "code",
     "collapsed": false,
     "input": [
      "a = np.array([a])"
     ],
     "language": "python",
     "metadata": {},
     "outputs": [],
     "prompt_number": 43
    },
    {
     "cell_type": "code",
     "collapsed": false,
     "input": [
      "b = np.concatenate((k[1:], a), axis = 1)"
     ],
     "language": "python",
     "metadata": {},
     "outputs": [],
     "prompt_number": 45
    },
    {
     "cell_type": "code",
     "collapsed": false,
     "input": [
      "sum(b)"
     ],
     "language": "python",
     "metadata": {},
     "outputs": [
      {
       "metadata": {},
       "output_type": "pyout",
       "prompt_number": 46,
       "text": [
        "47686351.0"
       ]
      }
     ],
     "prompt_number": 46
    },
    {
     "cell_type": "markdown",
     "metadata": {},
     "source": [
      "ipython parellel"
     ]
    },
    {
     "cell_type": "code",
     "collapsed": false,
     "input": [
      "def calrows(day):\n",
      "    reader = csv.reader(open(\"train_rev1.csv\"))\n",
      "    header = reader.next()\n",
      "    rownum = 0\n",
      "    for row in reader:\n",
      "        if int(row[2][4:6]) == day:\n",
      "            rownum += 1\n",
      "    return rownum"
     ],
     "language": "python",
     "metadata": {},
     "outputs": [],
     "prompt_number": 27
    },
    {
     "cell_type": "code",
     "collapsed": false,
     "input": [
      "clients = parallel.Client()\n",
      "#clients.block = True  # use synchronous computations"
     ],
     "language": "python",
     "metadata": {},
     "outputs": [],
     "prompt_number": 28
    },
    {
     "cell_type": "code",
     "collapsed": false,
     "input": [
      "lview.block = False"
     ],
     "language": "python",
     "metadata": {},
     "outputs": [],
     "prompt_number": 29
    },
    {
     "cell_type": "code",
     "collapsed": false,
     "input": [
      "lview = clients.load_balanced_view()\n",
      "result = lview.map(calrows, [1,2,3,4,5,6,7,8,9,10])"
     ],
     "language": "python",
     "metadata": {},
     "outputs": [],
     "prompt_number": 30
    },
    {
     "cell_type": "code",
     "collapsed": false,
     "input": [
      "result.ready()"
     ],
     "language": "python",
     "metadata": {},
     "outputs": [
      {
       "metadata": {},
       "output_type": "pyout",
       "prompt_number": 31,
       "text": [
        "True"
       ]
      }
     ],
     "prompt_number": 31
    },
    {
     "cell_type": "code",
     "collapsed": false,
     "input": [
      "result.result"
     ],
     "language": "python",
     "metadata": {},
     "outputs": [
      {
       "ename": "CompositeError",
       "evalue": "one or more exceptions from call to method: calrows\n[2:apply]: NameError: global name 'csv' is not defined\n[1:apply]: NameError: global name 'csv' is not defined\n[6:apply]: NameError: global name 'csv' is not defined\n[4:apply]: NameError: global name 'csv' is not defined\n.... 6 more exceptions ...",
       "output_type": "pyerr",
       "traceback": [
        "[2:apply]: ",
        "\u001b[1;31m---------------------------------------------------------------------------\u001b[0m",
        "\u001b[1;31mNameError\u001b[0m                                 Traceback (most recent call last)\u001b[1;32m<string>\u001b[0m in \u001b[0;36m<module>\u001b[1;34m()\u001b[0m",
        "\u001b[1;32m<ipython-input-27-ef9a1214dfc0>\u001b[0m in \u001b[0;36mcalrows\u001b[1;34m(day)\u001b[0m",
        "\u001b[1;31mNameError\u001b[0m: global name 'csv' is not defined",
        "",
        "[1:apply]: ",
        "\u001b[1;31m---------------------------------------------------------------------------\u001b[0m",
        "\u001b[1;31mNameError\u001b[0m                                 Traceback (most recent call last)\u001b[1;32m<string>\u001b[0m in \u001b[0;36m<module>\u001b[1;34m()\u001b[0m",
        "\u001b[1;32m<ipython-input-27-ef9a1214dfc0>\u001b[0m in \u001b[0;36mcalrows\u001b[1;34m(day)\u001b[0m",
        "\u001b[1;31mNameError\u001b[0m: global name 'csv' is not defined",
        "",
        "[6:apply]: ",
        "\u001b[1;31m---------------------------------------------------------------------------\u001b[0m",
        "\u001b[1;31mNameError\u001b[0m                                 Traceback (most recent call last)\u001b[1;32m<string>\u001b[0m in \u001b[0;36m<module>\u001b[1;34m()\u001b[0m",
        "\u001b[1;32m<ipython-input-27-ef9a1214dfc0>\u001b[0m in \u001b[0;36mcalrows\u001b[1;34m(day)\u001b[0m",
        "\u001b[1;31mNameError\u001b[0m: global name 'csv' is not defined",
        "",
        "[4:apply]: ",
        "\u001b[1;31m---------------------------------------------------------------------------\u001b[0m",
        "\u001b[1;31mNameError\u001b[0m                                 Traceback (most recent call last)\u001b[1;32m<string>\u001b[0m in \u001b[0;36m<module>\u001b[1;34m()\u001b[0m",
        "\u001b[1;32m<ipython-input-27-ef9a1214dfc0>\u001b[0m in \u001b[0;36mcalrows\u001b[1;34m(day)\u001b[0m",
        "\u001b[1;31mNameError\u001b[0m: global name 'csv' is not defined",
        "",
        "... 6 more exceptions ..."
       ]
      }
     ],
     "prompt_number": 32
    },
    {
     "cell_type": "markdown",
     "metadata": {},
     "source": [
      "write to file"
     ]
    },
    {
     "cell_type": "code",
     "collapsed": false,
     "input": [
      "f1 = open('dayrows.pkl', 'wb')"
     ],
     "language": "python",
     "metadata": {},
     "outputs": [],
     "prompt_number": 3
    },
    {
     "cell_type": "code",
     "collapsed": false,
     "input": [
      "cPickle.dump(b.astype(int), f1, -1)"
     ],
     "language": "python",
     "metadata": {},
     "outputs": [],
     "prompt_number": 4
    },
    {
     "cell_type": "code",
     "collapsed": false,
     "input": [
      "f1.close"
     ],
     "language": "python",
     "metadata": {},
     "outputs": [
      {
       "metadata": {},
       "output_type": "pyout",
       "prompt_number": 5,
       "text": [
        "<function close>"
       ]
      }
     ],
     "prompt_number": 5
    },
    {
     "cell_type": "code",
     "collapsed": false,
     "input": [
      "b = np.array([ 4761989.,  4765304.,  4768061.,  4776491.,  4776398.,  4769862.,\n",
      "        4769217.,  4766136.,  4766812.,  4766081.])"
     ],
     "language": "python",
     "metadata": {},
     "outputs": [],
     "prompt_number": 4
    },
    {
     "cell_type": "code",
     "collapsed": false,
     "input": [
      "sum(b)"
     ],
     "language": "python",
     "metadata": {},
     "outputs": [
      {
       "metadata": {},
       "output_type": "pyout",
       "prompt_number": 5,
       "text": [
        "47686351.0"
       ]
      }
     ],
     "prompt_number": 5
    },
    {
     "cell_type": "code",
     "collapsed": false,
     "input": [
      "f1 = open('colnames.pkl', 'rb')\n",
      "cPickle.load(f1)"
     ],
     "language": "python",
     "metadata": {},
     "outputs": [
      {
       "metadata": {},
       "output_type": "pyout",
       "prompt_number": 3,
       "text": [
        "array(['day', 'hour', 'C1', 'C2', 'C3', 'C4', 'banner_pos', 'site_id',\n",
        "       'site_domain', 'site_category', 'app_id', 'app_domain',\n",
        "       'app_category', 'device_id', 'device_ip', 'device_os',\n",
        "       'device_make', 'device_model', 'device_type', 'device_conn_type',\n",
        "       'device_geo_country', 'C20', 'C21', 'C22', 'C23', 'C24'], \n",
        "      dtype='|S18')"
       ]
      }
     ],
     "prompt_number": 3
    },
    {
     "cell_type": "code",
     "collapsed": false,
     "input": [
      "sum(b[:2])"
     ],
     "language": "python",
     "metadata": {},
     "outputs": [
      {
       "metadata": {},
       "output_type": "pyout",
       "prompt_number": 54,
       "text": [
        "9527293.0"
       ]
      }
     ],
     "prompt_number": 54
    }
   ],
   "metadata": {}
  }
 ]
}