{
 "metadata": {
  "name": "",
  "signature": "sha256:0e3cb584b77356ddcd859f120f44980be7b4b9f29b106c43cdcb00de192a6869"
 },
 "nbformat": 3,
 "nbformat_minor": 0,
 "worksheets": [
  {
   "cells": [
    {
     "cell_type": "code",
     "collapsed": false,
     "input": [
      "import numpy as np"
     ],
     "language": "python",
     "metadata": {},
     "outputs": [],
     "prompt_number": 1
    },
    {
     "cell_type": "code",
     "collapsed": false,
     "input": [
      "np.random.seed(50)"
     ],
     "language": "python",
     "metadata": {},
     "outputs": [],
     "prompt_number": 7
    },
    {
     "cell_type": "code",
     "collapsed": false,
     "input": [
      "indexlist = range(0,40428967)"
     ],
     "language": "python",
     "metadata": {},
     "outputs": [],
     "prompt_number": 8
    },
    {
     "cell_type": "raw",
     "metadata": {},
     "source": [
      "len(indexlist)"
     ]
    },
    {
     "cell_type": "raw",
     "metadata": {},
     "source": [
      "indexlist[0:9]"
     ]
    },
    {
     "cell_type": "code",
     "collapsed": false,
     "input": [
      "np.random.shuffle(indexlist)"
     ],
     "language": "python",
     "metadata": {},
     "outputs": [],
     "prompt_number": 9
    },
    {
     "cell_type": "code",
     "collapsed": false,
     "input": [
      "indexset = set(indexlist[:20214483])"
     ],
     "language": "python",
     "metadata": {},
     "outputs": [],
     "prompt_number": 10
    },
    {
     "cell_type": "code",
     "collapsed": false,
     "input": [
      "%%time\n",
      "i = 0\n",
      "with open('train50.txt', 'wb') as outfile:\n",
      "    for line in open(\"train.txt\"):\n",
      "        if i in indexset:\n",
      "            outfile.write(line)\n",
      "        i+=1"
     ],
     "language": "python",
     "metadata": {},
     "outputs": [
      {
       "output_type": "stream",
       "stream": "stdout",
       "text": [
        "CPU times: user 33 s, sys: 10.9 s, total: 43.9 s\n",
        "Wall time: 3min 40s\n"
       ]
      }
     ],
     "prompt_number": 11
    },
    {
     "cell_type": "code",
     "collapsed": false,
     "input": [
      "%%time\n",
      "i = 0\n",
      "with open('train11.fm', 'wb') as outfile:\n",
      "    for line in open(\"train.fm\"):\n",
      "        if i in indexset:\n",
      "            outfile.write(line)\n",
      "        i+=1"
     ],
     "language": "python",
     "metadata": {},
     "outputs": [
      {
       "output_type": "stream",
       "stream": "stdout",
       "text": [
        "CPU times: user 27.6 s, sys: 5.2 s, total: 32.8 s\n",
        "Wall time: 2min 14s\n"
       ]
      }
     ],
     "prompt_number": 25
    },
    {
     "cell_type": "code",
     "collapsed": false,
     "input": [],
     "language": "python",
     "metadata": {},
     "outputs": []
    }
   ],
   "metadata": {}
  }
 ]
}